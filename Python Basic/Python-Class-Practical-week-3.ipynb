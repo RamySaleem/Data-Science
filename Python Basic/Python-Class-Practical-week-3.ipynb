{
 "cells": [
  {
   "cell_type": "markdown",
   "id": "fe61abd2",
   "metadata": {},
   "source": [
    "## Basic Python Practice"
   ]
  },
  {
   "cell_type": "markdown",
   "id": "6aace7e5",
   "metadata": {},
   "source": [
    "Shared Drive for files and data:\n",
    "    https://drive.google.com/drive/folders/1LaAQWaBZ1K4Vjeedy_vfvoPUXA4POI-z"
   ]
  },
  {
   "cell_type": "markdown",
   "id": "96c6ece7",
   "metadata": {},
   "source": [
    "### Indexing Strings"
   ]
  },
  {
   "cell_type": "code",
   "execution_count": 1,
   "id": "6f5055f1",
   "metadata": {},
   "outputs": [
    {
     "name": "stdout",
     "output_type": "stream",
     "text": [
      "John Doe\n"
     ]
    }
   ],
   "source": [
    "name = 'John Doe'\n",
    "print(name)"
   ]
  },
  {
   "cell_type": "code",
   "execution_count": 2,
   "id": "d81d1c44",
   "metadata": {},
   "outputs": [
    {
     "name": "stdout",
     "output_type": "stream",
     "text": [
      "h\n"
     ]
    }
   ],
   "source": [
    "# index starts from 0 to n-1 .....0-7\n",
    "\n",
    "# 0 = J\n",
    "# 1 = o\n",
    "# 2 = h\n",
    "# 3 = n .... and so on\n",
    "\n",
    "print(name[2])"
   ]
  },
  {
   "cell_type": "code",
   "execution_count": 3,
   "id": "2eed17a4",
   "metadata": {},
   "outputs": [
    {
     "name": "stdout",
     "output_type": "stream",
     "text": [
      "H\n",
      "e\n",
      "l\n",
      "l\n",
      "o\n",
      " \n",
      "w\n",
      "o\n",
      "r\n",
      "l\n",
      "d\n",
      "!\n"
     ]
    }
   ],
   "source": [
    "for i in 'Hello world!':\n",
    "    print(i)"
   ]
  },
  {
   "cell_type": "code",
   "execution_count": 4,
   "id": "9cbb72fe",
   "metadata": {},
   "outputs": [
    {
     "name": "stdout",
     "output_type": "stream",
     "text": [
      "12\n"
     ]
    }
   ],
   "source": [
    "pan = 'AXATZ7837650'\n",
    "print(len(pan))"
   ]
  },
  {
   "cell_type": "markdown",
   "id": "7d9e960e",
   "metadata": {},
   "source": [
    "### Search string values using is "
   ]
  },
  {
   "cell_type": "code",
   "execution_count": 9,
   "id": "ed716e3f",
   "metadata": {},
   "outputs": [
    {
     "name": "stdout",
     "output_type": "stream",
     "text": [
      "Data is there in tw\n"
     ]
    }
   ],
   "source": [
    "tw = \"World economy groqwth is not as expected\"\n",
    "\n",
    "if 'is' in tw:\n",
    "    print('Data is there in tw')\n",
    "else:\n",
    "    print('Data is not there in tw string')"
   ]
  },
  {
   "cell_type": "code",
   "execution_count": 10,
   "id": "9dd86c16",
   "metadata": {},
   "outputs": [
    {
     "name": "stdout",
     "output_type": "stream",
     "text": [
      "Data is not there in tw string\n"
     ]
    }
   ],
   "source": [
    "tw = \"World economy groqwth is not as expected\"\n",
    "\n",
    "if 'of' in tw:\n",
    "    print('Data is there in tw')\n",
    "else:\n",
    "    print('Data is not there in tw string')"
   ]
  },
  {
   "cell_type": "markdown",
   "id": "97fd7047",
   "metadata": {},
   "source": [
    "### Slicing "
   ]
  },
  {
   "cell_type": "code",
   "execution_count": 11,
   "id": "e934b08c",
   "metadata": {},
   "outputs": [],
   "source": [
    "# string name[start,end]\n",
    "# start is inclusive. It include the particular index value\n",
    "# end is exclusive. It does not include particular index value"
   ]
  },
  {
   "cell_type": "code",
   "execution_count": 12,
   "id": "66d366bd",
   "metadata": {},
   "outputs": [
    {
     "name": "stdout",
     "output_type": "stream",
     "text": [
      "h\n"
     ]
    }
   ],
   "source": [
    "name ='John Doe'\n",
    "\n",
    "print(name[2])"
   ]
  },
  {
   "cell_type": "code",
   "execution_count": 13,
   "id": "77b39c5c",
   "metadata": {},
   "outputs": [
    {
     "name": "stdout",
     "output_type": "stream",
     "text": [
      "John\n"
     ]
    }
   ],
   "source": [
    "print(name[0:4])"
   ]
  },
  {
   "cell_type": "code",
   "execution_count": 14,
   "id": "fac7eb6b",
   "metadata": {},
   "outputs": [
    {
     "name": "stdout",
     "output_type": "stream",
     "text": [
      "John\n"
     ]
    }
   ],
   "source": [
    "print(name[:4])"
   ]
  },
  {
   "cell_type": "code",
   "execution_count": 15,
   "id": "46bec698",
   "metadata": {},
   "outputs": [
    {
     "name": "stdout",
     "output_type": "stream",
     "text": [
      "Doe\n"
     ]
    }
   ],
   "source": [
    "print(name[5:])"
   ]
  },
  {
   "cell_type": "code",
   "execution_count": 16,
   "id": "a8558b0d",
   "metadata": {},
   "outputs": [
    {
     "name": "stdout",
     "output_type": "stream",
     "text": [
      "John \n"
     ]
    }
   ],
   "source": [
    "print(name[:-3])"
   ]
  },
  {
   "cell_type": "code",
   "execution_count": 17,
   "id": "c495aac9",
   "metadata": {},
   "outputs": [
    {
     "name": "stdout",
     "output_type": "stream",
     "text": [
      "John\n"
     ]
    }
   ],
   "source": [
    "print(name[:-4])"
   ]
  },
  {
   "cell_type": "code",
   "execution_count": 20,
   "id": "1d955fa8",
   "metadata": {},
   "outputs": [
    {
     "name": "stdout",
     "output_type": "stream",
     "text": [
      "ohn\n"
     ]
    }
   ],
   "source": [
    "print(name[-7:-4])"
   ]
  },
  {
   "cell_type": "markdown",
   "id": "cbbb6db4",
   "metadata": {},
   "source": [
    "### upper and lower case"
   ]
  },
  {
   "cell_type": "code",
   "execution_count": 22,
   "id": "f42d8431",
   "metadata": {},
   "outputs": [
    {
     "name": "stdout",
     "output_type": "stream",
     "text": [
      "JOHN DOE\n"
     ]
    }
   ],
   "source": [
    "print(name.upper())"
   ]
  },
  {
   "cell_type": "code",
   "execution_count": 24,
   "id": "99266ad8",
   "metadata": {},
   "outputs": [
    {
     "name": "stdout",
     "output_type": "stream",
     "text": [
      "john doe\n"
     ]
    }
   ],
   "source": [
    "print(name.lower())"
   ]
  },
  {
   "cell_type": "markdown",
   "id": "50c9a2c7",
   "metadata": {},
   "source": [
    "### replace function"
   ]
  },
  {
   "cell_type": "code",
   "execution_count": 25,
   "id": "3137ef80",
   "metadata": {},
   "outputs": [
    {
     "name": "stdout",
     "output_type": "stream",
     "text": [
      "John Doe\n"
     ]
    }
   ],
   "source": [
    "print(name.replace('j', 'J'))"
   ]
  },
  {
   "cell_type": "markdown",
   "id": "c04b7ab6",
   "metadata": {},
   "source": [
    "### split fuction"
   ]
  },
  {
   "cell_type": "code",
   "execution_count": 26,
   "id": "29a2ab2f",
   "metadata": {},
   "outputs": [
    {
     "name": "stdout",
     "output_type": "stream",
     "text": [
      "['John', 'Doe']\n"
     ]
    }
   ],
   "source": [
    "print(name.split(\" \"))"
   ]
  },
  {
   "cell_type": "code",
   "execution_count": 29,
   "id": "0ff504e1",
   "metadata": {},
   "outputs": [
    {
     "name": "stdout",
     "output_type": "stream",
     "text": [
      "['J', 'hn D', 'e']\n"
     ]
    }
   ],
   "source": [
    "print(name.split(\"o\"))"
   ]
  },
  {
   "cell_type": "markdown",
   "id": "5b8f388d",
   "metadata": {},
   "source": [
    "### concatinate fuction"
   ]
  },
  {
   "cell_type": "code",
   "execution_count": 32,
   "id": "214ad080",
   "metadata": {},
   "outputs": [
    {
     "name": "stdout",
     "output_type": "stream",
     "text": [
      "John Doe\n"
     ]
    }
   ],
   "source": [
    "n1 = 'John'\n",
    "n2 = 'Doe'\n",
    "\n",
    "nam = n1 + ' ' + n2 \n",
    "print(nam)"
   ]
  },
  {
   "cell_type": "markdown",
   "id": "a51b6b6f",
   "metadata": {},
   "source": [
    "### Change values in list"
   ]
  },
  {
   "cell_type": "code",
   "execution_count": 42,
   "id": "8cd3a522",
   "metadata": {},
   "outputs": [
    {
     "name": "stdout",
     "output_type": "stream",
     "text": [
      "['Apple', 'Banana', 'Cherries']\n",
      "---------------------------------\n",
      "['Apple', 'Banana', 'Cherries']\n"
     ]
    }
   ],
   "source": [
    "list1 = ['Apple', 'Banana', 'Cherries']\n",
    "print(list1)\n",
    "print('---------------------------------')\n",
    "list1[1:3]\n",
    "print(list1)"
   ]
  },
  {
   "cell_type": "code",
   "execution_count": 43,
   "id": "2cab0e1f",
   "metadata": {},
   "outputs": [
    {
     "name": "stdout",
     "output_type": "stream",
     "text": [
      "['Apple', 'Mangoes', 'Cherries']\n"
     ]
    }
   ],
   "source": [
    "list1[1] = 'Mangoes'\n",
    "print(list1)"
   ]
  },
  {
   "cell_type": "code",
   "execution_count": 44,
   "id": "95d70cce",
   "metadata": {},
   "outputs": [
    {
     "name": "stdout",
     "output_type": "stream",
     "text": [
      "['Cherries']\n"
     ]
    }
   ],
   "source": [
    "print(list1[2:3])"
   ]
  },
  {
   "cell_type": "code",
   "execution_count": 45,
   "id": "e1c6b29c",
   "metadata": {},
   "outputs": [
    {
     "name": "stdout",
     "output_type": "stream",
     "text": [
      "['Apple', 'Mangoes', 'Cherries']\n"
     ]
    }
   ],
   "source": [
    "print(list1)"
   ]
  },
  {
   "cell_type": "code",
   "execution_count": 46,
   "id": "b0db42e9",
   "metadata": {},
   "outputs": [
    {
     "name": "stdout",
     "output_type": "stream",
     "text": [
      "['Apple', 'Joapha', 'Mangoes', 'Cherries']\n"
     ]
    }
   ],
   "source": [
    "list1.insert(1, 'Joapha')\n",
    "print(list1)"
   ]
  },
  {
   "cell_type": "markdown",
   "id": "ce6800d1",
   "metadata": {},
   "source": [
    "### extend"
   ]
  },
  {
   "cell_type": "code",
   "execution_count": 51,
   "id": "3ae6e9c8",
   "metadata": {},
   "outputs": [
    {
     "name": "stdout",
     "output_type": "stream",
     "text": [
      "['Apple', 'Joapha', 'Cherries', 'Mangoes', 'Cherries', 'Mangoes', 'Cherries']\n"
     ]
    }
   ],
   "source": [
    "list2 = ['Mangoes', 'Cherries']\n",
    "list1.extend(list2)\n",
    "print(list1)"
   ]
  },
  {
   "cell_type": "markdown",
   "id": "c5cb754b",
   "metadata": {},
   "source": [
    "### remove"
   ]
  },
  {
   "cell_type": "code",
   "execution_count": 52,
   "id": "4b6acf78",
   "metadata": {},
   "outputs": [
    {
     "name": "stdout",
     "output_type": "stream",
     "text": [
      "['Apple', 'Joapha', 'Cherries', 'Cherries', 'Mangoes', 'Cherries']\n"
     ]
    }
   ],
   "source": [
    "list1.remove('Mangoes')\n",
    "print(list1)"
   ]
  },
  {
   "cell_type": "code",
   "execution_count": 54,
   "id": "e79f7295",
   "metadata": {},
   "outputs": [
    {
     "name": "stdout",
     "output_type": "stream",
     "text": [
      "['Apple', 'Joapha', 'Banana', 'Cherries', 'Mangoes', 'Cherries']\n"
     ]
    }
   ],
   "source": [
    "list1[2] = 'Banana'\n",
    "print(list1)"
   ]
  },
  {
   "cell_type": "markdown",
   "id": "188a3a0b",
   "metadata": {},
   "source": [
    "### pop"
   ]
  },
  {
   "cell_type": "code",
   "execution_count": 55,
   "id": "7e27cbc0",
   "metadata": {},
   "outputs": [
    {
     "name": "stdout",
     "output_type": "stream",
     "text": [
      "['Apple', 'Joapha', 'Banana', 'Cherries', 'Mangoes']\n"
     ]
    }
   ],
   "source": [
    "list1.pop(-1)\n",
    "print(list1)"
   ]
  },
  {
   "cell_type": "markdown",
   "id": "2393853b",
   "metadata": {},
   "source": [
    "### del"
   ]
  },
  {
   "cell_type": "code",
   "execution_count": 56,
   "id": "37226e4f",
   "metadata": {},
   "outputs": [
    {
     "name": "stdout",
     "output_type": "stream",
     "text": [
      "['Mangoes']\n"
     ]
    }
   ],
   "source": [
    "del list2[1]\n",
    "print(list2)"
   ]
  },
  {
   "cell_type": "code",
   "execution_count": 57,
   "id": "cccc879e",
   "metadata": {},
   "outputs": [
    {
     "name": "stdout",
     "output_type": "stream",
     "text": [
      "['Apple', 'Joapha', 'Banana', 'Cherries', 'Mangoes', 'Cherries']\n",
      "-----------------------------------------------------------------\n",
      "['Apple', 'Banana', 'Cherries', 'Mangoes', 'Cherries']\n"
     ]
    }
   ],
   "source": [
    "list1 = ['Apple', 'Joapha', 'Banana', 'Cherries', 'Mangoes', 'Cherries']\n",
    "print(list1)\n",
    "print('-----------------------------------------------------------------')\n",
    "del list1[1]\n",
    "print(list1)"
   ]
  },
  {
   "cell_type": "code",
   "execution_count": 58,
   "id": "f8fb7c2a",
   "metadata": {},
   "outputs": [
    {
     "name": "stdout",
     "output_type": "stream",
     "text": [
      "Apple\n",
      "Banana\n",
      "Cherries\n",
      "Mangoes\n",
      "Cherries\n"
     ]
    }
   ],
   "source": [
    "for i in range(len(list1)):\n",
    "    print(list1[i])"
   ]
  },
  {
   "cell_type": "markdown",
   "id": "23e4a794",
   "metadata": {},
   "source": [
    "### sort"
   ]
  },
  {
   "cell_type": "code",
   "execution_count": 74,
   "id": "1c32144d",
   "metadata": {},
   "outputs": [
    {
     "name": "stdout",
     "output_type": "stream",
     "text": [
      "['Apple', 'Banana', 'Cherries', 'Mangoes']\n"
     ]
    }
   ],
   "source": [
    "list1.sort()\n",
    "print(list1)"
   ]
  },
  {
   "cell_type": "code",
   "execution_count": 79,
   "id": "970d754f",
   "metadata": {},
   "outputs": [
    {
     "name": "stdout",
     "output_type": "stream",
     "text": [
      "[1, 2, 3, 4, 5]\n"
     ]
    }
   ],
   "source": [
    "a = [1, 2, 3, 4, 5]\n",
    "a.sort()\n",
    "print(a)"
   ]
  },
  {
   "cell_type": "code",
   "execution_count": 78,
   "id": "7741d78f",
   "metadata": {},
   "outputs": [
    {
     "name": "stdout",
     "output_type": "stream",
     "text": [
      "[5, 4, 3, 2, 1]\n"
     ]
    }
   ],
   "source": [
    "a = [1, 2, 3, 4, 5]\n",
    "a.sort(reverse = True)\n",
    "print(a)"
   ]
  },
  {
   "cell_type": "markdown",
   "id": "d9d4c22c",
   "metadata": {},
   "source": [
    "### List conperhention"
   ]
  },
  {
   "cell_type": "code",
   "execution_count": 62,
   "id": "b661c6f5",
   "metadata": {},
   "outputs": [
    {
     "name": "stdout",
     "output_type": "stream",
     "text": [
      "['Apple', 'Banana']\n"
     ]
    }
   ],
   "source": [
    "list1 = ['Apple', 'Banana', 'Mangoes', 'Cherries']\n",
    "newlist = []\n",
    "\n",
    "for i in list1:\n",
    "    if 'A' in i:\n",
    "        newlist.append(i)\n",
    "    elif 'B' in i:\n",
    "        newlist.append(i)\n",
    "print(newlist)"
   ]
  },
  {
   "cell_type": "code",
   "execution_count": 72,
   "id": "86efc193",
   "metadata": {},
   "outputs": [
    {
     "name": "stdout",
     "output_type": "stream",
     "text": [
      "['Apple']\n"
     ]
    }
   ],
   "source": [
    "newlist = [i for i in list1 if 'A' in i]\n",
    "print(newlist)"
   ]
  },
  {
   "cell_type": "markdown",
   "id": "0eaba15c",
   "metadata": {},
   "source": [
    "### copy"
   ]
  },
  {
   "cell_type": "code",
   "execution_count": 84,
   "id": "14877b81",
   "metadata": {},
   "outputs": [
    {
     "name": "stdout",
     "output_type": "stream",
     "text": [
      "['Apple', 'Banana', 'Cherries', 'Mangoes']\n"
     ]
    }
   ],
   "source": [
    "list111 = list1.copy()\n",
    "print(list111)"
   ]
  },
  {
   "cell_type": "markdown",
   "id": "760341ef",
   "metadata": {},
   "source": [
    "## Tuple"
   ]
  },
  {
   "cell_type": "code",
   "execution_count": 87,
   "id": "cdd25389",
   "metadata": {},
   "outputs": [
    {
     "name": "stdout",
     "output_type": "stream",
     "text": [
      "('Apple', 'Banana', 'Mangoes')\n"
     ]
    }
   ],
   "source": [
    "tup1 = ('Apple', 'Banana', 'Mangoes')\n",
    "print(tup1)"
   ]
  },
  {
   "cell_type": "code",
   "execution_count": 88,
   "id": "6fa85945",
   "metadata": {},
   "outputs": [
    {
     "name": "stdout",
     "output_type": "stream",
     "text": [
      "Apple\n",
      "Banana\n",
      "Mangoes\n"
     ]
    }
   ],
   "source": [
    "for i in tup1:\n",
    "    print(i)"
   ]
  },
  {
   "cell_type": "code",
   "execution_count": 89,
   "id": "b2fb2ec3",
   "metadata": {},
   "outputs": [
    {
     "name": "stdout",
     "output_type": "stream",
     "text": [
      "Banana\n"
     ]
    }
   ],
   "source": [
    "print(tup1[1])"
   ]
  },
  {
   "cell_type": "code",
   "execution_count": 91,
   "id": "606dcb1d",
   "metadata": {},
   "outputs": [
    {
     "name": "stdout",
     "output_type": "stream",
     "text": [
      "('Apple', 'Banana', 'Mangoes', 1, 2, 3, 4, 5)\n"
     ]
    }
   ],
   "source": [
    "tup2 = (1, 2, 3, 4, 5)\n",
    "tup3 = tup1 + tup2\n",
    "print(tup3)"
   ]
  },
  {
   "cell_type": "markdown",
   "id": "acbcdf6f",
   "metadata": {},
   "source": [
    "## Sets"
   ]
  },
  {
   "cell_type": "code",
   "execution_count": 1,
   "id": "c19bc11d",
   "metadata": {},
   "outputs": [
    {
     "name": "stdout",
     "output_type": "stream",
     "text": [
      "{'Germany', 'USA', 'Uk'}\n"
     ]
    }
   ],
   "source": [
    "set1 = {'Uk', 'USA', 'Germany'}\n",
    "print(set1)"
   ]
  },
  {
   "cell_type": "code",
   "execution_count": 3,
   "id": "a2ef6050",
   "metadata": {},
   "outputs": [
    {
     "name": "stdout",
     "output_type": "stream",
     "text": [
      "{'Germany', 'UK', 'USA'}\n"
     ]
    }
   ],
   "source": [
    "# We can not have a duplicates in sets\n",
    "set1 = {'UK', 'USA', 'Germany', 'USA', 'Germany'}\n",
    "print(set1)"
   ]
  },
  {
   "cell_type": "code",
   "execution_count": 4,
   "id": "a3cecf6e",
   "metadata": {},
   "outputs": [
    {
     "name": "stdout",
     "output_type": "stream",
     "text": [
      "3\n"
     ]
    }
   ],
   "source": [
    "print(len(set1))"
   ]
  },
  {
   "cell_type": "code",
   "execution_count": 6,
   "id": "f5a7cde1",
   "metadata": {},
   "outputs": [
    {
     "data": {
      "text/plain": [
       "set"
      ]
     },
     "execution_count": 6,
     "metadata": {},
     "output_type": "execute_result"
    }
   ],
   "source": [
    "type(set1)"
   ]
  },
  {
   "cell_type": "code",
   "execution_count": 8,
   "id": "afc1e860",
   "metadata": {},
   "outputs": [
    {
     "name": "stdout",
     "output_type": "stream",
     "text": [
      "{'Germany', 'UK', 'USA'}\n"
     ]
    }
   ],
   "source": [
    "# set() constructor\n",
    "set1 = set(('UK', 'USA', 'Germany'))\n",
    "print(set1)"
   ]
  },
  {
   "cell_type": "markdown",
   "id": "ee6c60d8",
   "metadata": {},
   "source": [
    "### union ()"
   ]
  },
  {
   "cell_type": "code",
   "execution_count": 13,
   "id": "25b16fc1",
   "metadata": {},
   "outputs": [
    {
     "name": "stdout",
     "output_type": "stream",
     "text": [
      "{'Germnay', 'USA', 40, 10, 50, 20, 'UK', 30}\n"
     ]
    }
   ],
   "source": [
    "# create a new set\n",
    "set1 = {'UK', 'USA', 'Germnay'}\n",
    "set2 = {10, 20, 30, 40, 50}\n",
    "# union()\n",
    "set3 = set1.union(set2)\n",
    "print(set3)"
   ]
  },
  {
   "cell_type": "markdown",
   "id": "bcb5826c",
   "metadata": {},
   "source": [
    "### update ()"
   ]
  },
  {
   "cell_type": "code",
   "execution_count": 14,
   "id": "1a3b9464",
   "metadata": {},
   "outputs": [
    {
     "name": "stdout",
     "output_type": "stream",
     "text": [
      "{'Germnay', 'USA', 40, 10, 50, 20, 'UK', 30}\n"
     ]
    }
   ],
   "source": [
    "# we are updating the already created set\n",
    "set1 = {'UK', 'USA', 'Germnay'}\n",
    "set2 = {10, 20, 30, 40, 50}\n",
    "# update()\n",
    "set1.update(set2)\n",
    "print(set1)"
   ]
  },
  {
   "cell_type": "markdown",
   "id": "ffec4acb",
   "metadata": {},
   "source": [
    "### intersection ()"
   ]
  },
  {
   "cell_type": "code",
   "execution_count": 15,
   "id": "6930ca5c",
   "metadata": {},
   "outputs": [
    {
     "name": "stdout",
     "output_type": "stream",
     "text": [
      "{'Germany'}\n"
     ]
    }
   ],
   "source": [
    "# It just to keep only the duplicate values\n",
    "set1 = {'UK', 'USA', 'Germany'}\n",
    "set2 = {'KSA', 'Italy', 'Germany', 'India'}\n",
    "\n",
    "set3 = set1.intersection(set2)\n",
    "print(set3)"
   ]
  },
  {
   "cell_type": "markdown",
   "id": "9a565d7a",
   "metadata": {},
   "source": [
    "### intersection_update()"
   ]
  },
  {
   "cell_type": "code",
   "execution_count": 19,
   "id": "21750cca",
   "metadata": {},
   "outputs": [
    {
     "name": "stdout",
     "output_type": "stream",
     "text": [
      "{'Germany'}\n"
     ]
    }
   ],
   "source": [
    "# It just update the already created set by the duplicate values\n",
    "set1 = {'UK', 'USA', 'Germany'}\n",
    "set2 = {'KSA', 'Italy', 'Germany', 'India'}\n",
    "\n",
    "set1.intersection_update(set2)\n",
    "print(set1)"
   ]
  },
  {
   "cell_type": "markdown",
   "id": "14e3acad",
   "metadata": {},
   "source": [
    "### symmetric_difference"
   ]
  },
  {
   "cell_type": "code",
   "execution_count": 26,
   "id": "d019c6fc",
   "metadata": {},
   "outputs": [
    {
     "name": "stdout",
     "output_type": "stream",
     "text": [
      "{'Ally', 'John', 'Marry', 'Tom', 'Jerry'}\n"
     ]
    }
   ],
   "source": [
    "# To just update the already created set by the difference values\n",
    "# none duplicates values\n",
    "team1 = {'Tom', 'Alice', 'John'}\n",
    "team2 = {'Ally', 'Marry', 'Alice', 'Jerry'}\n",
    "\n",
    "team3 = team1.symmetric_difference(team2)\n",
    "# \"Alice\" can only be in one sport team\n",
    "print(team3)"
   ]
  },
  {
   "cell_type": "markdown",
   "id": "658f2b70",
   "metadata": {},
   "source": [
    "### symmetric_difference_update"
   ]
  },
  {
   "cell_type": "code",
   "execution_count": 27,
   "id": "9813e19b",
   "metadata": {},
   "outputs": [
    {
     "name": "stdout",
     "output_type": "stream",
     "text": [
      "{'India', 'USA', 'Italy', 'UK', 'KSA'}\n"
     ]
    }
   ],
   "source": [
    "# To just update the already created set by the difference values\n",
    "# none duplicates values\n",
    "set1 = {'UK', 'USA', 'Germany'}\n",
    "set2 = {'KSA', 'Italy', 'Germany', 'India'}\n",
    "\n",
    "set1.symmetric_difference_update(set2)\n",
    "print(set1)"
   ]
  },
  {
   "cell_type": "code",
   "execution_count": 28,
   "id": "ae33ed45",
   "metadata": {},
   "outputs": [
    {
     "name": "stdout",
     "output_type": "stream",
     "text": [
      "{'Ally', 'John', 'Marry', 'Tom', 'Jerry'}\n"
     ]
    }
   ],
   "source": [
    "# To just update the already created set by the difference values\n",
    "# none duplicates values\n",
    "team1 = {'Tom', 'Alice', 'John'}\n",
    "team2 = {'Ally', 'Marry', 'Alice', 'Jerry'}\n",
    "\n",
    "team1.symmetric_difference_update(team2)\n",
    "# \"Alice\" can only be in one sport team\n",
    "print(team1)"
   ]
  },
  {
   "cell_type": "code",
   "execution_count": 29,
   "id": "218147d1",
   "metadata": {},
   "outputs": [
    {
     "name": "stdout",
     "output_type": "stream",
     "text": [
      "Tom\n",
      "Alice\n",
      "John\n"
     ]
    }
   ],
   "source": [
    "team1 = {'Tom', 'Alice', 'John'}\n",
    "\n",
    "for i in team1:\n",
    "    print(i)"
   ]
  },
  {
   "cell_type": "code",
   "execution_count": 30,
   "id": "05c1040e",
   "metadata": {},
   "outputs": [
    {
     "name": "stdout",
     "output_type": "stream",
     "text": [
      "0\n",
      "1\n",
      "2\n",
      "3\n",
      "4\n",
      "5\n",
      "6\n",
      "7\n",
      "8\n",
      "9\n"
     ]
    }
   ],
   "source": [
    "team1 = {'Tom', 'Alice', 'Jhon'}\n",
    "\n",
    "i = 0\n",
    "while i <10:\n",
    "    print(i)\n",
    "    i += 1 "
   ]
  },
  {
   "cell_type": "code",
   "execution_count": 32,
   "id": "c4b27a29",
   "metadata": {},
   "outputs": [
    {
     "name": "stdout",
     "output_type": "stream",
     "text": [
      "\n",
      "*\n",
      "**\n",
      "***\n",
      "****\n",
      "*****\n",
      "******\n",
      "*******\n",
      "********\n",
      "*********\n"
     ]
    }
   ],
   "source": [
    "i = 0\n",
    "while i <10:\n",
    "    print('*' * i)\n",
    "    i += 1"
   ]
  },
  {
   "cell_type": "code",
   "execution_count": 43,
   "id": "44a1b9bb",
   "metadata": {},
   "outputs": [
    {
     "name": "stdout",
     "output_type": "stream",
     "text": [
      "**********\n",
      "*********\n",
      "********\n",
      "*******\n",
      "******\n",
      "*****\n",
      "****\n",
      "***\n",
      "**\n",
      "*\n"
     ]
    }
   ],
   "source": [
    "i = 10\n",
    "while i >0:\n",
    "    print('*' * i)\n",
    "    i -= 1"
   ]
  },
  {
   "cell_type": "markdown",
   "id": "bd998644",
   "metadata": {},
   "source": [
    "## Dictionaries"
   ]
  },
  {
   "cell_type": "code",
   "execution_count": 50,
   "id": "dee6409f",
   "metadata": {},
   "outputs": [
    {
     "name": "stdout",
     "output_type": "stream",
     "text": [
      "{'name': 'Alice', 'Age': 22, 'City': ['Milan', 'Delhi', 'Khartoum', 'Aberdeen', 'Dublin']}\n"
     ]
    }
   ],
   "source": [
    "d1 = {\n",
    "        'name': 'Alice',\n",
    "        'Age' : 22,\n",
    "        'City' : ['Milan', 'Delhi', 'Khartoum', 'Aberdeen', 'Dublin']\n",
    "     }\n",
    "print(d1)"
   ]
  },
  {
   "cell_type": "code",
   "execution_count": 51,
   "id": "8ad08a8b",
   "metadata": {},
   "outputs": [
    {
     "data": {
      "text/plain": [
       "dict_keys(['name', 'Age', 'City'])"
      ]
     },
     "execution_count": 51,
     "metadata": {},
     "output_type": "execute_result"
    }
   ],
   "source": [
    "d1.keys()"
   ]
  },
  {
   "cell_type": "code",
   "execution_count": 52,
   "id": "ee777ff4",
   "metadata": {},
   "outputs": [
    {
     "data": {
      "text/plain": [
       "dict_values(['Alice', 22, ['Milan', 'Delhi', 'Khartoum', 'Aberdeen', 'Dublin']])"
      ]
     },
     "execution_count": 52,
     "metadata": {},
     "output_type": "execute_result"
    }
   ],
   "source": [
    "d1.values()"
   ]
  },
  {
   "cell_type": "code",
   "execution_count": 53,
   "id": "131ddff6",
   "metadata": {},
   "outputs": [
    {
     "data": {
      "text/plain": [
       "3"
      ]
     },
     "execution_count": 53,
     "metadata": {},
     "output_type": "execute_result"
    }
   ],
   "source": [
    "len(d1)"
   ]
  },
  {
   "cell_type": "code",
   "execution_count": 55,
   "id": "6519d139",
   "metadata": {},
   "outputs": [
    {
     "name": "stdout",
     "output_type": "stream",
     "text": [
      "[0, 1, 2, 3, 4, 5, 6, 7, 8, 9, 10, 11, 12, 13, 14, 15, 16, 17, 18, 19]\n"
     ]
    }
   ],
   "source": [
    "names_ls = [i for i in range(20)]\n",
    "print(names_ls)"
   ]
  },
  {
   "cell_type": "code",
   "execution_count": 61,
   "id": "53603bc7",
   "metadata": {},
   "outputs": [],
   "source": [
    "cities = ['Khartoum', 'Dublin', 'Aberdeen', 'London', 'Delhi', 'Glasgow', 'Leeds']"
   ]
  },
  {
   "cell_type": "code",
   "execution_count": 64,
   "id": "22076844",
   "metadata": {},
   "outputs": [
    {
     "name": "stdout",
     "output_type": "stream",
     "text": [
      "['Aberdeen']\n"
     ]
    }
   ],
   "source": [
    "cities_names_ls = [city for city in cities if 'A' in city]\n",
    "print(cities_names_ls)"
   ]
  },
  {
   "cell_type": "code",
   "execution_count": 67,
   "id": "81c05ab6",
   "metadata": {},
   "outputs": [
    {
     "data": {
      "text/plain": [
       "dict_keys"
      ]
     },
     "execution_count": 67,
     "metadata": {},
     "output_type": "execute_result"
    }
   ],
   "source": [
    "type(d1.keys())"
   ]
  },
  {
   "cell_type": "code",
   "execution_count": 66,
   "id": "d44900ce",
   "metadata": {},
   "outputs": [
    {
     "name": "stdout",
     "output_type": "stream",
     "text": [
      "Alice\n",
      "22\n",
      "['Milan', 'Delhi', 'Khartoum', 'Aberdeen', 'Dublin']\n"
     ]
    }
   ],
   "source": [
    "for k in d1.values():\n",
    "    print(k)"
   ]
  },
  {
   "cell_type": "code",
   "execution_count": 76,
   "id": "bd9c37fb",
   "metadata": {},
   "outputs": [],
   "source": [
    "values_ls = d1.values()"
   ]
  },
  {
   "cell_type": "code",
   "execution_count": 79,
   "id": "fcd23f90",
   "metadata": {},
   "outputs": [
    {
     "data": {
      "text/plain": [
       "dict_values(['Alice', 22, ['Milan', 'Delhi', 'Khartoum', 'Aberdeen', 'Dublin']])"
      ]
     },
     "execution_count": 79,
     "metadata": {},
     "output_type": "execute_result"
    }
   ],
   "source": [
    "values_ls"
   ]
  },
  {
   "cell_type": "code",
   "execution_count": 83,
   "id": "037c610f",
   "metadata": {},
   "outputs": [
    {
     "name": "stdout",
     "output_type": "stream",
     "text": [
      "Alice\n",
      "22\n",
      "['Milan', 'Delhi', 'Khartoum', 'Aberdeen', 'Dublin']\n"
     ]
    }
   ],
   "source": [
    "\n",
    "k = 0\n",
    "while k < len(list(d1.values())):\n",
    "    print(list(d1.values())[k])\n",
    "    k += 1"
   ]
  },
  {
   "cell_type": "markdown",
   "id": "7294a413",
   "metadata": {},
   "source": [
    "### dict()"
   ]
  },
  {
   "cell_type": "code",
   "execution_count": 102,
   "id": "cad82f10",
   "metadata": {},
   "outputs": [
    {
     "name": "stdout",
     "output_type": "stream",
     "text": [
      "{'Name': 'Alice', 'Age': 22, 'City': ['Milan', 'Delhi', 'Khartoum', 'Aberdeen', 'Dublin']}\n"
     ]
    }
   ],
   "source": [
    "dict1 = dict(Name = 'Alice',\n",
    "        Age = 22,\n",
    "        City = ['Milan', 'Delhi', 'Khartoum', 'Aberdeen', 'Dublin'])\n",
    "print(dict1)"
   ]
  },
  {
   "cell_type": "code",
   "execution_count": 103,
   "id": "386ad885",
   "metadata": {},
   "outputs": [
    {
     "name": "stdout",
     "output_type": "stream",
     "text": [
      "{'city': 'Kharotum', 'Age': 20, 'Name': 'Ramy'}\n"
     ]
    }
   ],
   "source": [
    "d2 = dict(city = 'Kharotum', Age = 20, Name = 'Ramy')\n",
    "print(d2)"
   ]
  },
  {
   "cell_type": "markdown",
   "id": "f5c60ce8",
   "metadata": {},
   "source": [
    "### update ()"
   ]
  },
  {
   "cell_type": "code",
   "execution_count": 104,
   "id": "38509df2",
   "metadata": {},
   "outputs": [
    {
     "name": "stdout",
     "output_type": "stream",
     "text": [
      "{'name': 'Alice', 'Age': 22, 'City': ['Milan', 'Delhi', 'Khartoum', 'Aberdeen', 'Dublin']}\n"
     ]
    }
   ],
   "source": [
    "d1 = {\n",
    "        'name': 'Alice',\n",
    "        'Age' : 22,\n",
    "        'City' : ['Milan', 'Delhi', 'Khartoum', 'Aberdeen', 'Dublin']\n",
    "     }\n",
    "print(d1)"
   ]
  },
  {
   "cell_type": "code",
   "execution_count": 105,
   "id": "7c5437e9",
   "metadata": {},
   "outputs": [
    {
     "name": "stdout",
     "output_type": "stream",
     "text": [
      "{'name': 'Alice', 'Age': 22, 'City': ['Milan', 'Delhi', 'Khartoum', 'Aberdeen', 'Dublin'], 'Number': 123456789}\n"
     ]
    }
   ],
   "source": [
    "d1.update({'Number' : 123456789})\n",
    "print(d1)"
   ]
  },
  {
   "cell_type": "code",
   "execution_count": 106,
   "id": "3b040bee",
   "metadata": {},
   "outputs": [
    {
     "name": "stdout",
     "output_type": "stream",
     "text": [
      "{'name': 'Alice', 'Age': 22, 'City': ['Milan', 'Delhi', 'Khartoum', 'Aberdeen', 'Dublin'], 'Number': 987654321}\n"
     ]
    }
   ],
   "source": [
    "d1.update({'Number' : 987654321})\n",
    "print(d1)"
   ]
  },
  {
   "cell_type": "markdown",
   "id": "b635ebed",
   "metadata": {},
   "source": [
    "### pop ()"
   ]
  },
  {
   "cell_type": "code",
   "execution_count": 107,
   "id": "5e1159fa",
   "metadata": {},
   "outputs": [
    {
     "data": {
      "text/plain": [
       "22"
      ]
     },
     "execution_count": 107,
     "metadata": {},
     "output_type": "execute_result"
    }
   ],
   "source": [
    "d1.pop('Age')"
   ]
  },
  {
   "cell_type": "code",
   "execution_count": 108,
   "id": "9f4c99df",
   "metadata": {},
   "outputs": [
    {
     "data": {
      "text/plain": [
       "{'name': 'Alice',\n",
       " 'City': ['Milan', 'Delhi', 'Khartoum', 'Aberdeen', 'Dublin'],\n",
       " 'Number': 987654321}"
      ]
     },
     "execution_count": 108,
     "metadata": {},
     "output_type": "execute_result"
    }
   ],
   "source": [
    "d1"
   ]
  },
  {
   "cell_type": "markdown",
   "id": "2588ade4",
   "metadata": {},
   "source": [
    "### del"
   ]
  },
  {
   "cell_type": "code",
   "execution_count": 109,
   "id": "644ab735",
   "metadata": {},
   "outputs": [],
   "source": [
    "del d1['name']"
   ]
  },
  {
   "cell_type": "code",
   "execution_count": 110,
   "id": "28082324",
   "metadata": {},
   "outputs": [
    {
     "name": "stdout",
     "output_type": "stream",
     "text": [
      "{'City': ['Milan', 'Delhi', 'Khartoum', 'Aberdeen', 'Dublin'], 'Number': 987654321}\n"
     ]
    }
   ],
   "source": [
    "print(d1)"
   ]
  },
  {
   "cell_type": "markdown",
   "id": "dc8f1acf",
   "metadata": {},
   "source": [
    "### clear"
   ]
  },
  {
   "cell_type": "code",
   "execution_count": 112,
   "id": "5467cf8f",
   "metadata": {},
   "outputs": [
    {
     "name": "stdout",
     "output_type": "stream",
     "text": [
      "{}\n"
     ]
    }
   ],
   "source": [
    "d1.clear()\n",
    "print(d1)"
   ]
  },
  {
   "cell_type": "code",
   "execution_count": 113,
   "id": "94925dcd",
   "metadata": {},
   "outputs": [
    {
     "name": "stdout",
     "output_type": "stream",
     "text": [
      "{'name': 'Alice', 'Age': 22, 'City': ['Milan', 'Delhi', 'Khartoum', 'Aberdeen', 'Dublin']}\n"
     ]
    }
   ],
   "source": [
    "d1 = {\n",
    "        'name': 'Alice',\n",
    "        'Age' : 22,\n",
    "        'City' : ['Milan', 'Delhi', 'Khartoum', 'Aberdeen', 'Dublin']\n",
    "     }\n",
    "print(d1)"
   ]
  },
  {
   "cell_type": "code",
   "execution_count": 118,
   "id": "073fff81",
   "metadata": {},
   "outputs": [
    {
     "name": "stdout",
     "output_type": "stream",
     "text": [
      "Alice\n",
      "22\n",
      "['Milan', 'Delhi', 'Khartoum', 'Aberdeen', 'Dublin']\n"
     ]
    }
   ],
   "source": [
    "i = 0\n",
    "while i < len(d1.values()):\n",
    "    print(list(d1.values())[i])\n",
    "    i += 1"
   ]
  },
  {
   "cell_type": "code",
   "execution_count": 119,
   "id": "9814a93c",
   "metadata": {},
   "outputs": [
    {
     "name": "stdout",
     "output_type": "stream",
     "text": [
      "{'name': 'Alice', 'Age': 22, 'City': ['Milan', 'Delhi', 'Khartoum', 'Aberdeen', 'Dublin']}\n"
     ]
    }
   ],
   "source": [
    "d2 = d1.copy()\n",
    "print(d2)"
   ]
  },
  {
   "cell_type": "markdown",
   "id": "72da3914",
   "metadata": {},
   "source": [
    "### Nested dictionaries"
   ]
  },
  {
   "cell_type": "code",
   "execution_count": 120,
   "id": "17c7cd0d",
   "metadata": {},
   "outputs": [
    {
     "name": "stdout",
     "output_type": "stream",
     "text": [
      "{'d1': {'name': 'Alice', 'Age': 22, 'City': ['Milan', 'Delhi', 'Khartoum', 'Aberdeen', 'Dublin']}, 'd2': {'name': 'Alice', 'Age': 22, 'City': ['Milan', 'Delhi', 'Khartoum', 'Aberdeen', 'Dublin']}, 'd3': {'name': 'Alice', 'Age': 22, 'City': ['Milan', 'Delhi', 'Khartoum', 'Aberdeen', 'Dublin']}, 'd4': {'name': 'Alice', 'Age': 22, 'City': ['Milan', 'Delhi', 'Khartoum', 'Aberdeen', 'Dublin']}}\n"
     ]
    }
   ],
   "source": [
    "d = { 'd1' : {'name': 'Alice', 'Age': 22, 'City': ['Milan', 'Delhi', 'Khartoum', 'Aberdeen', 'Dublin']},\n",
    "      'd2'  : {'name': 'Alice', 'Age': 22, 'City': ['Milan', 'Delhi', 'Khartoum', 'Aberdeen', 'Dublin']},\n",
    "      'd3' : {'name': 'Alice', 'Age': 22, 'City': ['Milan', 'Delhi', 'Khartoum', 'Aberdeen', 'Dublin']},\n",
    "      'd4' : {'name': 'Alice', 'Age': 22, 'City': ['Milan', 'Delhi', 'Khartoum', 'Aberdeen', 'Dublin']}\n",
    "        \n",
    "        }\n",
    "print(d)"
   ]
  },
  {
   "cell_type": "markdown",
   "id": "ad9d989a",
   "metadata": {},
   "source": [
    "## User Define Functions"
   ]
  },
  {
   "cell_type": "code",
   "execution_count": 123,
   "id": "a13213f9",
   "metadata": {},
   "outputs": [],
   "source": [
    "def my_function():\n",
    "    return('This is my fuction')"
   ]
  },
  {
   "cell_type": "code",
   "execution_count": 124,
   "id": "c0fb77af",
   "metadata": {},
   "outputs": [
    {
     "data": {
      "text/plain": [
       "'This is my fuction'"
      ]
     },
     "execution_count": 124,
     "metadata": {},
     "output_type": "execute_result"
    }
   ],
   "source": [
    "my_function()"
   ]
  },
  {
   "cell_type": "code",
   "execution_count": 125,
   "id": "9b91e76d",
   "metadata": {},
   "outputs": [],
   "source": [
    "def my_name_fuction(name):\n",
    "    my_name = name + \" is a good performing student\"\n",
    "    return my_name"
   ]
  },
  {
   "cell_type": "code",
   "execution_count": 126,
   "id": "a48ef9c0",
   "metadata": {},
   "outputs": [
    {
     "data": {
      "text/plain": [
       "'Ramy Saleem is a good performing student'"
      ]
     },
     "execution_count": 126,
     "metadata": {},
     "output_type": "execute_result"
    }
   ],
   "source": [
    "my_name_fuction('Ramy Saleem')"
   ]
  },
  {
   "cell_type": "markdown",
   "id": "aadc2ac3",
   "metadata": {},
   "source": [
    "## Thank you!\n",
    "## Ramy Abdallah"
   ]
  }
 ],
 "metadata": {
  "kernelspec": {
   "display_name": "ML_comp",
   "language": "python",
   "name": "ml_comp"
  },
  "language_info": {
   "codemirror_mode": {
    "name": "ipython",
    "version": 3
   },
   "file_extension": ".py",
   "mimetype": "text/x-python",
   "name": "python",
   "nbconvert_exporter": "python",
   "pygments_lexer": "ipython3",
   "version": "3.9.10"
  }
 },
 "nbformat": 4,
 "nbformat_minor": 5
}
