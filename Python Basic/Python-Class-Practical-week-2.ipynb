{
 "cells": [
  {
   "cell_type": "markdown",
   "id": "ec90c7c7",
   "metadata": {},
   "source": [
    "# Basic Python Practice"
   ]
  },
  {
   "cell_type": "markdown",
   "id": "75d827d9",
   "metadata": {},
   "source": [
    "## Standard Input and Output"
   ]
  },
  {
   "cell_type": "code",
   "execution_count": 29,
   "id": "abe188a6",
   "metadata": {},
   "outputs": [
    {
     "name": "stdout",
     "output_type": "stream",
     "text": [
      "30\n"
     ]
    }
   ],
   "source": [
    "# Hard coded \n",
    "a = 10\n",
    "b = 20\n",
    "c = a + b\n",
    "print(c)"
   ]
  },
  {
   "cell_type": "code",
   "execution_count": 37,
   "id": "4ec9c493",
   "metadata": {},
   "outputs": [
    {
     "name": "stdout",
     "output_type": "stream",
     "text": [
      "Enter student name:Ramy\n",
      "Enter student Roll No:12345\n",
      "Welcome Ramy!, Your Roll Number is: 12345\n"
     ]
    }
   ],
   "source": [
    "# take input from the user\n",
    "name = input('Enter student name:')\n",
    "rn = input('Enter student Roll No:')\n",
    "\n",
    "print(f'Welcome {name}!, Your Roll Number is: {rn}')"
   ]
  },
  {
   "cell_type": "markdown",
   "id": "7dd89883",
   "metadata": {},
   "source": [
    "## Operators"
   ]
  },
  {
   "cell_type": "code",
   "execution_count": 211,
   "id": "261da728",
   "metadata": {},
   "outputs": [
    {
     "name": "stdout",
     "output_type": "stream",
     "text": [
      "13\n"
     ]
    }
   ],
   "source": [
    "a = 10\n",
    "b =  3\n",
    "\n",
    "# Arithmatic operators +, -, /, //, **, %......\n",
    "\n",
    "print(a + b)"
   ]
  },
  {
   "cell_type": "code",
   "execution_count": 212,
   "id": "600718e2",
   "metadata": {},
   "outputs": [
    {
     "name": "stdout",
     "output_type": "stream",
     "text": [
      "7\n"
     ]
    }
   ],
   "source": [
    "print(a - b)"
   ]
  },
  {
   "cell_type": "code",
   "execution_count": 213,
   "id": "443c4a9d",
   "metadata": {},
   "outputs": [
    {
     "name": "stdout",
     "output_type": "stream",
     "text": [
      "30\n"
     ]
    }
   ],
   "source": [
    "print(a * b)"
   ]
  },
  {
   "cell_type": "code",
   "execution_count": 214,
   "id": "c378751b",
   "metadata": {},
   "outputs": [
    {
     "name": "stdout",
     "output_type": "stream",
     "text": [
      "3.3333333333333335\n"
     ]
    }
   ],
   "source": [
    "# celling function as a float value\n",
    "print(a / b)"
   ]
  },
  {
   "cell_type": "code",
   "execution_count": 215,
   "id": "f8a282fb",
   "metadata": {},
   "outputs": [
    {
     "name": "stdout",
     "output_type": "stream",
     "text": [
      "3\n"
     ]
    }
   ],
   "source": [
    "# floor function for lowest possible value as int\n",
    "print(a // b) # Floor Division"
   ]
  },
  {
   "cell_type": "code",
   "execution_count": 9,
   "id": "917104e7",
   "metadata": {},
   "outputs": [
    {
     "name": "stdout",
     "output_type": "stream",
     "text": [
      "0\n"
     ]
    }
   ],
   "source": [
    "a = 25\n",
    "b = 5\n",
    "\n",
    "print(a % b) # 26/5 = 5 times but you remaining 1 still there."
   ]
  },
  {
   "cell_type": "code",
   "execution_count": 10,
   "id": "e6606af3",
   "metadata": {},
   "outputs": [
    {
     "name": "stdout",
     "output_type": "stream",
     "text": [
      "1\n"
     ]
    }
   ],
   "source": [
    "a = 26\n",
    "b = 5\n",
    "\n",
    "print(a % b) # 26/5 = 5 times but you remaining 1 still there."
   ]
  },
  {
   "cell_type": "code",
   "execution_count": 11,
   "id": "743cd1e7",
   "metadata": {},
   "outputs": [
    {
     "name": "stdout",
     "output_type": "stream",
     "text": [
      "2\n"
     ]
    }
   ],
   "source": [
    "a = 27\n",
    "b = 5\n",
    "\n",
    "print(a % b) # 26/5 = 5 times but you remaining 2 still there."
   ]
  },
  {
   "cell_type": "code",
   "execution_count": 14,
   "id": "626daee0",
   "metadata": {},
   "outputs": [
    {
     "name": "stdout",
     "output_type": "stream",
     "text": [
      "8\n"
     ]
    }
   ],
   "source": [
    "# Exponentioal operator\n",
    "\n",
    "a = 2\n",
    "b = 3\n",
    "print(a ** b) # 2**3 = 8, 2^2"
   ]
  },
  {
   "cell_type": "code",
   "execution_count": 15,
   "id": "cf800f77",
   "metadata": {},
   "outputs": [
    {
     "name": "stdout",
     "output_type": "stream",
     "text": [
      "16\n"
     ]
    }
   ],
   "source": [
    "a = 2\n",
    "b = 4\n",
    "print(a ** b)"
   ]
  },
  {
   "cell_type": "code",
   "execution_count": 16,
   "id": "e25fc829",
   "metadata": {},
   "outputs": [
    {
     "name": "stdout",
     "output_type": "stream",
     "text": [
      "False\n"
     ]
    }
   ],
   "source": [
    "a = 10\n",
    "b = 20\n",
    "\n",
    "print(a == b)"
   ]
  },
  {
   "cell_type": "code",
   "execution_count": 18,
   "id": "5cc774b8",
   "metadata": {},
   "outputs": [
    {
     "name": "stdout",
     "output_type": "stream",
     "text": [
      "True\n"
     ]
    }
   ],
   "source": [
    "print(a != b) # Not Equal condition. If it is not equal: output is True"
   ]
  },
  {
   "cell_type": "code",
   "execution_count": 19,
   "id": "c607772c",
   "metadata": {},
   "outputs": [
    {
     "name": "stdout",
     "output_type": "stream",
     "text": [
      "False\n"
     ]
    }
   ],
   "source": [
    "a = 10\n",
    "b = 15\n",
    "print(a > b)"
   ]
  },
  {
   "cell_type": "code",
   "execution_count": 20,
   "id": "ea29cbaa",
   "metadata": {},
   "outputs": [
    {
     "name": "stdout",
     "output_type": "stream",
     "text": [
      "True\n"
     ]
    }
   ],
   "source": [
    "print(a < b)"
   ]
  },
  {
   "cell_type": "code",
   "execution_count": 22,
   "id": "2c7c628f",
   "metadata": {},
   "outputs": [
    {
     "name": "stdout",
     "output_type": "stream",
     "text": [
      "False\n"
     ]
    }
   ],
   "source": [
    "print(a == b)"
   ]
  },
  {
   "cell_type": "code",
   "execution_count": 23,
   "id": "35c9e26f",
   "metadata": {},
   "outputs": [
    {
     "name": "stdout",
     "output_type": "stream",
     "text": [
      "True\n"
     ]
    }
   ],
   "source": [
    "print(a != b)"
   ]
  },
  {
   "cell_type": "code",
   "execution_count": 30,
   "id": "ef5f3669",
   "metadata": {},
   "outputs": [
    {
     "name": "stdout",
     "output_type": "stream",
     "text": [
      "False\n"
     ]
    }
   ],
   "source": [
    "a = 31\n",
    "b = 30\n",
    "\n",
    "print(a <= b) # <= or >="
   ]
  },
  {
   "cell_type": "code",
   "execution_count": 33,
   "id": "fb62e47e",
   "metadata": {},
   "outputs": [],
   "source": [
    "# We have to apply for a job: two conditions are there: (1) more than 60% marks, (2) IT background\n",
    "\n",
    "# Tom he has 75% and he is from Arts\n",
    "# Alice she has 61% and shhe is from Computer science\n",
    "\n",
    "#----------------------And-----------------------------\n",
    "\n",
    "# Alice will be qualified for the job\n",
    "\n",
    "#---------------------Or----------------------------\n",
    "# Tom and Alice will be qualified\n",
    "\n",
    "#----------------------Not------------------------------\n",
    "# Opposite to what you have"
   ]
  },
  {
   "cell_type": "code",
   "execution_count": 50,
   "id": "0e0e2547",
   "metadata": {},
   "outputs": [
    {
     "name": "stdout",
     "output_type": "stream",
     "text": [
      "False\n",
      "True\n"
     ]
    }
   ],
   "source": [
    "# Logical operators\n",
    "\n",
    "# And: a = 10 and b = 10, a and b = True\n",
    "# Or: a = 10 or b = 10, a or b = True\n",
    "\n",
    "a = True\n",
    "b = False\n",
    "\n",
    "print(a and b)\n",
    "print( a or b)"
   ]
  },
  {
   "cell_type": "code",
   "execution_count": 51,
   "id": "9ed01193",
   "metadata": {},
   "outputs": [
    {
     "name": "stdout",
     "output_type": "stream",
     "text": [
      "False\n",
      "True\n"
     ]
    }
   ],
   "source": [
    "print(not a)\n",
    "print(not b)"
   ]
  },
  {
   "cell_type": "code",
   "execution_count": 67,
   "id": "36185a62",
   "metadata": {},
   "outputs": [
    {
     "name": "stdout",
     "output_type": "stream",
     "text": [
      "0\n",
      "14\n"
     ]
    }
   ],
   "source": [
    "# binary numbers: 0,1    10 = 1010\n",
    "\n",
    "# AND operator: &\n",
    "a = 10 # 1010\n",
    "b = 4 # 0100\n",
    "result = a & b\n",
    "print(result)\n",
    "\n",
    "# & comapres each bit of the 1st operand with the 2nd.\n",
    "# if both bits are 1. The corresponding bit is set to 1 Otherwise 0\n",
    "\n",
    "# Or\n",
    "# | compares each bit of the 1st operand with the 2nd.\n",
    "#If either bit is 1, the corresponding result bit is set to 0\n",
    "\n",
    "result = a | b\n",
    "print(result)\n",
    "\n",
    "# 1 0 1 0 \n",
    "# 0 1 0 0 \n",
    "#--------\n",
    "# 1 1 1 0\n",
    "\n",
    "# 14 = 1110"
   ]
  },
  {
   "cell_type": "code",
   "execution_count": 64,
   "id": "c27b5b16",
   "metadata": {},
   "outputs": [
    {
     "data": {
      "text/plain": [
       "'0b1010'"
      ]
     },
     "execution_count": 64,
     "metadata": {},
     "output_type": "execute_result"
    }
   ],
   "source": [
    "# use bin function to convert any number to binary\n",
    "bin(a)"
   ]
  },
  {
   "cell_type": "code",
   "execution_count": 65,
   "id": "dc24633c",
   "metadata": {},
   "outputs": [
    {
     "data": {
      "text/plain": [
       "'0b100'"
      ]
     },
     "execution_count": 65,
     "metadata": {},
     "output_type": "execute_result"
    }
   ],
   "source": [
    "bin(b)"
   ]
  },
  {
   "cell_type": "code",
   "execution_count": 66,
   "id": "8ba15912",
   "metadata": {},
   "outputs": [],
   "source": [
    "# 1010\n",
    "# 0100\n",
    "#------\n",
    "# 1110"
   ]
  },
  {
   "cell_type": "code",
   "execution_count": 68,
   "id": "ee54b6f6",
   "metadata": {},
   "outputs": [
    {
     "name": "stdout",
     "output_type": "stream",
     "text": [
      "14\n"
     ]
    }
   ],
   "source": [
    "print(a | b)"
   ]
  },
  {
   "cell_type": "code",
   "execution_count": 69,
   "id": "910198b5",
   "metadata": {},
   "outputs": [],
   "source": [
    "a = 1\n",
    "b = 2"
   ]
  },
  {
   "cell_type": "code",
   "execution_count": 70,
   "id": "901697ac",
   "metadata": {},
   "outputs": [
    {
     "data": {
      "text/plain": [
       "'0b1'"
      ]
     },
     "execution_count": 70,
     "metadata": {},
     "output_type": "execute_result"
    }
   ],
   "source": [
    "bin(1)"
   ]
  },
  {
   "cell_type": "code",
   "execution_count": 71,
   "id": "6c272238",
   "metadata": {},
   "outputs": [
    {
     "data": {
      "text/plain": [
       "'0b10'"
      ]
     },
     "execution_count": 71,
     "metadata": {},
     "output_type": "execute_result"
    }
   ],
   "source": [
    "bin(2)"
   ]
  },
  {
   "cell_type": "code",
   "execution_count": 72,
   "id": "87ae044b",
   "metadata": {},
   "outputs": [],
   "source": [
    "# 01\n",
    "# 10 \n",
    "#----\n",
    "# 11"
   ]
  },
  {
   "cell_type": "code",
   "execution_count": 73,
   "id": "c1ea3daf",
   "metadata": {},
   "outputs": [
    {
     "name": "stdout",
     "output_type": "stream",
     "text": [
      "3\n"
     ]
    }
   ],
   "source": [
    "print(a|b)"
   ]
  },
  {
   "cell_type": "code",
   "execution_count": 74,
   "id": "c0eb22b2",
   "metadata": {},
   "outputs": [
    {
     "data": {
      "text/plain": [
       "'0b11'"
      ]
     },
     "execution_count": 74,
     "metadata": {},
     "output_type": "execute_result"
    }
   ],
   "source": [
    "bin(3)"
   ]
  },
  {
   "cell_type": "code",
   "execution_count": 76,
   "id": "0081e52e",
   "metadata": {},
   "outputs": [],
   "source": [
    "# 01\n",
    "# 10\n",
    "#----\n",
    "# 00"
   ]
  },
  {
   "cell_type": "code",
   "execution_count": 75,
   "id": "9547234c",
   "metadata": {},
   "outputs": [
    {
     "name": "stdout",
     "output_type": "stream",
     "text": [
      "0\n"
     ]
    }
   ],
   "source": [
    "print(a&b)"
   ]
  },
  {
   "cell_type": "code",
   "execution_count": 1,
   "id": "4890bca8",
   "metadata": {},
   "outputs": [
    {
     "name": "stdout",
     "output_type": "stream",
     "text": [
      "2\n"
     ]
    }
   ],
   "source": [
    "# Right Shhift\n",
    "a = 10 # 1010\n",
    "# result = a >> 2 # (2 = 0010)\n",
    "# print(result)\n",
    "\n",
    "# 1010\n",
    "# 0010\n",
    "\n",
    "# left shift\n",
    "result = a >> 2 #(2 = 0010)\n",
    "print(result)"
   ]
  },
  {
   "cell_type": "code",
   "execution_count": 2,
   "id": "de3aa953",
   "metadata": {},
   "outputs": [],
   "source": [
    "# 1010\n",
    "# 101000"
   ]
  },
  {
   "cell_type": "code",
   "execution_count": 4,
   "id": "3772e1f7",
   "metadata": {},
   "outputs": [
    {
     "name": "stdout",
     "output_type": "stream",
     "text": [
      "40\n"
     ]
    }
   ],
   "source": [
    "# Right shift\n",
    "result = a << 2 #(2 = 0010)\n",
    "print(result)"
   ]
  },
  {
   "cell_type": "code",
   "execution_count": 5,
   "id": "d5926726",
   "metadata": {},
   "outputs": [
    {
     "data": {
      "text/plain": [
       "'0b101000'"
      ]
     },
     "execution_count": 5,
     "metadata": {},
     "output_type": "execute_result"
    }
   ],
   "source": [
    "bin(40)"
   ]
  },
  {
   "cell_type": "code",
   "execution_count": 6,
   "id": "55de2724",
   "metadata": {},
   "outputs": [
    {
     "data": {
      "text/plain": [
       "'0b10'"
      ]
     },
     "execution_count": 6,
     "metadata": {},
     "output_type": "execute_result"
    }
   ],
   "source": [
    "bin(2)"
   ]
  },
  {
   "cell_type": "code",
   "execution_count": 9,
   "id": "6113f6d5",
   "metadata": {},
   "outputs": [
    {
     "name": "stdout",
     "output_type": "stream",
     "text": [
      "5\n"
     ]
    }
   ],
   "source": [
    "# Right Shift\n",
    "a = 10 # 1010\n",
    "result = a >>1\n",
    "\n",
    "print(result)\n",
    "\n",
    "# 10 = 1 0 1 0\n",
    "# 5 = 0 1 0 1"
   ]
  },
  {
   "cell_type": "code",
   "execution_count": 12,
   "id": "7677d5e4",
   "metadata": {},
   "outputs": [
    {
     "data": {
      "text/plain": [
       "'0b101'"
      ]
     },
     "execution_count": 12,
     "metadata": {},
     "output_type": "execute_result"
    }
   ],
   "source": [
    "bin(5)"
   ]
  },
  {
   "cell_type": "code",
   "execution_count": 24,
   "id": "9c605b50",
   "metadata": {},
   "outputs": [
    {
     "name": "stdout",
     "output_type": "stream",
     "text": [
      "20\n"
     ]
    }
   ],
   "source": [
    "# Left Shift\n",
    "\n",
    "a = 5\n",
    "print(a<<2)"
   ]
  },
  {
   "cell_type": "code",
   "execution_count": 25,
   "id": "9baff3f4",
   "metadata": {},
   "outputs": [
    {
     "data": {
      "text/plain": [
       "'0b101'"
      ]
     },
     "execution_count": 25,
     "metadata": {},
     "output_type": "execute_result"
    }
   ],
   "source": [
    "bin(5)"
   ]
  },
  {
   "cell_type": "code",
   "execution_count": 27,
   "id": "4e4bc995",
   "metadata": {},
   "outputs": [
    {
     "data": {
      "text/plain": [
       "'0b10100'"
      ]
     },
     "execution_count": 27,
     "metadata": {},
     "output_type": "execute_result"
    }
   ],
   "source": [
    "bin(20)"
   ]
  },
  {
   "cell_type": "code",
   "execution_count": 28,
   "id": "33df7a86",
   "metadata": {},
   "outputs": [
    {
     "name": "stdout",
     "output_type": "stream",
     "text": [
      "20\n"
     ]
    }
   ],
   "source": [
    "# Left shift\n",
    "a = 5\n",
    "result = a << 2\n",
    "print(result)\n",
    "\n",
    "# 5 = 0 1 0 1\n",
    "# 20 = 1 0 1 0 0"
   ]
  },
  {
   "cell_type": "code",
   "execution_count": 41,
   "id": "019cda2e",
   "metadata": {},
   "outputs": [
    {
     "name": "stdout",
     "output_type": "stream",
     "text": [
      "8\n"
     ]
    }
   ],
   "source": [
    "# Assignment Operators\n",
    "\n",
    "a = 5\n",
    "# a = a + 3\n",
    "\n",
    "a += 3 # a = a + 3\n",
    "print(a)"
   ]
  },
  {
   "cell_type": "code",
   "execution_count": 42,
   "id": "1aaa72bf",
   "metadata": {},
   "outputs": [
    {
     "name": "stdout",
     "output_type": "stream",
     "text": [
      "2\n"
     ]
    }
   ],
   "source": [
    "a = 5\n",
    "a -= 3\n",
    "\n",
    "print(a)"
   ]
  },
  {
   "cell_type": "code",
   "execution_count": 43,
   "id": "c4c05064",
   "metadata": {},
   "outputs": [
    {
     "name": "stdout",
     "output_type": "stream",
     "text": [
      "4\n"
     ]
    }
   ],
   "source": [
    "a = 2\n",
    "a *= 2\n",
    "print(a)"
   ]
  },
  {
   "cell_type": "code",
   "execution_count": 44,
   "id": "50c1e98b",
   "metadata": {},
   "outputs": [
    {
     "name": "stdout",
     "output_type": "stream",
     "text": [
      "5.0\n"
     ]
    }
   ],
   "source": [
    "a = 15\n",
    "a /= 3\n",
    "print(a)"
   ]
  },
  {
   "cell_type": "code",
   "execution_count": 97,
   "id": "22a22b0f",
   "metadata": {},
   "outputs": [
    {
     "name": "stdout",
     "output_type": "stream",
     "text": [
      "22\n"
     ]
    }
   ],
   "source": [
    "a = 22\n",
    "a + 1\n",
    "print(a)"
   ]
  },
  {
   "cell_type": "code",
   "execution_count": 99,
   "id": "e0ca7cc2",
   "metadata": {},
   "outputs": [
    {
     "data": {
      "text/plain": [
       "'spamspamspam'"
      ]
     },
     "execution_count": 99,
     "metadata": {},
     "output_type": "execute_result"
    }
   ],
   "source": [
    "'spam' + 'spamspam'"
   ]
  },
  {
   "cell_type": "code",
   "execution_count": 100,
   "id": "6391ccec",
   "metadata": {},
   "outputs": [
    {
     "data": {
      "text/plain": [
       "'spamspamspam'"
      ]
     },
     "execution_count": 100,
     "metadata": {},
     "output_type": "execute_result"
    }
   ],
   "source": [
    "'spam' * 3"
   ]
  },
  {
   "cell_type": "code",
   "execution_count": 173,
   "id": "eb7271e7",
   "metadata": {},
   "outputs": [],
   "source": [
    "import copy\n",
    "ls1 = [[1], 2, 3]\n",
    "ls2 = ['a', 'b', 'c']"
   ]
  },
  {
   "cell_type": "code",
   "execution_count": 174,
   "id": "52f64cea",
   "metadata": {},
   "outputs": [],
   "source": [
    "ls2 = copy.copy(ls1)"
   ]
  },
  {
   "cell_type": "code",
   "execution_count": 175,
   "id": "5caf782c",
   "metadata": {},
   "outputs": [
    {
     "data": {
      "text/plain": [
       "[[1], 2, 3]"
      ]
     },
     "execution_count": 175,
     "metadata": {},
     "output_type": "execute_result"
    }
   ],
   "source": [
    "ls1"
   ]
  },
  {
   "cell_type": "code",
   "execution_count": 176,
   "id": "b5608673",
   "metadata": {},
   "outputs": [
    {
     "data": {
      "text/plain": [
       "[[1], 2, 3]"
      ]
     },
     "execution_count": 176,
     "metadata": {},
     "output_type": "execute_result"
    }
   ],
   "source": [
    "ls2"
   ]
  },
  {
   "cell_type": "code",
   "execution_count": 177,
   "id": "6d7b3f29",
   "metadata": {},
   "outputs": [],
   "source": [
    "ls1[0][0] = ['d']"
   ]
  },
  {
   "cell_type": "code",
   "execution_count": 178,
   "id": "c6dfdb12",
   "metadata": {},
   "outputs": [
    {
     "data": {
      "text/plain": [
       "[[['d']], 2, 3]"
      ]
     },
     "execution_count": 178,
     "metadata": {},
     "output_type": "execute_result"
    }
   ],
   "source": [
    "ls2"
   ]
  },
  {
   "cell_type": "code",
   "execution_count": 179,
   "id": "b66373ef",
   "metadata": {},
   "outputs": [],
   "source": [
    "ls1 = [[1], 2, 3]\n",
    "ls2 = ['a', 'b', 'c']"
   ]
  },
  {
   "cell_type": "code",
   "execution_count": 180,
   "id": "ed7a02d6",
   "metadata": {},
   "outputs": [],
   "source": [
    "ls2 = copy.deepcopy(ls1)"
   ]
  },
  {
   "cell_type": "code",
   "execution_count": 181,
   "id": "62f3d461",
   "metadata": {},
   "outputs": [
    {
     "data": {
      "text/plain": [
       "[[1], 2, 3]"
      ]
     },
     "execution_count": 181,
     "metadata": {},
     "output_type": "execute_result"
    }
   ],
   "source": [
    "ls2"
   ]
  },
  {
   "cell_type": "code",
   "execution_count": 182,
   "id": "50eefd59",
   "metadata": {},
   "outputs": [],
   "source": [
    "ls1[0] = ['d']"
   ]
  },
  {
   "cell_type": "code",
   "execution_count": 183,
   "id": "67350492",
   "metadata": {},
   "outputs": [
    {
     "data": {
      "text/plain": [
       "[['d'], 2, 3]"
      ]
     },
     "execution_count": 183,
     "metadata": {},
     "output_type": "execute_result"
    }
   ],
   "source": [
    "ls1"
   ]
  },
  {
   "cell_type": "code",
   "execution_count": 184,
   "id": "97233cf5",
   "metadata": {},
   "outputs": [
    {
     "data": {
      "text/plain": [
       "[[1], 2, 3]"
      ]
     },
     "execution_count": 184,
     "metadata": {},
     "output_type": "execute_result"
    }
   ],
   "source": [
    "ls2"
   ]
  },
  {
   "cell_type": "code",
   "execution_count": 130,
   "id": "49f944b7",
   "metadata": {},
   "outputs": [
    {
     "name": "stdout",
     "output_type": "stream",
     "text": [
      "[5, 2, [3, 4]]\n",
      "[1, 2, [3, 4]]\n"
     ]
    }
   ],
   "source": [
    "import copy\n",
    "\n",
    "original_list = [1, 2, [3, 4]]\n",
    "copied_list = copy.copy(original_list)\n",
    "\n",
    "# Modifying a shared element\n",
    "original_list[0] = 5\n",
    "print(original_list)  # Output: [5, 2, [3, 4]]\n",
    "print(copied_list)    # Output: [1, 2, [3, 4]] (shared element not modified)"
   ]
  },
  {
   "cell_type": "code",
   "execution_count": 131,
   "id": "5c91f0f2",
   "metadata": {},
   "outputs": [
    {
     "name": "stdout",
     "output_type": "stream",
     "text": [
      "[5, 2, [6, 4]]\n",
      "[1, 2, [6, 4]]\n"
     ]
    }
   ],
   "source": [
    "# Modifying a nested element\n",
    "original_list[2][0] = 6\n",
    "print(original_list)  # Output: [5, 2, [6, 4]]\n",
    "print(copied_list)    # Output: [1, 2, [6, 4]] (nested element modified)"
   ]
  },
  {
   "cell_type": "code",
   "execution_count": 133,
   "id": "219d2e72",
   "metadata": {},
   "outputs": [
    {
     "name": "stdout",
     "output_type": "stream",
     "text": [
      "[5, 2, [3, 4]]\n",
      "[1, 2, [3, 4]]\n"
     ]
    }
   ],
   "source": [
    "import copy\n",
    "\n",
    "original_list = [1, 2, [3, 4]]\n",
    "deep_copied_list = copy.deepcopy(original_list)\n",
    "\n",
    "# Modifying a shared element\n",
    "original_list[0] = 5\n",
    "print(original_list)       # Output: [5, 2, [3, 4]]\n",
    "print(deep_copied_list)    # Output: [1, 2, [3, 4]] (shared element not modified)\n"
   ]
  },
  {
   "cell_type": "code",
   "execution_count": 134,
   "id": "6da7600a",
   "metadata": {},
   "outputs": [
    {
     "name": "stdout",
     "output_type": "stream",
     "text": [
      "[5, 2, [6, 4]]\n",
      "[1, 2, [3, 4]]\n"
     ]
    }
   ],
   "source": [
    "\n",
    "# Modifying a nested element\n",
    "original_list[2][0] = 6\n",
    "print(original_list)       # Output: [5, 2, [6, 4]]\n",
    "print(deep_copied_list)    # Output: [1, 2, [3, 4]] (nested element not modified)\n"
   ]
  },
  {
   "cell_type": "code",
   "execution_count": null,
   "id": "7fd9542b",
   "metadata": {},
   "outputs": [],
   "source": []
  },
  {
   "cell_type": "code",
   "execution_count": null,
   "id": "b0427118",
   "metadata": {},
   "outputs": [],
   "source": []
  },
  {
   "cell_type": "code",
   "execution_count": null,
   "id": "22941c14",
   "metadata": {},
   "outputs": [],
   "source": []
  },
  {
   "cell_type": "code",
   "execution_count": null,
   "id": "20decd53",
   "metadata": {},
   "outputs": [],
   "source": []
  },
  {
   "cell_type": "markdown",
   "id": "9bfb0615",
   "metadata": {},
   "source": [
    "## If Statement"
   ]
  },
  {
   "cell_type": "code",
   "execution_count": 55,
   "id": "9343deb6",
   "metadata": {},
   "outputs": [
    {
     "name": "stdout",
     "output_type": "stream",
     "text": [
      "You can drive!\n"
     ]
    }
   ],
   "source": [
    "age = 20\n",
    "if age > 18:\n",
    "    print('You can drive!')"
   ]
  },
  {
   "cell_type": "code",
   "execution_count": 59,
   "id": "4cdf2807",
   "metadata": {},
   "outputs": [
    {
     "name": "stdout",
     "output_type": "stream",
     "text": [
      "Sorry!! Due to age limitations you cannot drive\n"
     ]
    }
   ],
   "source": [
    "age = 17\n",
    "if age >= 18:\n",
    "    print('Congrats, You can drive!')\n",
    "else:\n",
    "    print('Sorry!! Due to age limitations you cannot drive')"
   ]
  },
  {
   "cell_type": "code",
   "execution_count": 96,
   "id": "12bfd82b",
   "metadata": {},
   "outputs": [
    {
     "name": "stdout",
     "output_type": "stream",
     "text": [
      "Fail performance, your grade is D\n"
     ]
    }
   ],
   "source": [
    "score = 49\n",
    "\n",
    "'''\n",
    "So the difference is that the code always checks \n",
    "to see if an 'if' statement is true, checks 'elif' statements \n",
    "only if each 'if' and 'elif' statement above it is false, \n",
    "and 'else' runs only \n",
    "when the conditions for all attached 'if' and 'elif' \n",
    "statements are false.\n",
    "'''\n",
    "\n",
    "if score >= 90:\n",
    "    print(\"Excellent performance, your grade is A+\")\n",
    "elif score >= 80:\n",
    "    print(\"Good performance, your grade is A\")\n",
    "elif score >= 70:\n",
    "    print(\"Pass performance, your grade is B\")\n",
    "elif score >= 50:\n",
    "    print(\"Performance not good, your grade is C\")\n",
    "else:\n",
    "    print(\"Fail performance, your grade is D\")"
   ]
  },
  {
   "cell_type": "code",
   "execution_count": 209,
   "id": "3186bc5f",
   "metadata": {},
   "outputs": [
    {
     "name": "stdout",
     "output_type": "stream",
     "text": [
      "Good performance, your grade is A\n"
     ]
    }
   ],
   "source": [
    "score = 80\n",
    "\n",
    "'''\n",
    "So the difference is that the code always checks \n",
    "to see if an 'if' statement is true, checks 'elif' statements \n",
    "only if each 'if' and 'elif' statement above it is false, \n",
    "and 'else' runs only \n",
    "when the conditions for all attached 'if' and 'elif' \n",
    "statements are false.\n",
    "'''\n",
    "\n",
    "if score >= 90:\n",
    "    print(\"Excellent performance, your grade is A+\")\n",
    "elif score >= 80:\n",
    "    print(\"Good performance, your grade is A\")\n",
    "elif score >= 70:\n",
    "    print(\"Pass performance, your grade is B\")\n",
    "elif score >= 50:\n",
    "    print(\"Performance not good, your grade is C\")\n",
    "else:\n",
    "    print(\"Fail performance, your grade is D\")"
   ]
  },
  {
   "cell_type": "code",
   "execution_count": 203,
   "id": "b88d2172",
   "metadata": {},
   "outputs": [
    {
     "name": "stdout",
     "output_type": "stream",
     "text": [
      "Largets number is: 50\n"
     ]
    }
   ],
   "source": [
    "# Find largest number from 3 given number\n",
    "\n",
    "num1 = 50\n",
    "num2 = 30\n",
    "num3 = 20\n",
    "\n",
    "if (num1 >= num2) and (num1 >= num3):\n",
    "    largest = num1\n",
    "elif (num2 >= num1) and (num2 >= num3):\n",
    "    largest = num2\n",
    "else:\n",
    "    largest = num3\n",
    "\n",
    "print('Largets number is:', largest)"
   ]
  },
  {
   "cell_type": "markdown",
   "id": "470e836e",
   "metadata": {},
   "source": [
    "But here the input function is string by deflt so we need to change it to float or integer."
   ]
  },
  {
   "cell_type": "code",
   "execution_count": 218,
   "id": "ea98d01b",
   "metadata": {},
   "outputs": [
    {
     "name": "stdout",
     "output_type": "stream",
     "text": [
      "Please enter 1st number: 10\n",
      "Please enter 2nd number: 20\n",
      "Please enter 3rd number: 30\n",
      "Largets number is: 30.0\n"
     ]
    }
   ],
   "source": [
    "# Find largest number from 3 given number\n",
    "\n",
    "num1 = float(input(\"Please enter 1st number: \"))\n",
    "num2 = float(input(\"Please enter 2nd number: \"))\n",
    "num3 = float(input(\"Please enter 3rd number: \"))\n",
    "\n",
    "if (num1 >= num2) and (num1 >= num3):\n",
    "    largest = num1\n",
    "elif (num2 >= num1) and (num2 >= num3):\n",
    "    largest = num2\n",
    "else:\n",
    "    largest = num3\n",
    "\n",
    "print('Largets number is:', largest)"
   ]
  },
  {
   "cell_type": "code",
   "execution_count": 232,
   "id": "8b81e1e0",
   "metadata": {},
   "outputs": [
    {
     "name": "stdout",
     "output_type": "stream",
     "text": [
      "Enter you choice (add/sub/div/mul): /\n",
      "Please enter 1st number: 5\n",
      "Please enter 2nd number: 5\n",
      "5.0 / 5.0 = 1.0\n"
     ]
    }
   ],
   "source": [
    "# Let us make a simple calculator which takes the choice of operation from user \n",
    "# Also user enter two number which needed to be computed.\n",
    "\n",
    "\n",
    "choice = input(\"Enter you choice (add/sub/div/mul): \")\n",
    "\n",
    "num1 = float(input(\"Please enter 1st number: \"))\n",
    "num2 = float(input(\"Please enter 2nd number: \"))\n",
    "\n",
    "if choice == \"add\" or choice == '+':\n",
    "    print(num1, \"+\", num2, \"=\", num1 + num2)\n",
    "elif choice == \"sub\" or choice == '-':\n",
    "    print(num1, \"-\", num2, '=', num1 - num2)\n",
    "elif choice == \"div\" or choice == '/':\n",
    "    print(num1, \"/\", num2, '=', num1 / num2)\n",
    "elif choice == \"mul\" or choice == '*':\n",
    "    print(num1, \"*\", num2, '=', num1 * num2)\n",
    "else:\n",
    "    print(\"worng choice\")"
   ]
  },
  {
   "cell_type": "code",
   "execution_count": 233,
   "id": "5dbbde39",
   "metadata": {},
   "outputs": [],
   "source": [
    "# We have 3 designations: Excutive, Manager, Senior Manager\n",
    "# Take input from the user \"Designation\" and print salary range of that designation"
   ]
  },
  {
   "cell_type": "code",
   "execution_count": 242,
   "id": "d55add99",
   "metadata": {},
   "outputs": [
    {
     "name": "stdout",
     "output_type": "stream",
     "text": [
      "Enter the designation (Executive/Manager/Senior Manager)senior manager\n",
      "The salary range of the Senior Manager is 120000 - 160000\n"
     ]
    }
   ],
   "source": [
    "designation = input('Enter the designation (Executive/Manager/Senior Manager)')\n",
    "\n",
    "if designation.lower() == 'executive':\n",
    "    print('The salary range of the Executive is 30000 - 40000')\n",
    "elif designation.lower() == 'manager':\n",
    "    print('The salary range of the Manager is 60000 - 90000')\n",
    "elif designation.lower() == 'senior manager':\n",
    "    print('The salary range of the Senior Manager is 120000 - 160000')\n",
    "else:\n",
    "    print('Wrong choice')"
   ]
  },
  {
   "cell_type": "markdown",
   "id": "83fede3c",
   "metadata": {},
   "source": [
    "## For Loop"
   ]
  },
  {
   "cell_type": "code",
   "execution_count": 243,
   "id": "8bd59b52",
   "metadata": {},
   "outputs": [
    {
     "name": "stdout",
     "output_type": "stream",
     "text": [
      "0\n",
      "1\n",
      "2\n",
      "3\n",
      "4\n"
     ]
    }
   ],
   "source": [
    "# range(): generating sequence of number 1, 2, 3, 4, 5\n",
    "for i in range(5): # i = 0, 1 .... i\n",
    "    print(i)"
   ]
  },
  {
   "cell_type": "code",
   "execution_count": 244,
   "id": "4b4d77b2",
   "metadata": {},
   "outputs": [
    {
     "name": "stdout",
     "output_type": "stream",
     "text": [
      "0\n",
      "2\n",
      "4\n",
      "6\n",
      "8\n",
      "10\n",
      "12\n",
      "14\n",
      "16\n",
      "18\n"
     ]
    }
   ],
   "source": [
    "# range(): generating sequence of number 1, 2, 3, 4, 5\n",
    "for i in range(0, 20, 2): # i = 0, 1 .... i\n",
    "    print(i)"
   ]
  },
  {
   "cell_type": "code",
   "execution_count": 245,
   "id": "492b787c",
   "metadata": {},
   "outputs": [
    {
     "name": "stdout",
     "output_type": "stream",
     "text": [
      "apple\n",
      "cherry\n",
      "banana\n",
      "grapes\n"
     ]
    }
   ],
   "source": [
    "# let have for loop on list\n",
    "fruit_ls = ['apple', 'cherry', 'banana', 'grapes']\n",
    "\n",
    "for fruit in fruit_ls:\n",
    "    print(fruit)"
   ]
  },
  {
   "cell_type": "code",
   "execution_count": 256,
   "id": "ea07cfe1",
   "metadata": {},
   "outputs": [
    {
     "name": "stdout",
     "output_type": "stream",
     "text": [
      "India\n",
      "UK\n",
      "USA\n",
      "Germany\n"
     ]
    }
   ],
   "source": [
    "country = ['India', 'UK', 'USA', 'Germany']\n",
    "\n",
    "for ct in country:\n",
    "    print(ct)"
   ]
  },
  {
   "cell_type": "code",
   "execution_count": 257,
   "id": "6db112f0",
   "metadata": {},
   "outputs": [
    {
     "name": "stdout",
     "output_type": "stream",
     "text": [
      "India\n",
      "UK\n",
      "USA\n",
      "Germany\n"
     ]
    }
   ],
   "source": [
    "for i in range(len(country)):\n",
    "    print(country[i])"
   ]
  },
  {
   "cell_type": "code",
   "execution_count": 292,
   "id": "39db0ba3",
   "metadata": {},
   "outputs": [
    {
     "name": "stdout",
     "output_type": "stream",
     "text": [
      "* \n",
      "* * \n",
      "* * * \n",
      "* * * * \n",
      "* * * * * \n"
     ]
    }
   ],
   "source": [
    "rows = 5\n",
    "for i in range(rows):\n",
    "    for j in range(i+1):\n",
    "        print('*', end= \" \")\n",
    "    print('')"
   ]
  },
  {
   "cell_type": "code",
   "execution_count": 330,
   "id": "0634c001",
   "metadata": {},
   "outputs": [
    {
     "name": "stdout",
     "output_type": "stream",
     "text": [
      "| | \n",
      "| | | \n",
      "| | | | \n",
      "| | | | | \n",
      "| | | | | | \n"
     ]
    }
   ],
   "source": [
    "rows = 5\n",
    "\n",
    "for i in range(5):\n",
    "    for j in range(i+2):\n",
    "        print('|', end=' ')\n",
    "    print('')"
   ]
  },
  {
   "cell_type": "markdown",
   "id": "fd5c9514",
   "metadata": {},
   "source": [
    "## While Loop"
   ]
  },
  {
   "cell_type": "code",
   "execution_count": 255,
   "id": "9421efc3",
   "metadata": {},
   "outputs": [
    {
     "name": "stdout",
     "output_type": "stream",
     "text": [
      "1\n",
      "6\n",
      "11\n",
      "16\n"
     ]
    }
   ],
   "source": [
    "count = 1\n",
    "while count <= 20:\n",
    "    print(count)\n",
    "    count += 5"
   ]
  },
  {
   "cell_type": "code",
   "execution_count": 287,
   "id": "86482c9b",
   "metadata": {},
   "outputs": [
    {
     "name": "stdout",
     "output_type": "stream",
     "text": [
      "1\n",
      "2\n",
      "3\n",
      "4\n",
      "5\n"
     ]
    }
   ],
   "source": [
    "count = 1\n",
    "while count <=5:\n",
    "    print(count)\n",
    "    count += 1 # count = count + 1"
   ]
  },
  {
   "cell_type": "code",
   "execution_count": 315,
   "id": "3e7dbb1c",
   "metadata": {},
   "outputs": [
    {
     "name": "stdout",
     "output_type": "stream",
     "text": [
      "*\n",
      "***\n",
      "*****\n",
      "*******\n",
      "*********\n"
     ]
    }
   ],
   "source": [
    "rows = 5  # Number of rows in the structure\n",
    "\n",
    "i = 1  # Counter variable for rows\n",
    "while i <= rows:\n",
    "    j = 1  # Counter variable for asterisks in each row\n",
    "    while j <= (2*i - 1):\n",
    "        print('*', end='')\n",
    "        j += 1\n",
    "    print('')\n",
    "    i += 1"
   ]
  },
  {
   "cell_type": "code",
   "execution_count": 329,
   "id": "b93620b9",
   "metadata": {},
   "outputs": [
    {
     "name": "stdout",
     "output_type": "stream",
     "text": [
      "*\n",
      "***\n",
      "*****\n",
      "*******\n",
      "*********\n"
     ]
    }
   ],
   "source": [
    "rows = 5\n",
    "\n",
    "i=1\n",
    "while i <= rows:\n",
    "    j = 1\n",
    "    while j <= (2*i-1):\n",
    "        print('*', end='')\n",
    "        j += 1\n",
    "    print('')\n",
    "    i += 1"
   ]
  },
  {
   "cell_type": "code",
   "execution_count": 340,
   "id": "dd5a4c82",
   "metadata": {},
   "outputs": [
    {
     "name": "stdout",
     "output_type": "stream",
     "text": [
      "Hi Ramy!!\n"
     ]
    }
   ],
   "source": [
    "print('Hi', end=' ')\n",
    "print('Ramy', end= '')\n",
    "print('!!')"
   ]
  },
  {
   "cell_type": "code",
   "execution_count": 346,
   "id": "54473d24",
   "metadata": {},
   "outputs": [
    {
     "name": "stdout",
     "output_type": "stream",
     "text": [
      "|||||||||\n",
      "|||||||\n",
      "|||||\n",
      "|||\n",
      "|\n",
      "\n"
     ]
    }
   ],
   "source": [
    "rows = 5\n",
    "\n",
    "i = rows\n",
    "while i >= 0:\n",
    "    j = 1\n",
    "    while j <= (2*i-1):\n",
    "        print('|', end='')\n",
    "        j += 1 \n",
    "    print('')\n",
    "    i -= 1"
   ]
  },
  {
   "cell_type": "code",
   "execution_count": 347,
   "id": "47b9fa57",
   "metadata": {},
   "outputs": [
    {
     "name": "stdout",
     "output_type": "stream",
     "text": [
      "*\n",
      "**\n",
      "***\n",
      "****\n",
      "*****\n",
      "******\n",
      "*******\n",
      "********\n",
      "*********\n",
      "**********\n"
     ]
    }
   ],
   "source": [
    "rows = 10\n",
    "\n",
    "count = 1\n",
    "while count <= rows:\n",
    "    i = 1\n",
    "    while i <= count:\n",
    "        print('*', end='')\n",
    "        i += 1\n",
    "    print('')\n",
    "    count += 1"
   ]
  },
  {
   "cell_type": "code",
   "execution_count": 348,
   "id": "eec08744",
   "metadata": {},
   "outputs": [
    {
     "name": "stdout",
     "output_type": "stream",
     "text": [
      "* * * * * * * * * \n",
      "* * * * * * * * \n",
      "* * * * * * * \n",
      "* * * * * * \n",
      "* * * * * \n",
      "* * * * \n",
      "* * * \n",
      "* * \n",
      "* \n",
      "\n",
      "\n"
     ]
    }
   ],
   "source": [
    "rows = 10\n",
    "\n",
    "count = rows\n",
    "while count >=0:\n",
    "    i = 1\n",
    "    while i < count:\n",
    "        print('*', end=' ')\n",
    "        i += 1\n",
    "    print('')\n",
    "    count -= 1"
   ]
  },
  {
   "cell_type": "code",
   "execution_count": 293,
   "id": "57a78b20",
   "metadata": {},
   "outputs": [
    {
     "name": "stdout",
     "output_type": "stream",
     "text": [
      "Enter a word (or quit to exit):Hi, I am Ramy\n",
      "You entered: Hi, I am Ramy\n",
      "Enter a word (or quit to exit):I am Happy\n",
      "You entered: I am Happy\n",
      "Enter a word (or quit to exit):Tomorrow I need to work\n",
      "You entered: Tomorrow I need to work\n",
      "Enter a word (or quit to exit):quit\n",
      "You entered: quit\n"
     ]
    }
   ],
   "source": [
    "text = \"\"\n",
    "\n",
    "while text != \"quit\":\n",
    "    text = input('Enter a word (or quit to exit):')\n",
    "    print(\"You entered:\", text)"
   ]
  },
  {
   "cell_type": "code",
   "execution_count": 311,
   "id": "0a759f66",
   "metadata": {},
   "outputs": [
    {
     "name": "stdout",
     "output_type": "stream",
     "text": [
      "Updated Salary is: \n",
      "[30000, 40000, 45000, 42000.0]\n"
     ]
    }
   ],
   "source": [
    "# For we used generally we know when to stop\n",
    "# While is generally use when stop codition wil be satisfied \n",
    "\n",
    "name_list = ['Alice', 'Tom', 'Marry', 'James']\n",
    "salary = [30000, 40000, 45000, 40000]\n",
    "\n",
    "for name_nm in range(len(name_list)):\n",
    "    if name_list[name_nm] == 'James':\n",
    "        bouns = salary[name_nm]*0.05\n",
    "        salary[name_nm] += bouns\n",
    "        print('Updated Salary is: ')\n",
    "        print(salary)"
   ]
  },
  {
   "cell_type": "markdown",
   "id": "4a93f4b6",
   "metadata": {},
   "source": [
    "**Many thanks!!**\n",
    "\n",
    "**Ramy Abdallah**"
   ]
  }
 ],
 "metadata": {
  "kernelspec": {
   "display_name": "ML_comp",
   "language": "python",
   "name": "ml_comp"
  },
  "language_info": {
   "codemirror_mode": {
    "name": "ipython",
    "version": 3
   },
   "file_extension": ".py",
   "mimetype": "text/x-python",
   "name": "python",
   "nbconvert_exporter": "python",
   "pygments_lexer": "ipython3",
   "version": "3.9.10"
  }
 },
 "nbformat": 4,
 "nbformat_minor": 5
}
