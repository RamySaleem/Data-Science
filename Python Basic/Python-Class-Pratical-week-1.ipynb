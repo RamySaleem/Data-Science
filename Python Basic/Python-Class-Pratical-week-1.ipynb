{
 "cells": [
  {
   "cell_type": "markdown",
   "id": "f01d5099",
   "metadata": {},
   "source": [
    "# Agenda for Class-1"
   ]
  },
  {
   "cell_type": "markdown",
   "id": "7e0a57de",
   "metadata": {},
   "source": [
    "## 1. Python keywords and Identifiers"
   ]
  },
  {
   "cell_type": "code",
   "execution_count": 2,
   "id": "4a3d611b",
   "metadata": {},
   "outputs": [
    {
     "name": "stdout",
     "output_type": "stream",
     "text": [
      "['False', 'None', 'True', '__peg_parser__', 'and', 'as', 'assert', 'async', 'await', 'break', 'class', 'continue', 'def', 'del', 'elif', 'else', 'except', 'finally', 'for', 'from', 'global', 'if', 'import', 'in', 'is', 'lambda', 'nonlocal', 'not', 'or', 'pass', 'raise', 'return', 'try', 'while', 'with', 'yield']\n"
     ]
    }
   ],
   "source": [
    "# what are packages?\n",
    "import keyword\n",
    "# package.module\n",
    "print(keyword.kwlist)"
   ]
  },
  {
   "cell_type": "code",
   "execution_count": 5,
   "id": "38d0b79b",
   "metadata": {},
   "outputs": [
    {
     "data": {
      "text/plain": [
       "36"
      ]
     },
     "execution_count": 5,
     "metadata": {},
     "output_type": "execute_result"
    }
   ],
   "source": [
    "len(keyword.kwlist)"
   ]
  },
  {
   "cell_type": "code",
   "execution_count": 14,
   "id": "9a19178f",
   "metadata": {},
   "outputs": [
    {
     "ename": "SyntaxError",
     "evalue": "invalid syntax (463361752.py, line 9)",
     "output_type": "error",
     "traceback": [
      "\u001b[1;36m  File \u001b[1;32m\"C:\\Users\\r04ra18\\AppData\\Local\\Temp\\ipykernel_9300\\463361752.py\"\u001b[1;36m, line \u001b[1;32m9\u001b[0m\n\u001b[1;33m    if\u001b[0m\n\u001b[1;37m      ^\u001b[0m\n\u001b[1;31mSyntaxError\u001b[0m\u001b[1;31m:\u001b[0m invalid syntax\n"
     ]
    }
   ],
   "source": [
    "# Keywords\n",
    "True\n",
    "False\n",
    "return\n",
    "raise\n",
    "None\n",
    "break\n",
    "pass\n",
    "if\n",
    "as\n",
    "in\n",
    "or\n",
    "and\n",
    "not\n",
    "while\n",
    "with\n",
    "else\n",
    "elif\n",
    "try\n",
    "import\n",
    "def\n",
    "del"
   ]
  },
  {
   "cell_type": "markdown",
   "id": "e9aa1b46",
   "metadata": {},
   "source": [
    "Python is case sensitive language and small letter are treated differently"
   ]
  },
  {
   "cell_type": "code",
   "execution_count": 6,
   "id": "022f8695",
   "metadata": {},
   "outputs": [
    {
     "data": {
      "text/plain": [
       "['False',\n",
       " 'None',\n",
       " 'True',\n",
       " '__peg_parser__',\n",
       " 'and',\n",
       " 'as',\n",
       " 'assert',\n",
       " 'async',\n",
       " 'await',\n",
       " 'break',\n",
       " 'class',\n",
       " 'continue',\n",
       " 'def',\n",
       " 'del',\n",
       " 'elif',\n",
       " 'else',\n",
       " 'except',\n",
       " 'finally',\n",
       " 'for',\n",
       " 'from',\n",
       " 'global',\n",
       " 'if',\n",
       " 'import',\n",
       " 'in',\n",
       " 'is',\n",
       " 'lambda',\n",
       " 'nonlocal',\n",
       " 'not',\n",
       " 'or',\n",
       " 'pass',\n",
       " 'raise',\n",
       " 'return',\n",
       " 'try',\n",
       " 'while',\n",
       " 'with',\n",
       " 'yield']"
      ]
     },
     "execution_count": 6,
     "metadata": {},
     "output_type": "execute_result"
    }
   ],
   "source": [
    "keyword.kwlist"
   ]
  },
  {
   "cell_type": "code",
   "execution_count": 6,
   "id": "99040c03",
   "metadata": {},
   "outputs": [],
   "source": [
    "# no way\n",
    "# None = 10"
   ]
  },
  {
   "cell_type": "code",
   "execution_count": 7,
   "id": "f84da3fd",
   "metadata": {},
   "outputs": [],
   "source": [
    "none = 10"
   ]
  },
  {
   "cell_type": "code",
   "execution_count": 9,
   "id": "6c57ed4a",
   "metadata": {},
   "outputs": [
    {
     "name": "stdout",
     "output_type": "stream",
     "text": [
      "10\n",
      "ten\n"
     ]
    }
   ],
   "source": [
    "a = 10\n",
    "print(10)\n",
    "\n",
    "A = 'ten'\n",
    "print(A)"
   ]
  },
  {
   "cell_type": "code",
   "execution_count": 12,
   "id": "847b1cb7",
   "metadata": {},
   "outputs": [
    {
     "name": "stdout",
     "output_type": "stream",
     "text": [
      "170\n"
     ]
    }
   ],
   "source": [
    "marks1 = 80\n",
    "Marks1 = 90\n",
    "tot = marks1 + Marks1\n",
    "\n",
    "print(tot)"
   ]
  },
  {
   "cell_type": "markdown",
   "id": "96704491",
   "metadata": {},
   "source": [
    "Different between library and packages in Python. Library is the whole madule and the package is the one module of the library."
   ]
  },
  {
   "cell_type": "code",
   "execution_count": 3,
   "id": "f6b4f4b0",
   "metadata": {},
   "outputs": [
    {
     "name": "stdout",
     "output_type": "stream",
     "text": [
      "12.0\n"
     ]
    }
   ],
   "source": [
    "import math\n",
    "result = math.sqrt(144)\n",
    "print(result)"
   ]
  },
  {
   "cell_type": "code",
   "execution_count": 4,
   "id": "d74da724",
   "metadata": {},
   "outputs": [
    {
     "name": "stdout",
     "output_type": "stream",
     "text": [
      "9.0\n"
     ]
    }
   ],
   "source": [
    "from math import sqrt\n",
    "result = sqrt(81)\n",
    "print(result)"
   ]
  },
  {
   "cell_type": "markdown",
   "id": "ab64b7c3",
   "metadata": {},
   "source": [
    "Python identifiers is how we name our variables in Python. For example we cannot start a variable with digitise and rather we start with normal letters iether capital or small. "
   ]
  },
  {
   "cell_type": "code",
   "execution_count": 20,
   "id": "d285d1e3",
   "metadata": {},
   "outputs": [
    {
     "name": "stdout",
     "output_type": "stream",
     "text": [
      "21\n",
      "21\n",
      "21\n",
      "21\n",
      "21\n"
     ]
    }
   ],
   "source": [
    "# no name can start with digities \n",
    "# 123age = 21\n",
    "age = 21\n",
    "print(age)\n",
    "\n",
    "Age = 21\n",
    "print(Age)\n",
    "\n",
    "AGE = 21\n",
    "print(AGE)\n",
    "\n",
    "_age123 = 21\n",
    "print(_age123)\n",
    "\n",
    "age123 = 21\n",
    "print(age123)"
   ]
  },
  {
   "cell_type": "markdown",
   "id": "7992b42b",
   "metadata": {},
   "source": [
    "## 2. Python Comments"
   ]
  },
  {
   "cell_type": "code",
   "execution_count": 54,
   "id": "41c67cc3",
   "metadata": {},
   "outputs": [],
   "source": [
    "# Single line comment\n",
    "# we can use # to comment out any line"
   ]
  },
  {
   "cell_type": "code",
   "execution_count": 55,
   "id": "527e9210",
   "metadata": {},
   "outputs": [
    {
     "name": "stdout",
     "output_type": "stream",
     "text": [
      "21\n"
     ]
    }
   ],
   "source": [
    "# Multiple lines comments\n",
    "\n",
    "age = 21\n",
    "\"\"\"\n",
    "we can use the trible contation or cots marks \n",
    "for commenting out lines of instrictions\n",
    "\n",
    "\"\"\"\n",
    "print(age)"
   ]
  },
  {
   "cell_type": "code",
   "execution_count": 56,
   "id": "91ce55d8",
   "metadata": {},
   "outputs": [],
   "source": [
    "# Multi line comments\n",
    "def num_multiply(a, b):\n",
    "    \n",
    "    \"\"\"\n",
    "    we can use the trible contation or cots marks \n",
    "    for commenting out lines of instrictions\n",
    "\n",
    "    \"\"\"\n",
    "    return a * b"
   ]
  },
  {
   "cell_type": "markdown",
   "id": "4543e8a2",
   "metadata": {},
   "source": [
    "We can use the `.__doc__attribute` to read any comments in Python functions"
   ]
  },
  {
   "cell_type": "code",
   "execution_count": 57,
   "id": "44ccacdb",
   "metadata": {},
   "outputs": [],
   "source": [
    "def add_number(a,b):\n",
    "    '''\n",
    "    This function is adding two variables\n",
    "    variables names are a and b\n",
    "    we need to calculate tje sum in variable c\n",
    "    \n",
    "    '''\n",
    "    return a + b"
   ]
  },
  {
   "cell_type": "code",
   "execution_count": 58,
   "id": "6c00d9df",
   "metadata": {},
   "outputs": [
    {
     "data": {
      "text/plain": [
       "13"
      ]
     },
     "execution_count": 58,
     "metadata": {},
     "output_type": "execute_result"
    }
   ],
   "source": [
    "add_number(6,7)"
   ]
  },
  {
   "cell_type": "code",
   "execution_count": 59,
   "id": "b873320d",
   "metadata": {},
   "outputs": [
    {
     "name": "stdout",
     "output_type": "stream",
     "text": [
      "\n",
      "    This function is adding two variables\n",
      "    variables names are a and b\n",
      "    we need to calculate tje sum in variable c\n",
      "    \n",
      "    \n"
     ]
    }
   ],
   "source": [
    "print(add_number.__doc__)"
   ]
  },
  {
   "cell_type": "code",
   "execution_count": 60,
   "id": "096a715c",
   "metadata": {},
   "outputs": [],
   "source": [
    "def add_names(b, g):\n",
    "\n",
    "    '''\n",
    "    b (int) : The first variable \n",
    "    g (int) :The second variable\n",
    "    \n",
    "    Return:\n",
    "    int: which is the sum of b and g\n",
    "    '''\n",
    "    \n",
    "#     hi this is me\n",
    "#     how I can help\n",
    "    \n",
    "    \n",
    "    return b + g"
   ]
  },
  {
   "cell_type": "code",
   "execution_count": 61,
   "id": "ee55dce3",
   "metadata": {},
   "outputs": [
    {
     "data": {
      "text/plain": [
       "17"
      ]
     },
     "execution_count": 61,
     "metadata": {},
     "output_type": "execute_result"
    }
   ],
   "source": [
    "add_names(8, 9)"
   ]
  },
  {
   "cell_type": "code",
   "execution_count": 62,
   "id": "7f72df9e",
   "metadata": {},
   "outputs": [
    {
     "data": {
      "text/plain": [
       "'\\n    b (int) : The first variable \\n    g (int) :The second variable\\n    \\n    Return:\\n    int: which is the sum of b and g\\n    '"
      ]
     },
     "execution_count": 62,
     "metadata": {},
     "output_type": "execute_result"
    }
   ],
   "source": [
    "add_names.__doc__"
   ]
  },
  {
   "cell_type": "code",
   "execution_count": 63,
   "id": "a39d0ebd",
   "metadata": {},
   "outputs": [
    {
     "name": "stdout",
     "output_type": "stream",
     "text": [
      "\n",
      "    b (int) : The first variable \n",
      "    g (int) :The second variable\n",
      "    \n",
      "    Return:\n",
      "    int: which is the sum of b and g\n",
      "    \n"
     ]
    }
   ],
   "source": [
    "print(add_names.__doc__)"
   ]
  },
  {
   "cell_type": "code",
   "execution_count": 67,
   "id": "00bc60ec",
   "metadata": {},
   "outputs": [
    {
     "data": {
      "text/plain": [
       "'\\nHi \\nramy\\nsaleem\\n\\n\\n'"
      ]
     },
     "execution_count": 67,
     "metadata": {},
     "output_type": "execute_result"
    }
   ],
   "source": [
    "'''\n",
    "Hi \n",
    "ramy\n",
    "saleem\n",
    "\n",
    "\n",
    "'''"
   ]
  },
  {
   "cell_type": "code",
   "execution_count": 68,
   "id": "c666efc5",
   "metadata": {},
   "outputs": [
    {
     "name": "stdout",
     "output_type": "stream",
     "text": [
      "My name\n"
     ]
    }
   ],
   "source": [
    "\n",
    "'''\n",
    "Hi \n",
    "ramy\n",
    "saleem\n",
    "\n",
    "'''\n",
    "print('My name')"
   ]
  },
  {
   "cell_type": "markdown",
   "id": "6a8517d8",
   "metadata": {},
   "source": [
    "## 3. Python Indentations"
   ]
  },
  {
   "cell_type": "markdown",
   "id": "0ce689dc",
   "metadata": {},
   "source": [
    "Indentation refers to the spaces at the beginning of a code line. Normally 4 spaces."
   ]
  },
  {
   "cell_type": "code",
   "execution_count": 64,
   "id": "ca1bc6e2",
   "metadata": {},
   "outputs": [
    {
     "name": "stdout",
     "output_type": "stream",
     "text": [
      "5\n"
     ]
    }
   ],
   "source": [
    "x = 5\n",
    "if x > 2:\n",
    "    print(x)"
   ]
  },
  {
   "cell_type": "code",
   "execution_count": 65,
   "id": "fd33dfad",
   "metadata": {},
   "outputs": [
    {
     "name": "stdout",
     "output_type": "stream",
     "text": [
      "x is not greater than 2\n"
     ]
    }
   ],
   "source": [
    "x = -3\n",
    "if x > 2:\n",
    "    print(x)\n",
    "else:\n",
    "    print('x is not greater than 2')"
   ]
  },
  {
   "cell_type": "code",
   "execution_count": 66,
   "id": "63b5d9ae",
   "metadata": {},
   "outputs": [
    {
     "name": "stdout",
     "output_type": "stream",
     "text": [
      "This is True!\n",
      "0\n",
      "1\n",
      "2\n"
     ]
    }
   ],
   "source": [
    "if True:\n",
    "    print('This is True!')\n",
    "for i in range(3):\n",
    "    print(i)\n",
    "while False:\n",
    "    print(\"This won't print\")\n",
    "def hello(hi):\n",
    "    print('Hello, World!')"
   ]
  },
  {
   "cell_type": "code",
   "execution_count": 69,
   "id": "0a02e6af",
   "metadata": {},
   "outputs": [
    {
     "name": "stdout",
     "output_type": "stream",
     "text": [
      "x is a positive number\n"
     ]
    }
   ],
   "source": [
    "x = 5\n",
    "if x > 0 :\n",
    "    print('x is a positive number')\n",
    "if x < 0 :\n",
    "    print('x is a nagetive number')"
   ]
  },
  {
   "cell_type": "code",
   "execution_count": 70,
   "id": "7be52817",
   "metadata": {},
   "outputs": [
    {
     "name": "stdout",
     "output_type": "stream",
     "text": [
      "x is a nagetive number\n"
     ]
    }
   ],
   "source": [
    "x = -5\n",
    "if x > 0 :\n",
    "    print('x is a positive number')\n",
    "if x < 0 :\n",
    "    print('x is a nagetive number')"
   ]
  },
  {
   "cell_type": "code",
   "execution_count": 43,
   "id": "1834efa7",
   "metadata": {},
   "outputs": [
    {
     "name": "stdout",
     "output_type": "stream",
     "text": [
      "This is Positive Numebr\n"
     ]
    }
   ],
   "source": [
    "if x > 0:\n",
    "    print('This is Positive Numebr')\n",
    "else:\n",
    "    print('This is Negative Numebr')"
   ]
  },
  {
   "cell_type": "markdown",
   "id": "cb1df917",
   "metadata": {},
   "source": [
    "Rather than writting everything in one line we can use `\\` , `[]`, `()`, `{}` to split the lines in two parts."
   ]
  },
  {
   "cell_type": "code",
   "execution_count": 34,
   "id": "1c1e275c",
   "metadata": {},
   "outputs": [],
   "source": [
    "x = 1+2+3+4+5+6+7+8+9+1+0+11+12+13"
   ]
  },
  {
   "cell_type": "code",
   "execution_count": 38,
   "id": "b3eab872",
   "metadata": {},
   "outputs": [],
   "source": [
    "x = (1+2+3+4+5+6+7+8+ \n",
    "    9+1+0+11+12+13)"
   ]
  },
  {
   "cell_type": "code",
   "execution_count": 39,
   "id": "0a0bc316",
   "metadata": {},
   "outputs": [],
   "source": [
    "x = [1+2+3+4+5+6+7+8+ \n",
    "    9+1+0+11+12+13]"
   ]
  },
  {
   "cell_type": "code",
   "execution_count": 44,
   "id": "57bbb413",
   "metadata": {},
   "outputs": [],
   "source": [
    "x = {1+2+3+4+5+6+7+8+ \n",
    "    9+1+0+11+12+13}"
   ]
  },
  {
   "cell_type": "code",
   "execution_count": 42,
   "id": "95edd443",
   "metadata": {},
   "outputs": [],
   "source": [
    "x = 1+2+3+4+5+6+7+8+ \\\n",
    "    9+1+0+11+12+13"
   ]
  },
  {
   "cell_type": "markdown",
   "id": "d481f132",
   "metadata": {},
   "source": [
    "## 4. Python Types"
   ]
  },
  {
   "cell_type": "markdown",
   "id": "1572725a",
   "metadata": {},
   "source": [
    "Python is a dynamiclly type language so we do not have to declre every variable."
   ]
  },
  {
   "cell_type": "code",
   "execution_count": 72,
   "id": "586a2c75",
   "metadata": {},
   "outputs": [
    {
     "name": "stdout",
     "output_type": "stream",
     "text": [
      "10\n",
      "12.45\n",
      "Alice\n",
      "12\n",
      "<class 'str'>\n"
     ]
    }
   ],
   "source": [
    "# integer, float, string, ...\n",
    "a = 10 # it is an integer\n",
    "print(a)\n",
    "\n",
    "b = 12.45 # it is float\n",
    "print(b)\n",
    "\n",
    "nm = 'Alice'\n",
    "print(nm)\n",
    "\n",
    "c = '12' # c is treated as string (char)\n",
    "print(c)\n",
    "\n",
    "\n",
    "print(type(c))"
   ]
  },
  {
   "cell_type": "code",
   "execution_count": 73,
   "id": "ead2750c",
   "metadata": {},
   "outputs": [
    {
     "name": "stdout",
     "output_type": "stream",
     "text": [
      "['banana', 'grapes', 'apples']\n",
      "['banana', 'apples', 'cherries']\n"
     ]
    }
   ],
   "source": [
    "# list is mutable that can be change at any latter time, also\n",
    "# list is heterogeious that can have many types inside it\n",
    "\n",
    "fruits = ['banana', 'grapes', 'apples']\n",
    "print(fruits)\n",
    "\n",
    "fruits = ['banana', 'apples', 'cherries']\n",
    "print(fruits)"
   ]
  },
  {
   "cell_type": "code",
   "execution_count": 74,
   "id": "8495b03e",
   "metadata": {},
   "outputs": [
    {
     "name": "stdout",
     "output_type": "stream",
     "text": [
      "[1, 2, 3, [1, 2, 3], 'Tom', 4.5, 5.5]\n"
     ]
    }
   ],
   "source": [
    "a = [1, 2, 3, [1, 2, 3], 'Tom', 4.5, 5.5]\n",
    "print(a)"
   ]
  },
  {
   "cell_type": "code",
   "execution_count": 75,
   "id": "83adc644",
   "metadata": {},
   "outputs": [
    {
     "name": "stdout",
     "output_type": "stream",
     "text": [
      "('banana', 'grapes', 'apples')\n",
      "(1, 2, 3, 'Tom')\n"
     ]
    }
   ],
   "source": [
    "#Table are immutable but also hetrogenioues in natuer\n",
    "fruits = ('banana', 'grapes', 'apples')\n",
    "print(fruits)\n",
    "\n",
    "a = (1, 2, 3, 'Tom')\n",
    "print(a)"
   ]
  },
  {
   "cell_type": "code",
   "execution_count": 77,
   "id": "27fc6fd6",
   "metadata": {},
   "outputs": [
    {
     "name": "stdout",
     "output_type": "stream",
     "text": [
      "(1, 2, 3, [4])\n"
     ]
    }
   ],
   "source": [
    "myTuple = (1, 2, 3)\n",
    "myTuple = (1, 2, 3, [4])\n",
    "print(myTuple)"
   ]
  },
  {
   "cell_type": "code",
   "execution_count": 78,
   "id": "147197b5",
   "metadata": {},
   "outputs": [
    {
     "data": {
      "text/plain": [
       "list"
      ]
     },
     "execution_count": 78,
     "metadata": {},
     "output_type": "execute_result"
    }
   ],
   "source": [
    "type(myTuple[-1])"
   ]
  },
  {
   "cell_type": "code",
   "execution_count": 61,
   "id": "53eac774",
   "metadata": {},
   "outputs": [
    {
     "name": "stdout",
     "output_type": "stream",
     "text": [
      "Entre your nameTom Alice\n",
      "How are you Tom Alice!\n"
     ]
    }
   ],
   "source": [
    "name = input('Entre your name')\n",
    "print(f\"How are you {name}!\")"
   ]
  },
  {
   "cell_type": "markdown",
   "id": "d0996a8f",
   "metadata": {},
   "source": [
    "`()` are parentheses\n",
    "\n",
    "`[]` are square brackets or box brackets\n",
    "\n",
    "`{}` are curly brackets or brace brackets"
   ]
  },
  {
   "cell_type": "markdown",
   "id": "822d5b7b",
   "metadata": {},
   "source": [
    "Python has both mutable and immutable collection data types. Strings and tuples are immutable, while lists, dictionaries, and sets are mutable."
   ]
  },
  {
   "cell_type": "code",
   "execution_count": 86,
   "id": "6d1d997c",
   "metadata": {},
   "outputs": [
    {
     "name": "stdout",
     "output_type": "stream",
     "text": [
      "('banana', 'grapes', 'apples', 'Almonds', 'ice cream')\n",
      "['banana', 'grapes', 'apples', 'Almonds', 'ice cream']\n",
      "['banana', 'grapes', 'apples', 'Almonds', 'ice cream', 'mango']\n"
     ]
    }
   ],
   "source": [
    "# tuple\n",
    "\n",
    "stock = ('banana', 'grapes', 'apples', 'Almonds', 'ice cream')\n",
    "print(stock)\n",
    "# stock.append('mango')\n",
    "\n",
    "stock_ls = ['banana', 'grapes', 'apples', 'Almonds', 'ice cream']\n",
    "print(stock_ls)\n",
    "stock_ls.append('mango')\n",
    "print(stock_ls)"
   ]
  },
  {
   "cell_type": "markdown",
   "id": "7efe9f94",
   "metadata": {},
   "source": [
    "In Python, tuples are immutables. Meaning, you cannot change items of a tuple once it is assigned. There are only two tuple methods count() and index() that a tuple object can call."
   ]
  },
  {
   "cell_type": "code",
   "execution_count": 96,
   "id": "1a3d1ac9",
   "metadata": {},
   "outputs": [
    {
     "data": {
      "text/plain": [
       "1"
      ]
     },
     "execution_count": 96,
     "metadata": {},
     "output_type": "execute_result"
    }
   ],
   "source": [
    "stock.count('banana')"
   ]
  },
  {
   "cell_type": "code",
   "execution_count": 98,
   "id": "94448bc1",
   "metadata": {},
   "outputs": [
    {
     "data": {
      "text/plain": [
       "2"
      ]
     },
     "execution_count": 98,
     "metadata": {},
     "output_type": "execute_result"
    }
   ],
   "source": [
    "stock.index('apples')"
   ]
  },
  {
   "cell_type": "code",
   "execution_count": 102,
   "id": "962eef91",
   "metadata": {},
   "outputs": [
    {
     "name": "stdout",
     "output_type": "stream",
     "text": [
      "{'Name': 'Tome', 'Subject': 'English', 'Marks': 90}\n"
     ]
    }
   ],
   "source": [
    "# Dictionaries\n",
    "#dictionaries are mutable similar to list\n",
    "\n",
    "my_dict = {'Name' : 'Tome',\n",
    "           'Subject' : 'English',\n",
    "           'Marks' : 90\n",
    "          }\n",
    "print(my_dict)"
   ]
  },
  {
   "cell_type": "code",
   "execution_count": 105,
   "id": "b62a3b8b",
   "metadata": {},
   "outputs": [
    {
     "data": {
      "text/plain": [
       "dict_keys(['Name', 'Subject', 'Marks'])"
      ]
     },
     "execution_count": 105,
     "metadata": {},
     "output_type": "execute_result"
    }
   ],
   "source": [
    "my_dict.keys()"
   ]
  },
  {
   "cell_type": "code",
   "execution_count": 108,
   "id": "e9c5eadf",
   "metadata": {},
   "outputs": [
    {
     "data": {
      "text/plain": [
       "dict_values(['Tome', 'English', 90])"
      ]
     },
     "execution_count": 108,
     "metadata": {},
     "output_type": "execute_result"
    }
   ],
   "source": [
    "my_dict.values()"
   ]
  },
  {
   "cell_type": "code",
   "execution_count": 109,
   "id": "8d1e5778",
   "metadata": {},
   "outputs": [],
   "source": [
    "# Sets are an inorder collection of elements, they are mutable\n",
    "x = set(stock)"
   ]
  },
  {
   "cell_type": "code",
   "execution_count": 110,
   "id": "ec380a4b",
   "metadata": {},
   "outputs": [
    {
     "data": {
      "text/plain": [
       "set"
      ]
     },
     "execution_count": 110,
     "metadata": {},
     "output_type": "execute_result"
    }
   ],
   "source": [
    "type(x)"
   ]
  },
  {
   "cell_type": "code",
   "execution_count": 112,
   "id": "dcc3453d",
   "metadata": {},
   "outputs": [
    {
     "name": "stdout",
     "output_type": "stream",
     "text": [
      "{'grapes', 'banana', 'apples', 'mango'}\n"
     ]
    }
   ],
   "source": [
    "fruits = {'banana', 'grapes', 'apples', 'mango'}\n",
    "print(fruits)"
   ]
  },
  {
   "cell_type": "code",
   "execution_count": 113,
   "id": "ee5b08e8",
   "metadata": {},
   "outputs": [
    {
     "data": {
      "text/plain": [
       "set"
      ]
     },
     "execution_count": 113,
     "metadata": {},
     "output_type": "execute_result"
    }
   ],
   "source": [
    "type(fruits)"
   ]
  },
  {
   "cell_type": "code",
   "execution_count": 123,
   "id": "94f516d8",
   "metadata": {},
   "outputs": [],
   "source": [
    "# sets\n",
    "s1 = {1, 2, 3, 4, 5}\n",
    "s2 = {1, 2, 3, 4, 5, 6, 7, 8, 'Bananas'}"
   ]
  },
  {
   "cell_type": "code",
   "execution_count": 126,
   "id": "8f26862c",
   "metadata": {},
   "outputs": [
    {
     "data": {
      "text/plain": [
       "{1, 2, 3, 4, 5, 6, 7, 8, 'Bananas'}"
      ]
     },
     "execution_count": 126,
     "metadata": {},
     "output_type": "execute_result"
    }
   ],
   "source": [
    "s2"
   ]
  },
  {
   "cell_type": "code",
   "execution_count": null,
   "id": "61b3b85f",
   "metadata": {},
   "outputs": [],
   "source": []
  }
 ],
 "metadata": {
  "kernelspec": {
   "display_name": "ML_comp",
   "language": "python",
   "name": "ml_comp"
  },
  "language_info": {
   "codemirror_mode": {
    "name": "ipython",
    "version": 3
   },
   "file_extension": ".py",
   "mimetype": "text/x-python",
   "name": "python",
   "nbconvert_exporter": "python",
   "pygments_lexer": "ipython3",
   "version": "3.9.10"
  }
 },
 "nbformat": 4,
 "nbformat_minor": 5
}
