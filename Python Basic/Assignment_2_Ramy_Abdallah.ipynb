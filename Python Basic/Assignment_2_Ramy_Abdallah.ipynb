{
 "cells": [
  {
   "cell_type": "markdown",
   "id": "a9aca4e9",
   "metadata": {},
   "source": [
    "## Assignment 2"
   ]
  },
  {
   "cell_type": "markdown",
   "id": "e9d40716",
   "metadata": {},
   "source": [
    "**1. What are the two values of the Boolean data type? How do you write them?**"
   ]
  },
  {
   "cell_type": "markdown",
   "id": "cb5e2a44",
   "metadata": {},
   "source": [
    "The Boolean data type in Python represents logical values, and it has two possible values: True and False. These values are used to indicate the truth or falsity of a condition or expression. In Python, the Boolean values are written as True and False (with an uppercase 'T' and 'F')."
   ]
  },
  {
   "cell_type": "markdown",
   "id": "888c8e29",
   "metadata": {},
   "source": [
    "**2. What are the three different types of Boolean operators?**"
   ]
  },
  {
   "cell_type": "markdown",
   "id": "10867761",
   "metadata": {},
   "source": [
    "1. Logical AND (`and`): The logical AND operator returns `True` if both operands are true, and False otherwise. It evaluates expressions from left to right and stops evaluating as soon as it encounters a `False` value. The syntax for the logical AND operator is `and`. \n",
    "\n",
    "\n",
    "2. Logical OR (`or`): The logical OR operator returns `True` if at least one of the operands is true, and `False` if both operands are false. It evaluates expressions from left to right and stops evaluating as soon as it encounters a `True` value. \n",
    "\n",
    "\n",
    "3. Logical NOT (`not`): The logical NOT operator negates the value of the operand. If the operand is `True`, it returns `False`, and if the operand is `False`, it returns `True`. "
   ]
  },
  {
   "cell_type": "markdown",
   "id": "a54f9cfb",
   "metadata": {},
   "source": [
    "***3. Make a list of each Boolean operator's truth tables (i.e. every possible combination of Boolean values for the operator and what it evaluate ). ***"
   ]
  },
  {
   "cell_type": "markdown",
   "id": "a20901f3",
   "metadata": {},
   "source": [
    "#### Logical `and`"
   ]
  },
  {
   "cell_type": "code",
   "execution_count": 9,
   "id": "96449038",
   "metadata": {},
   "outputs": [
    {
     "data": {
      "text/plain": [
       "True"
      ]
     },
     "execution_count": 9,
     "metadata": {},
     "output_type": "execute_result"
    }
   ],
   "source": [
    "True and True"
   ]
  },
  {
   "cell_type": "code",
   "execution_count": 12,
   "id": "13d3dfaa",
   "metadata": {},
   "outputs": [
    {
     "data": {
      "text/plain": [
       "False"
      ]
     },
     "execution_count": 12,
     "metadata": {},
     "output_type": "execute_result"
    }
   ],
   "source": [
    "False and True"
   ]
  },
  {
   "cell_type": "code",
   "execution_count": 11,
   "id": "96c6d7b2",
   "metadata": {},
   "outputs": [
    {
     "data": {
      "text/plain": [
       "False"
      ]
     },
     "execution_count": 11,
     "metadata": {},
     "output_type": "execute_result"
    }
   ],
   "source": [
    "False and False"
   ]
  },
  {
   "cell_type": "code",
   "execution_count": 10,
   "id": "a78f322b",
   "metadata": {},
   "outputs": [
    {
     "data": {
      "text/plain": [
       "False"
      ]
     },
     "execution_count": 10,
     "metadata": {},
     "output_type": "execute_result"
    }
   ],
   "source": [
    "True and False"
   ]
  },
  {
   "cell_type": "markdown",
   "id": "7ea31bd0",
   "metadata": {},
   "source": [
    "#### Logical `or`"
   ]
  },
  {
   "cell_type": "code",
   "execution_count": 13,
   "id": "ed92ce5f",
   "metadata": {},
   "outputs": [
    {
     "data": {
      "text/plain": [
       "True"
      ]
     },
     "execution_count": 13,
     "metadata": {},
     "output_type": "execute_result"
    }
   ],
   "source": [
    "True or True"
   ]
  },
  {
   "cell_type": "code",
   "execution_count": 14,
   "id": "786207e8",
   "metadata": {},
   "outputs": [
    {
     "data": {
      "text/plain": [
       "True"
      ]
     },
     "execution_count": 14,
     "metadata": {},
     "output_type": "execute_result"
    }
   ],
   "source": [
    "True or False"
   ]
  },
  {
   "cell_type": "code",
   "execution_count": 15,
   "id": "cb6969b4",
   "metadata": {},
   "outputs": [
    {
     "data": {
      "text/plain": [
       "True"
      ]
     },
     "execution_count": 15,
     "metadata": {},
     "output_type": "execute_result"
    }
   ],
   "source": [
    "False or True"
   ]
  },
  {
   "cell_type": "code",
   "execution_count": 16,
   "id": "3c2d7216",
   "metadata": {},
   "outputs": [
    {
     "data": {
      "text/plain": [
       "False"
      ]
     },
     "execution_count": 16,
     "metadata": {},
     "output_type": "execute_result"
    }
   ],
   "source": [
    "False or False"
   ]
  },
  {
   "cell_type": "code",
   "execution_count": 17,
   "id": "3b54d716",
   "metadata": {},
   "outputs": [
    {
     "data": {
      "text/plain": [
       "True"
      ]
     },
     "execution_count": 17,
     "metadata": {},
     "output_type": "execute_result"
    }
   ],
   "source": [
    "True or True and True"
   ]
  },
  {
   "cell_type": "code",
   "execution_count": 18,
   "id": "3dc2e6c8",
   "metadata": {},
   "outputs": [
    {
     "data": {
      "text/plain": [
       "True"
      ]
     },
     "execution_count": 18,
     "metadata": {},
     "output_type": "execute_result"
    }
   ],
   "source": [
    "True and True or False"
   ]
  },
  {
   "cell_type": "markdown",
   "id": "bc784cf1",
   "metadata": {},
   "source": [
    "#### Logical `not`"
   ]
  },
  {
   "cell_type": "code",
   "execution_count": 20,
   "id": "b2af0e00",
   "metadata": {},
   "outputs": [
    {
     "data": {
      "text/plain": [
       "True"
      ]
     },
     "execution_count": 20,
     "metadata": {},
     "output_type": "execute_result"
    }
   ],
   "source": [
    "not False"
   ]
  },
  {
   "cell_type": "code",
   "execution_count": 19,
   "id": "0c0bfa34",
   "metadata": {},
   "outputs": [
    {
     "data": {
      "text/plain": [
       "False"
      ]
     },
     "execution_count": 19,
     "metadata": {},
     "output_type": "execute_result"
    }
   ],
   "source": [
    "not True"
   ]
  },
  {
   "cell_type": "markdown",
   "id": "13db48f6",
   "metadata": {},
   "source": [
    "**4. What are the values of the following expressions?**"
   ]
  },
  {
   "cell_type": "code",
   "execution_count": 21,
   "id": "35a7dcd7",
   "metadata": {},
   "outputs": [
    {
     "data": {
      "text/plain": [
       "False"
      ]
     },
     "execution_count": 21,
     "metadata": {},
     "output_type": "execute_result"
    }
   ],
   "source": [
    "(5 > 4) and (3 == 5)"
   ]
  },
  {
   "cell_type": "code",
   "execution_count": 22,
   "id": "3c0740b0",
   "metadata": {},
   "outputs": [
    {
     "data": {
      "text/plain": [
       "False"
      ]
     },
     "execution_count": 22,
     "metadata": {},
     "output_type": "execute_result"
    }
   ],
   "source": [
    "not (5 > 4)"
   ]
  },
  {
   "cell_type": "code",
   "execution_count": 23,
   "id": "10270d63",
   "metadata": {},
   "outputs": [
    {
     "data": {
      "text/plain": [
       "True"
      ]
     },
     "execution_count": 23,
     "metadata": {},
     "output_type": "execute_result"
    }
   ],
   "source": [
    "(5 > 4) or (3 == 5)"
   ]
  },
  {
   "cell_type": "code",
   "execution_count": 24,
   "id": "046753aa",
   "metadata": {},
   "outputs": [
    {
     "data": {
      "text/plain": [
       "False"
      ]
     },
     "execution_count": 24,
     "metadata": {},
     "output_type": "execute_result"
    }
   ],
   "source": [
    "not ((5 > 4) or (3 == 5))"
   ]
  },
  {
   "cell_type": "code",
   "execution_count": 25,
   "id": "0674df6b",
   "metadata": {},
   "outputs": [
    {
     "data": {
      "text/plain": [
       "False"
      ]
     },
     "execution_count": 25,
     "metadata": {},
     "output_type": "execute_result"
    }
   ],
   "source": [
    "(True and True) and (True == False)"
   ]
  },
  {
   "cell_type": "code",
   "execution_count": 26,
   "id": "4ff32fb7",
   "metadata": {},
   "outputs": [
    {
     "data": {
      "text/plain": [
       "True"
      ]
     },
     "execution_count": 26,
     "metadata": {},
     "output_type": "execute_result"
    }
   ],
   "source": [
    "(not False) or (not True)"
   ]
  },
  {
   "cell_type": "markdown",
   "id": "c6f53a66",
   "metadata": {},
   "source": [
    "**5. What are the six comparison operators?**"
   ]
  },
  {
   "cell_type": "markdown",
   "id": "37497ccd",
   "metadata": {},
   "source": [
    "1. `==`\n",
    "2. `!=`\n",
    "3. `>=`\n",
    "4. `<=`\n",
    "5. `>`\n",
    "6. `<`"
   ]
  },
  {
   "cell_type": "markdown",
   "id": "ebf59036",
   "metadata": {},
   "source": [
    "1. Equal to (==): The equal to operator checks if two values are equal. It returns True if the values are equal, and False otherwise. \n",
    "\n",
    "\n",
    "2. Not equal to (!=): The not equal to operator checks if two values are not equal. It returns True if the values are not equal, and False if they are equal. \n",
    "\n",
    "\n",
    "3. Greater than (>): The greater than operator checks if the left operand is greater than the right operand. It returns True if the condition is true, and False otherwise. \n",
    "\n",
    "\n",
    "4. Less than (<): The less than operator checks if the left operand is less than the right operand. It returns True if the condition is true, and False otherwise. \n",
    "\n",
    "\n",
    "5. Less than or equal to (<=): The less than or equal to operator checks if the left operand is less than or equal to the right operand. It returns True if the condition is true, and False otherwise.\n",
    "\n",
    "\n",
    "6. Greater than or equal to (>=): The greater than or equal to operator checks if the left operand is greater than or equal to the right operand. It returns True if the condition is true, and False otherwise."
   ]
  },
  {
   "cell_type": "markdown",
   "id": "01333ce1",
   "metadata": {},
   "source": [
    "**6. How do you tell the difference between the equal to and assignment operators? Describe a condition and when you would use one.**"
   ]
  },
  {
   "cell_type": "markdown",
   "id": "fe7b10c0",
   "metadata": {},
   "source": [
    "1. Equal to operator (==): The equal to operator is used to compare two values for equality. It checks if the values on the left and right sides are equal. The equal to operator returns True if the values are equal and False if they are not equal.\n",
    "\n",
    "\n",
    "2. Assignment operator (=): The assignment operator is used to assign a value to a variable. It assigns the value on the right side of the operator to the variable on the left side. It does not perform a comparison but instead performs an assignment of the value. "
   ]
  },
  {
   "cell_type": "code",
   "execution_count": 28,
   "id": "785da21f",
   "metadata": {},
   "outputs": [
    {
     "data": {
      "text/plain": [
       "True"
      ]
     },
     "execution_count": 28,
     "metadata": {},
     "output_type": "execute_result"
    }
   ],
   "source": [
    "x = 5\n",
    "y = 5\n",
    "x == y"
   ]
  },
  {
   "cell_type": "code",
   "execution_count": 27,
   "id": "62b48707",
   "metadata": {},
   "outputs": [
    {
     "data": {
      "text/plain": [
       "False"
      ]
     },
     "execution_count": 27,
     "metadata": {},
     "output_type": "execute_result"
    }
   ],
   "source": [
    "x = 7\n",
    "y = 5\n",
    "x == y"
   ]
  },
  {
   "cell_type": "markdown",
   "id": "74a0b005",
   "metadata": {},
   "source": [
    "**7. Identify the three blocks in this code:**"
   ]
  },
  {
   "cell_type": "code",
   "execution_count": 31,
   "id": "fd1fb07a",
   "metadata": {},
   "outputs": [
    {
     "name": "stdout",
     "output_type": "stream",
     "text": [
      "ham\n",
      "spam\n",
      "spam\n"
     ]
    }
   ],
   "source": [
    "spam = 0\n",
    "if spam == 10:\n",
    "    print('eggs')\n",
    "if spam > 5:\n",
    "    print('bacon')\n",
    "else:\n",
    "    print('ham')\n",
    "print('spam')\n",
    "print('spam')"
   ]
  },
  {
   "cell_type": "code",
   "execution_count": 32,
   "id": "41601584",
   "metadata": {},
   "outputs": [],
   "source": [
    "# The three blocks are:\n",
    "#     1. if spam == 10:\n",
    "#         print('eggs')\n",
    "#     2. if spam > 5:\n",
    "#         print('bacon')\n",
    "#     3. else:\n",
    "#         print('ham')"
   ]
  },
  {
   "cell_type": "markdown",
   "id": "7bd6fea1",
   "metadata": {},
   "source": [
    "**8. Write code that prints Hello if 1 is stored in spam, prints Howdy if 2 is stored in spam, and prints Greetings! if anything else is stored in spam.**"
   ]
  },
  {
   "cell_type": "code",
   "execution_count": 42,
   "id": "701fb7b8",
   "metadata": {},
   "outputs": [
    {
     "name": "stdout",
     "output_type": "stream",
     "text": [
      "Entre your name: Ramy\n",
      "Entre your option 5\n",
      "Greetings Ramy!!\n"
     ]
    }
   ],
   "source": [
    "your_name = input(f\"Entre your name: \")\n",
    "spam = input('Entre your option ')\n",
    "\n",
    "if spam == 1:\n",
    "    print(f'Hello {your_name}!!')\n",
    "elif spam == 2:\n",
    "    print(f'Howdy {your_name}!!')\n",
    "else:\n",
    "    print(f'Greetings {your_name}!!')"
   ]
  },
  {
   "cell_type": "markdown",
   "id": "bd5376c4",
   "metadata": {},
   "source": [
    "**9. If your programme is stuck in an endless loop, what keys you’ll press?**"
   ]
  },
  {
   "cell_type": "markdown",
   "id": "94abeffb",
   "metadata": {},
   "source": [
    "Interrupt the Kernel key"
   ]
  },
  {
   "cell_type": "markdown",
   "id": "bafcc33e",
   "metadata": {},
   "source": [
    "**10. How can you tell the difference between break and continue?**"
   ]
  },
  {
   "cell_type": "markdown",
   "id": "e14959fc",
   "metadata": {},
   "source": [
    "1. break statement: The break statement is used to exit or terminate the current loop prematurely. When encountered within a loop, the break statement immediately terminates the loop and resumes execution at the next statement after the loop. It effectively \"breaks out\" of the loop and skips any remaining iterations. \n",
    "\n",
    "\n",
    "2. continue statement: The continue statement is used to skip the remaining code within the current iteration of the loop and move on to the next iteration. When encountered, the continue statement jumps back to the loop's beginning and proceeds with the next iteration, bypassing any code below it within the loop for that particular iteration. "
   ]
  },
  {
   "cell_type": "code",
   "execution_count": 44,
   "id": "85438304",
   "metadata": {},
   "outputs": [
    {
     "name": "stdout",
     "output_type": "stream",
     "text": [
      "1\n",
      "2\n",
      "3\n"
     ]
    }
   ],
   "source": [
    "for i in range(1, 6):\n",
    "    if i == 4:\n",
    "        break\n",
    "    print(i)"
   ]
  },
  {
   "cell_type": "code",
   "execution_count": 50,
   "id": "3b552424",
   "metadata": {},
   "outputs": [
    {
     "name": "stdout",
     "output_type": "stream",
     "text": [
      "1\n",
      "2\n",
      "3\n",
      "5\n"
     ]
    }
   ],
   "source": [
    "# used to scape i value \n",
    "for i in range(1, 6):\n",
    "    if i == 4:\n",
    "        continue\n",
    "    print(i)"
   ]
  },
  {
   "cell_type": "markdown",
   "id": "6a183664",
   "metadata": {},
   "source": [
    "**11. In a for loop, what is the difference between range(10), range(0, 10), and range(0, 10, 1)?**"
   ]
  },
  {
   "cell_type": "code",
   "execution_count": 53,
   "id": "ce6c9fd6",
   "metadata": {},
   "outputs": [
    {
     "name": "stdout",
     "output_type": "stream",
     "text": [
      "0\n",
      "1\n",
      "2\n",
      "3\n",
      "4\n",
      "5\n",
      "6\n",
      "7\n",
      "8\n",
      "9\n"
     ]
    }
   ],
   "source": [
    "for i in range(10):\n",
    "    print(i)"
   ]
  },
  {
   "cell_type": "code",
   "execution_count": 54,
   "id": "7cbb0b03",
   "metadata": {},
   "outputs": [
    {
     "name": "stdout",
     "output_type": "stream",
     "text": [
      "0\n",
      "1\n",
      "2\n",
      "3\n",
      "4\n",
      "5\n",
      "6\n",
      "7\n",
      "8\n",
      "9\n"
     ]
    }
   ],
   "source": [
    "for i in range(0, 10):\n",
    "    print(i)"
   ]
  },
  {
   "cell_type": "code",
   "execution_count": 55,
   "id": "51a2334a",
   "metadata": {},
   "outputs": [
    {
     "name": "stdout",
     "output_type": "stream",
     "text": [
      "0\n",
      "1\n",
      "2\n",
      "3\n",
      "4\n",
      "5\n",
      "6\n",
      "7\n",
      "8\n",
      "9\n"
     ]
    }
   ],
   "source": [
    "for i in range(0, 10, 1):\n",
    "    print(i)"
   ]
  },
  {
   "cell_type": "markdown",
   "id": "3c2c1333",
   "metadata": {},
   "source": [
    "All three expersions are similar and produce the same sequence of values."
   ]
  },
  {
   "cell_type": "markdown",
   "id": "e4d3e23b",
   "metadata": {},
   "source": [
    "**12. Write a short program that prints the numbers 1 to 10 using a for loop. Then write an equivalent program that prints the numbers 1 to 10 using a while loop.**"
   ]
  },
  {
   "cell_type": "code",
   "execution_count": 57,
   "id": "69e02f7d",
   "metadata": {},
   "outputs": [
    {
     "name": "stdout",
     "output_type": "stream",
     "text": [
      "1\n",
      "2\n",
      "3\n",
      "4\n",
      "5\n",
      "6\n",
      "7\n",
      "8\n",
      "9\n",
      "10\n"
     ]
    }
   ],
   "source": [
    "for i in range(1, 11):\n",
    "    print(i)"
   ]
  },
  {
   "cell_type": "code",
   "execution_count": 68,
   "id": "05708f05",
   "metadata": {},
   "outputs": [
    {
     "name": "stdout",
     "output_type": "stream",
     "text": [
      "1\n",
      "2\n",
      "3\n",
      "4\n",
      "5\n",
      "6\n",
      "7\n",
      "8\n",
      "9\n",
      "10\n"
     ]
    }
   ],
   "source": [
    "count = 1\n",
    "while count <= 10:\n",
    "    print(count)\n",
    "    count += 1 "
   ]
  },
  {
   "cell_type": "code",
   "execution_count": 67,
   "id": "f38a1567",
   "metadata": {},
   "outputs": [
    {
     "name": "stdout",
     "output_type": "stream",
     "text": [
      "1\n",
      "3\n",
      "5\n"
     ]
    }
   ],
   "source": [
    "count = 1\n",
    "while count <= 5:\n",
    "    print(count)\n",
    "    count += 2"
   ]
  },
  {
   "cell_type": "markdown",
   "id": "1cdf6b95",
   "metadata": {},
   "source": [
    "**13. If you had a function named bacon() inside a module named spam, how would you call it after importing spam?**"
   ]
  },
  {
   "cell_type": "code",
   "execution_count": 69,
   "id": "14e8c380",
   "metadata": {},
   "outputs": [],
   "source": [
    "# import spam\n",
    "# spam.bacon()"
   ]
  },
  {
   "cell_type": "markdown",
   "id": "3fca61f0",
   "metadata": {},
   "source": [
    "#### Tahnk You!!\n",
    "#### Ramy Abdallah"
   ]
  }
 ],
 "metadata": {
  "kernelspec": {
   "display_name": "ML_comp",
   "language": "python",
   "name": "ml_comp"
  },
  "language_info": {
   "codemirror_mode": {
    "name": "ipython",
    "version": 3
   },
   "file_extension": ".py",
   "mimetype": "text/x-python",
   "name": "python",
   "nbconvert_exporter": "python",
   "pygments_lexer": "ipython3",
   "version": "3.9.10"
  }
 },
 "nbformat": 4,
 "nbformat_minor": 5
}
