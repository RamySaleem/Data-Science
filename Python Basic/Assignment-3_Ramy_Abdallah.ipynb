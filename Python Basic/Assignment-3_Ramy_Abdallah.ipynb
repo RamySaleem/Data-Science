{
 "cells": [
  {
   "cell_type": "markdown",
   "id": "722eb0c6",
   "metadata": {},
   "source": [
    "## Assignment 3"
   ]
  },
  {
   "cell_type": "markdown",
   "id": "a218da8a",
   "metadata": {},
   "source": [
    "**1. Why are functions advantageous to have in your programs?**"
   ]
  },
  {
   "cell_type": "markdown",
   "id": "18f5fcf8",
   "metadata": {},
   "source": [
    "Functions provide Orginisation, reusability, abstraction, readability, maintainability, and support collaboration, making them essential tools for building structured, efficient, and scalable programs."
   ]
  },
  {
   "cell_type": "markdown",
   "id": "86283e5a",
   "metadata": {},
   "source": [
    "**2. When does the code in a function run: when it's specified or when it's called?**"
   ]
  },
  {
   "cell_type": "markdown",
   "id": "a0b94ee9",
   "metadata": {},
   "source": [
    "The code in a function runs when the function is called, not when it is specified or defined. The function acts as a reusable block of code that is executed only when invoked by its name with parentheses."
   ]
  },
  {
   "cell_type": "code",
   "execution_count": 6,
   "id": "c23a4898",
   "metadata": {},
   "outputs": [],
   "source": [
    "def greet(name):\n",
    "    print(f\"Hello {name}, Welcome to coding!\")"
   ]
  },
  {
   "cell_type": "code",
   "execution_count": 7,
   "id": "8882403d",
   "metadata": {},
   "outputs": [
    {
     "name": "stdout",
     "output_type": "stream",
     "text": [
      "Hello Ramy, Welcome to coding!\n"
     ]
    }
   ],
   "source": [
    "greet('Ramy')"
   ]
  },
  {
   "cell_type": "markdown",
   "id": "e350a502",
   "metadata": {},
   "source": [
    "**3. What statement creates a function?**"
   ]
  },
  {
   "cell_type": "markdown",
   "id": "d4aac709",
   "metadata": {},
   "source": [
    "The `def` statement is used to create a function in Python. The `def` statement is followed by the function name, a pair of parentheses that may contain optional parameters, and a colon. The indented block of code following the `def` statement defines the body of the function."
   ]
  },
  {
   "cell_type": "markdown",
   "id": "d22c8530",
   "metadata": {},
   "source": [
    "**4. What is the difference between a function and a function call?**"
   ]
  },
  {
   "cell_type": "markdown",
   "id": "3c5ccf4c",
   "metadata": {},
   "source": [
    "A function is a named block of code that performs a specific task, while a function call is the action of invoking or executing that function. The function call triggers the execution of the code inside the function and provides any necessary arguments. Functions allow for code modularity and reusability, while function calls initiate the execution of the function's code with specific inputs."
   ]
  },
  {
   "cell_type": "code",
   "execution_count": 8,
   "id": "5011d46e",
   "metadata": {},
   "outputs": [],
   "source": [
    "# Function\n",
    "def greet(name):\n",
    "    print(f\"Hello {name}, Welcome to coding!\")"
   ]
  },
  {
   "cell_type": "code",
   "execution_count": 9,
   "id": "91cf6067",
   "metadata": {},
   "outputs": [
    {
     "name": "stdout",
     "output_type": "stream",
     "text": [
      "Hello Ramy, Welcome to coding!\n"
     ]
    }
   ],
   "source": [
    "# Function call\n",
    "greet('Ramy')"
   ]
  },
  {
   "cell_type": "markdown",
   "id": "90595b60",
   "metadata": {},
   "source": [
    "**5. How many global scopes are there in a Python program? How many local scopes?**"
   ]
  },
  {
   "cell_type": "markdown",
   "id": "987c72b1",
   "metadata": {},
   "source": [
    "1. There is one global scope in a Python program, which exists outside of any function or method.\n",
    "\n",
    "\n",
    "2. Each function or method call creates its own local scope.\n",
    "\n",
    "\n",
    "3. Local scopes are temporary and isolated, while the global scope is accessible throughout the program.\n",
    "\n",
    "\n",
    "4. Variables defined in the global scope are global variables and can be accessed from anywhere.\n",
    "\n",
    "\n",
    "5. Variables defined in local scopes are local variables and are only accessible within their respective local scopes."
   ]
  },
  {
   "cell_type": "markdown",
   "id": "7c5aa91a",
   "metadata": {},
   "source": [
    "**6. What happens to variables in a local scope when the function call returns?**"
   ]
  },
  {
   "cell_type": "markdown",
   "id": "71edc39e",
   "metadata": {},
   "source": [
    "When a function call returns in Python, the local variables defined within the function's local scope are destroyed, and their values are no longer accessible. This process is known as variable scope and lifetime."
   ]
  },
  {
   "cell_type": "code",
   "execution_count": 11,
   "id": "b6be7197",
   "metadata": {},
   "outputs": [],
   "source": [
    "def my_function():\n",
    "    local_var = \"I am a local variable\"\n",
    "    print(local_var)"
   ]
  },
  {
   "cell_type": "code",
   "execution_count": 12,
   "id": "05824152",
   "metadata": {},
   "outputs": [
    {
     "name": "stdout",
     "output_type": "stream",
     "text": [
      "I am a local variable\n"
     ]
    },
    {
     "ename": "NameError",
     "evalue": "name 'local_var' is not defined",
     "output_type": "error",
     "traceback": [
      "\u001b[1;31m---------------------------------------------------------------------------\u001b[0m",
      "\u001b[1;31mNameError\u001b[0m                                 Traceback (most recent call last)",
      "\u001b[1;32m~\\AppData\\Local\\Temp\\ipykernel_16660\\2903195952.py\u001b[0m in \u001b[0;36m<cell line: 2>\u001b[1;34m()\u001b[0m\n\u001b[0;32m      1\u001b[0m \u001b[0mmy_function\u001b[0m\u001b[1;33m(\u001b[0m\u001b[1;33m)\u001b[0m\u001b[1;33m\u001b[0m\u001b[1;33m\u001b[0m\u001b[0m\n\u001b[1;32m----> 2\u001b[1;33m \u001b[0mprint\u001b[0m\u001b[1;33m(\u001b[0m\u001b[0mlocal_var\u001b[0m\u001b[1;33m)\u001b[0m  \u001b[1;31m# Attempting to access local_var outside the function\u001b[0m\u001b[1;33m\u001b[0m\u001b[1;33m\u001b[0m\u001b[0m\n\u001b[0m",
      "\u001b[1;31mNameError\u001b[0m: name 'local_var' is not defined"
     ]
    }
   ],
   "source": [
    "my_function()\n",
    "print(local_var)  # Attempting to access local_var outside the function"
   ]
  },
  {
   "cell_type": "markdown",
   "id": "7428a510",
   "metadata": {},
   "source": [
    "**7. What is the concept of a return value? Is it possible to have a return value in an expression?**"
   ]
  },
  {
   "cell_type": "markdown",
   "id": "68f35b85",
   "metadata": {},
   "source": [
    "The concept of a return value refers to the value that a function returns after its execution. When a function is called, it may perform certain computations or operations and then provide a value back to the calling code. This returned value is known as the return value.\n",
    "\n",
    "The return value allows a function to communicate information or results to the code that called it. It can be used for further processing, assignment to a variable, or as part of an expression.\n",
    "\n",
    "In Python, the return statement is used to specify the return value of a function. It allows you to explicitly define what value should be sent back to the caller. Once the return statement is encountered in the function, the function execution is terminated, and the specified value is returned."
   ]
  },
  {
   "cell_type": "code",
   "execution_count": 13,
   "id": "08c962cd",
   "metadata": {},
   "outputs": [],
   "source": [
    "def multiply(a, b):\n",
    "    result = a * b\n",
    "    return result"
   ]
  },
  {
   "cell_type": "code",
   "execution_count": 14,
   "id": "377aaa7f",
   "metadata": {},
   "outputs": [
    {
     "name": "stdout",
     "output_type": "stream",
     "text": [
      "15\n"
     ]
    }
   ],
   "source": [
    "product = multiply(5, 3)\n",
    "print(product)  # Output: 15"
   ]
  },
  {
   "cell_type": "markdown",
   "id": "6017c562",
   "metadata": {},
   "source": [
    "**8. If a function does not have a return statement, what is the return value of a call to that function?**"
   ]
  },
  {
   "cell_type": "markdown",
   "id": "5da69d2b",
   "metadata": {},
   "source": [
    "If a function does not have a return statement, or if the return statement is omitted, the function call will still return a value. In such cases, the return value will be None."
   ]
  },
  {
   "cell_type": "code",
   "execution_count": 15,
   "id": "2c53f280",
   "metadata": {},
   "outputs": [],
   "source": [
    "def multiply(a, b):\n",
    "    result = a * b"
   ]
  },
  {
   "cell_type": "code",
   "execution_count": 16,
   "id": "7656166f",
   "metadata": {},
   "outputs": [
    {
     "name": "stdout",
     "output_type": "stream",
     "text": [
      "None\n"
     ]
    }
   ],
   "source": [
    "product = multiply(5, 3)\n",
    "print(product)  # Output: 15"
   ]
  },
  {
   "cell_type": "markdown",
   "id": "ca616048",
   "metadata": {},
   "source": [
    "**9. How do you make a function variable refer to the global variable?**?"
   ]
  },
  {
   "cell_type": "markdown",
   "id": "08548ae2",
   "metadata": {},
   "source": [
    "To make a function variable refer to a global variable in Python, you can use the global keyword within the function. Here's how you can do it:\n",
    "\n",
    "Declare the global variable within the function using the global keyword.\n",
    "Access or modify the global variable as needed."
   ]
  },
  {
   "cell_type": "code",
   "execution_count": 17,
   "id": "332b6667",
   "metadata": {},
   "outputs": [],
   "source": [
    "global_var_name = \"Ramy Abdallah\""
   ]
  },
  {
   "cell_type": "code",
   "execution_count": 18,
   "id": "bd18f0b9",
   "metadata": {},
   "outputs": [],
   "source": [
    "def my_name():\n",
    "    global global_var_name  # Declare the variable as global within the function\n",
    "    print(global_var_name)  # Access the global variable"
   ]
  },
  {
   "cell_type": "code",
   "execution_count": 19,
   "id": "e8d666aa",
   "metadata": {},
   "outputs": [
    {
     "name": "stdout",
     "output_type": "stream",
     "text": [
      "Ramy Abdallah\n"
     ]
    }
   ],
   "source": [
    "my_name()"
   ]
  },
  {
   "cell_type": "markdown",
   "id": "d933122f",
   "metadata": {},
   "source": [
    "**10. What is the data type of None?**"
   ]
  },
  {
   "cell_type": "markdown",
   "id": "338e2d62",
   "metadata": {},
   "source": [
    "None is a special Python object that represents the absence of a value. It is often used to indicate that a function has completed its execution without explicitly returning a specific value."
   ]
  },
  {
   "cell_type": "markdown",
   "id": "f6c230fa",
   "metadata": {},
   "source": [
    "**11. What does the sentence import areallyourpetsnamederic do?**"
   ]
  },
  {
   "cell_type": "markdown",
   "id": "7938d222",
   "metadata": {},
   "source": [
    "The statement import areallyourpetsnamederic attempts to import a module named \"areallyourpetsnamederic\" into your Python program. When you import a module, it allows you to access and use the functionality defined within that module in your code."
   ]
  },
  {
   "cell_type": "code",
   "execution_count": 23,
   "id": "97e05513",
   "metadata": {},
   "outputs": [],
   "source": [
    "# pip install areallyourpetsnamederic\n",
    "\n",
    "# import areallyourpetsnamederic\n",
    "\n",
    "# areallyourpetsnamederic.fix_bugs()"
   ]
  },
  {
   "cell_type": "markdown",
   "id": "f3f90496",
   "metadata": {},
   "source": [
    "**12. If you had a bacon() feature in a spam module, what would you call it after importing spam?**"
   ]
  },
  {
   "cell_type": "markdown",
   "id": "0f997026",
   "metadata": {},
   "source": [
    "In this example, the import statement is used to import the \"spam\" module. Once the module is imported, you can access its contents using the module name followed by a dot (.) operator. By appending the function name bacon() to the module name spam, you can call the bacon() function."
   ]
  },
  {
   "cell_type": "code",
   "execution_count": 27,
   "id": "18d7a37e",
   "metadata": {},
   "outputs": [],
   "source": [
    "# import spam\n",
    "\n",
    "# spam.bacon()"
   ]
  },
  {
   "cell_type": "markdown",
   "id": "cede266f",
   "metadata": {},
   "source": [
    "**13. What can you do to save a programme from crashing if it encounters an error?**"
   ]
  },
  {
   "cell_type": "markdown",
   "id": "6348b3eb",
   "metadata": {},
   "source": [
    "Use a Try-Except block: Place the code that is prone to errors within a try block, and use one or more except blocks to handle specific types of exceptions. By catching the exceptions, you can provide alternative code or error-handling logic to prevent the program from crashing. "
   ]
  },
  {
   "cell_type": "markdown",
   "id": "c257c963",
   "metadata": {},
   "source": [
    "**14. What is the purpose of the try clause? What is the purpose of the except clause?**"
   ]
  },
  {
   "cell_type": "markdown",
   "id": "823032fe",
   "metadata": {},
   "source": [
    "The purpose of the try clause in Python is to define a block of code where exceptions (errors) might occur. It allows you to handle potential exceptions and gracefully handle errors without causing the program to terminate abruptly.\n",
    "\n",
    "The try clause is followed by one or more except clauses. The purpose of the except clause is to specify the code that should be executed if a specific exception occurs within the corresponding try block. The except clause allows you to catch and handle specific types of exceptions in a controlled manner."
   ]
  },
  {
   "cell_type": "code",
   "execution_count": 39,
   "id": "8fb265af",
   "metadata": {},
   "outputs": [],
   "source": [
    "def divide_numbers(a, b):\n",
    "    try:\n",
    "        result = a / b  # Attempt to divide 'a' by 'b'\n",
    "        print(\"Result:\", result)\n",
    "    except ZeroDivisionError:\n",
    "        print(\"Error: Cannot divide by zero!\")"
   ]
  },
  {
   "cell_type": "code",
   "execution_count": 40,
   "id": "836992de",
   "metadata": {},
   "outputs": [
    {
     "name": "stdout",
     "output_type": "stream",
     "text": [
      "Result: 5.0\n"
     ]
    }
   ],
   "source": [
    "# Example function call\n",
    "divide_numbers(10, 2)  # Output: Result: 5.0"
   ]
  },
  {
   "cell_type": "code",
   "execution_count": 41,
   "id": "0f200a67",
   "metadata": {},
   "outputs": [
    {
     "name": "stdout",
     "output_type": "stream",
     "text": [
      "Error: Cannot divide by zero!\n"
     ]
    }
   ],
   "source": [
    "# Another function call that would raise an error\n",
    "divide_numbers(10, 0)  # Output: Error: Cannot divide by zero!"
   ]
  },
  {
   "cell_type": "markdown",
   "id": "bd83d3fb",
   "metadata": {},
   "source": [
    "**Many Thanks**\n",
    "\n",
    "**Ramy Abdallah**"
   ]
  }
 ],
 "metadata": {
  "kernelspec": {
   "display_name": "ML_comp",
   "language": "python",
   "name": "ml_comp"
  },
  "language_info": {
   "codemirror_mode": {
    "name": "ipython",
    "version": 3
   },
   "file_extension": ".py",
   "mimetype": "text/x-python",
   "name": "python",
   "nbconvert_exporter": "python",
   "pygments_lexer": "ipython3",
   "version": "3.9.10"
  }
 },
 "nbformat": 4,
 "nbformat_minor": 5
}
