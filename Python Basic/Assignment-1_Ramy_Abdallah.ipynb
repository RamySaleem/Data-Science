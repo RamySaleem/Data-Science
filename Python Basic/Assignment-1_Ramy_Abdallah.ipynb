{
 "cells": [
  {
   "cell_type": "markdown",
   "id": "87536806",
   "metadata": {},
   "source": [
    "# Assignment-1"
   ]
  },
  {
   "cell_type": "markdown",
   "id": "47efc7a9",
   "metadata": {},
   "source": [
    "**1. In the below elements which of them are values or an expression? eg:- values can be integer or string and expressions will be mathematical operators.**"
   ]
  },
  {
   "cell_type": "markdown",
   "id": "46d30832",
   "metadata": {},
   "source": [
    "`*`  This is an Expression\n",
    "\n",
    "`'hello'` This is a Values - String\n",
    "\n",
    "`-87.8` This is a Values - Float\n",
    "\n",
    "`-` This is an Expression\n",
    "\n",
    "`/` This is an Expression\n",
    "\n",
    "`+` This is an Expression\n",
    "\n",
    "`6` This is a Values – Integer \n"
   ]
  },
  {
   "cell_type": "markdown",
   "id": "d3a278b6",
   "metadata": {},
   "source": [
    "**2. What is the difference between string and variable?**\n",
    "\n",
    "A variable is a symbolic name that represents a value stored in memory. It is used to store and refer to data. Variables are dynamically typed, which means you don't need to explicitly declare their type. We can assign any value to a variable, and its type will be inferred based on the assigned value.\n",
    "\n",
    "A variable can be a number that we can apply a mathematical operation on, or a string is a character, word or sentence without any mathematical operation.\n",
    "\n",
    "A string is a data type that represents a sequence of characters. It is used to store and manipulate textual data. Strings are enclosed in either single quotes ('') or double quotes (\"\").\n"
   ]
  },
  {
   "cell_type": "markdown",
   "id": "b942b123",
   "metadata": {},
   "source": [
    "**3. Describe three different data types.**\n",
    "\n",
    "1. Integer (int): The integer data type represents whole numbers without any fractional or  ecimal part. It can be either positive or negative.\n",
    "\n",
    "2. Float (float): The float data type represents numbers with decimal points, also known as floating-point numbers.\n",
    "\n",
    "3. String (str): The string data type represents a sequence of characters, such as letters, digits, and symbols. It is used to store and manipulate textual data. Strings are enclosed in quotes, either single ('') or double (\"\"). Strings are used for storing and processing textual information, such as names, sentences, and any kind of textual data in a program.\n"
   ]
  },
  {
   "cell_type": "markdown",
   "id": "443102f4",
   "metadata": {},
   "source": [
    "**4. What is an expression made up of? What do all expressions do?**\n",
    "\n",
    "An expression is a combination of values, variables, operators, and function calls that evaluates to a single value. In other words, it is a sequence of elements that can be computed to produce a result. Expressions can involve various components, including literals, variables, arithmetic operators, comparison operators, logical operators, and function calls.\n"
   ]
  },
  {
   "cell_type": "markdown",
   "id": "894e8f3a",
   "metadata": {},
   "source": [
    "**5. This assignment statements, like spam = 10. What is the difference between an expression and a statement?**\n",
    "\n",
    "\n",
    "Expression:\n",
    "\n",
    "Expressions are typically used to perform calculations, retrieve data, or compute a result. They are self-contained and return a value.\n",
    "\n",
    "Statement:\n",
    "\n",
    "A statement, on the other hand, is a complete instruction or action that performs a specific operation or controls the flow of a program. Statements are executed one after another in a program, and they do not return a value themselves. Instead, they may modify the program's state or control the execution flow.\n"
   ]
  },
  {
   "cell_type": "markdown",
   "id": "76301637",
   "metadata": {},
   "source": [
    "**6. After running the following code, what does the variable bacon contain?**\n",
    "\n",
    "bacon = 22\n",
    "\n",
    "bacon + 1\n",
    "\n",
    "bacon still contains 22\n"
   ]
  },
  {
   "cell_type": "markdown",
   "id": "171e330b",
   "metadata": {},
   "source": [
    "**7. What should the values of the following two terms be?**\n",
    "\n",
    "'spam' + 'spamspam'\n",
    "\n",
    "'spamspamspam'\n",
    "\n",
    "\n",
    "'spam' * 3\n",
    "\n",
    "'spamspamspam'\n"
   ]
  },
  {
   "cell_type": "markdown",
   "id": "75dbaa50",
   "metadata": {},
   "source": [
    "**8. Why is eggs a valid variable name while 100 is invalid?**\n",
    "\n",
    "eggs is a valid variable name because it starts with a lowercase letter (e), and it consists of lowercase letters and follows the convention of using underscores to separate words. It adheres to the rules and conventions for valid variable names in Python.\n",
    "\n",
    "100 is an invalid variable name because it starts with a digit (1). Variable names must start with a letter or an underscore, not a digit. Therefore, 100 does not meet the requirement for a valid variable name in Python.\n"
   ]
  },
  {
   "cell_type": "markdown",
   "id": "f78ec0af",
   "metadata": {},
   "source": [
    "**9. What three functions can be used to get the integer, floating-point number, or string version of a value?**\n",
    "\n",
    "int()\n",
    "\n",
    "float()\n",
    "\n",
    "str()\n"
   ]
  },
  {
   "cell_type": "markdown",
   "id": "033176c2",
   "metadata": {},
   "source": [
    "**10. Why does this expression cause an error? How can you fix it?**\n",
    "\n",
    "'I have eaten ' + 99 + ' burritos.'\n",
    "\n",
    "The expression 'I have eaten ' + 99 + ' burritos.' causes an error because it attempts to concatenate a string with an integer directly. In Python, concatenation is performed between strings, not between strings and other data types like integers.\n",
    "\n",
    "\n",
    "To fix it: \n",
    "\n",
    "'I have eaten ' + ‘99’ + ' burritos.'\n"
   ]
  },
  {
   "cell_type": "markdown",
   "id": "927ca2ee",
   "metadata": {},
   "source": [
    "**Thank you!**\n",
    "\n",
    "**By: Ramy Abdallah**"
   ]
  }
 ],
 "metadata": {
  "kernelspec": {
   "display_name": "ML_comp",
   "language": "python",
   "name": "ml_comp"
  },
  "language_info": {
   "codemirror_mode": {
    "name": "ipython",
    "version": 3
   },
   "file_extension": ".py",
   "mimetype": "text/x-python",
   "name": "python",
   "nbconvert_exporter": "python",
   "pygments_lexer": "ipython3",
   "version": "3.9.10"
  }
 },
 "nbformat": 4,
 "nbformat_minor": 5
}
