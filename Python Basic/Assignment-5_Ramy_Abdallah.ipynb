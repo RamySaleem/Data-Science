{
 "cells": [
  {
   "cell_type": "markdown",
   "id": "635f5453",
   "metadata": {},
   "source": [
    "## Assignment 5"
   ]
  },
  {
   "cell_type": "markdown",
   "id": "86de4fd9",
   "metadata": {},
   "source": [
    "**1. What does an empty dictionary's code look like?**"
   ]
  },
  {
   "cell_type": "code",
   "execution_count": 17,
   "id": "4534f299",
   "metadata": {},
   "outputs": [
    {
     "name": "stdout",
     "output_type": "stream",
     "text": [
      "{}\n"
     ]
    }
   ],
   "source": [
    "my_dict = {}\n",
    "print(my_dict)"
   ]
  },
  {
   "cell_type": "markdown",
   "id": "d6152dc5",
   "metadata": {},
   "source": [
    "**2. What is the value of a dictionary value with the key 'foo' and the value 42?**"
   ]
  },
  {
   "cell_type": "code",
   "execution_count": 18,
   "id": "952cb559",
   "metadata": {},
   "outputs": [
    {
     "name": "stdout",
     "output_type": "stream",
     "text": [
      "{'foo': 42}\n"
     ]
    }
   ],
   "source": [
    "my_dict1 = {'foo' : 42}\n",
    "print(my_dict1)"
   ]
  },
  {
   "cell_type": "code",
   "execution_count": 24,
   "id": "51b93413",
   "metadata": {},
   "outputs": [
    {
     "name": "stdout",
     "output_type": "stream",
     "text": [
      "dict_keys(['foo'])\n"
     ]
    }
   ],
   "source": [
    "my_dict1.keys()"
   ]
  },
  {
   "cell_type": "code",
   "execution_count": 23,
   "id": "3b1bca98",
   "metadata": {},
   "outputs": [
    {
     "data": {
      "text/plain": [
       "dict_values([42])"
      ]
     },
     "execution_count": 23,
     "metadata": {},
     "output_type": "execute_result"
    }
   ],
   "source": [
    "my_dict1.values()"
   ]
  },
  {
   "cell_type": "markdown",
   "id": "1514783c",
   "metadata": {},
   "source": [
    "**3. What is the most significant distinction between a dictionary and a list?**"
   ]
  },
  {
   "cell_type": "markdown",
   "id": "d96a4269",
   "metadata": {},
   "source": [
    "The most significant distinction between a dictionary and a list in Python is how they store and access data.\n",
    "\n",
    "1. Structure:\n",
    "   - List: A list is an ordered collection of elements. It maintains the order of elements based on their index positions. Elements in a list are enclosed in square brackets (`[]`) and separated by commas.\n",
    "   - Dictionary: A dictionary is an unordered collection of key-value pairs. It does not maintain any specific order of elements. Each element in a dictionary consists of a key and its associated value, separated by a colon (`:`). The key-value pairs are enclosed in curly braces (`{}`) and separated by commas.\n",
    "\n",
    "2. Accessing Elements:\n",
    "   - List: Elements in a list are accessed by their index positions, starting from 0. You can retrieve elements from a list using indexing, slicing, or iteration.\n",
    "   - Dictionary: Elements in a dictionary are accessed by their keys. Each key in a dictionary must be unique, and it is used to retrieve the corresponding value. Dictionary values can be accessed using the keys directly, making it efficient for data retrieval based on specific identifiers.\n",
    "\n",
    "3. Mutable vs Immutable:\n",
    "   - List: Lists are mutable, which means you can modify, add, or remove elements after the list is created. You can change the value of an element or modify the list structure.\n",
    "   - Dictionary: Dictionaries are also mutable. You can modify the values associated with existing keys, add new key-value pairs, or remove existing key-value pairs.\n",
    "\n",
    "4. Usage:\n",
    "   - List: Lists are typically used when you have a collection of elements that need to be maintained in a specific order. It is suitable for scenarios like sequences of values or when you need to perform operations like sorting or appending elements.\n",
    "   - Dictionary: Dictionaries are used when you have a collection of elements that are better represented as key-value pairs. It is useful when you need to associate values with unique identifiers or when you want to perform fast lookups based on specific keys."
   ]
  },
  {
   "cell_type": "markdown",
   "id": "06836762",
   "metadata": {},
   "source": [
    "**4. What happens if you try to access spam['foo'] if spam is {'bar': 100}?**"
   ]
  },
  {
   "cell_type": "code",
   "execution_count": 26,
   "id": "03550b62",
   "metadata": {},
   "outputs": [],
   "source": [
    "spam = {'bar': 100}"
   ]
  },
  {
   "cell_type": "code",
   "execution_count": 32,
   "id": "49fad945",
   "metadata": {},
   "outputs": [
    {
     "data": {
      "text/plain": [
       "True"
      ]
     },
     "execution_count": 32,
     "metadata": {},
     "output_type": "execute_result"
    }
   ],
   "source": [
    "'bar' in spam"
   ]
  },
  {
   "cell_type": "code",
   "execution_count": 31,
   "id": "f9dc5856",
   "metadata": {},
   "outputs": [
    {
     "data": {
      "text/plain": [
       "False"
      ]
     },
     "execution_count": 31,
     "metadata": {},
     "output_type": "execute_result"
    }
   ],
   "source": [
    "'foo' in spam"
   ]
  },
  {
   "cell_type": "code",
   "execution_count": 27,
   "id": "3f19e08f",
   "metadata": {},
   "outputs": [
    {
     "ename": "KeyError",
     "evalue": "'foo'",
     "output_type": "error",
     "traceback": [
      "\u001b[1;31m---------------------------------------------------------------------------\u001b[0m",
      "\u001b[1;31mKeyError\u001b[0m                                  Traceback (most recent call last)",
      "\u001b[1;32m~\\AppData\\Local\\Temp\\ipykernel_5652\\4161307510.py\u001b[0m in \u001b[0;36m<cell line: 1>\u001b[1;34m()\u001b[0m\n\u001b[1;32m----> 1\u001b[1;33m \u001b[0mspam\u001b[0m\u001b[1;33m[\u001b[0m\u001b[1;34m'foo'\u001b[0m\u001b[1;33m]\u001b[0m\u001b[1;33m\u001b[0m\u001b[1;33m\u001b[0m\u001b[0m\n\u001b[0m",
      "\u001b[1;31mKeyError\u001b[0m: 'foo'"
     ]
    }
   ],
   "source": [
    "spam['foo'] "
   ]
  },
  {
   "cell_type": "markdown",
   "id": "311f370d",
   "metadata": {},
   "source": [
    "**5. If a dictionary is stored in spam, what is the difference between the expressions 'cat' in spam and 'cat' in spam.keys()?**"
   ]
  },
  {
   "cell_type": "code",
   "execution_count": 33,
   "id": "7d975d0b",
   "metadata": {},
   "outputs": [
    {
     "data": {
      "text/plain": [
       "False"
      ]
     },
     "execution_count": 33,
     "metadata": {},
     "output_type": "execute_result"
    }
   ],
   "source": [
    "'cat' in spam"
   ]
  },
  {
   "cell_type": "code",
   "execution_count": 35,
   "id": "521469a5",
   "metadata": {},
   "outputs": [
    {
     "data": {
      "text/plain": [
       "False"
      ]
     },
     "execution_count": 35,
     "metadata": {},
     "output_type": "execute_result"
    }
   ],
   "source": [
    "'cat' in spam.keys()"
   ]
  },
  {
   "cell_type": "code",
   "execution_count": 36,
   "id": "226c48a9",
   "metadata": {},
   "outputs": [
    {
     "data": {
      "text/plain": [
       "True"
      ]
     },
     "execution_count": 36,
     "metadata": {},
     "output_type": "execute_result"
    }
   ],
   "source": [
    "'bar' in spam"
   ]
  },
  {
   "cell_type": "code",
   "execution_count": 37,
   "id": "7ebbaaea",
   "metadata": {},
   "outputs": [
    {
     "data": {
      "text/plain": [
       "True"
      ]
     },
     "execution_count": 37,
     "metadata": {},
     "output_type": "execute_result"
    }
   ],
   "source": [
    "'bar' in spam.keys()"
   ]
  },
  {
   "cell_type": "code",
   "execution_count": 38,
   "id": "4c598aec",
   "metadata": {},
   "outputs": [
    {
     "data": {
      "text/plain": [
       "dict_keys(['bar'])"
      ]
     },
     "execution_count": 38,
     "metadata": {},
     "output_type": "execute_result"
    }
   ],
   "source": [
    "spam.keys()"
   ]
  },
  {
   "cell_type": "markdown",
   "id": "562fc892",
   "metadata": {},
   "source": [
    "'cat' in spam: This expression checks whether the key 'cat' exists in the dictionary spam. It returns a boolean value of True if the key is present in spam, and False otherwise. It directly checks if the key exists within the dictionary.\n",
    "\n",
    "'cat' in spam.keys(): This expression checks whether the string 'cat' exists in the list of keys of the dictionary spam. The method keys() returns a view object that represents a list-like view of all the keys in the dictionary. By applying the in operator to spam.keys(), we are checking if 'cat' is present in that list of keys. It also returns a boolean value of True if the key is found, and False otherwise."
   ]
  },
  {
   "cell_type": "markdown",
   "id": "e34c38fe",
   "metadata": {},
   "source": [
    "**6. If a dictionary is stored in spam, what is the difference between the expressions 'cat' in spam and 'cat' in spam.values()?**"
   ]
  },
  {
   "cell_type": "markdown",
   "id": "a91bf8f8",
   "metadata": {},
   "source": [
    "Here we are searching the keys of the dictionary"
   ]
  },
  {
   "cell_type": "code",
   "execution_count": 45,
   "id": "96eac027",
   "metadata": {},
   "outputs": [
    {
     "data": {
      "text/plain": [
       "False"
      ]
     },
     "execution_count": 45,
     "metadata": {},
     "output_type": "execute_result"
    }
   ],
   "source": [
    "'cat' in spam"
   ]
  },
  {
   "cell_type": "code",
   "execution_count": 50,
   "id": "76b1ef25",
   "metadata": {},
   "outputs": [
    {
     "data": {
      "text/plain": [
       "False"
      ]
     },
     "execution_count": 50,
     "metadata": {},
     "output_type": "execute_result"
    }
   ],
   "source": [
    "100 in spam"
   ]
  },
  {
   "cell_type": "markdown",
   "id": "84c9efc4",
   "metadata": {},
   "source": [
    "While here we are searching the values of the dictionary"
   ]
  },
  {
   "cell_type": "code",
   "execution_count": 47,
   "id": "49fb971e",
   "metadata": {},
   "outputs": [
    {
     "data": {
      "text/plain": [
       "False"
      ]
     },
     "execution_count": 47,
     "metadata": {},
     "output_type": "execute_result"
    }
   ],
   "source": [
    "'cat' in spam.values()"
   ]
  },
  {
   "cell_type": "code",
   "execution_count": 51,
   "id": "dfb47e72",
   "metadata": {},
   "outputs": [
    {
     "data": {
      "text/plain": [
       "True"
      ]
     },
     "execution_count": 51,
     "metadata": {},
     "output_type": "execute_result"
    }
   ],
   "source": [
    "100 in spam.values()"
   ]
  },
  {
   "cell_type": "markdown",
   "id": "e6712b54",
   "metadata": {},
   "source": [
    "**7. What is a shortcut for the following code?**"
   ]
  },
  {
   "cell_type": "code",
   "execution_count": 39,
   "id": "34703014",
   "metadata": {},
   "outputs": [],
   "source": [
    "if 'color' not in spam:\n",
    "    spam['color'] = 'black'"
   ]
  },
  {
   "cell_type": "code",
   "execution_count": 41,
   "id": "0f0b73e2",
   "metadata": {},
   "outputs": [],
   "source": [
    "'color' in spam\n",
    "spam['color'] = 'black'"
   ]
  },
  {
   "cell_type": "code",
   "execution_count": 43,
   "id": "071dff87",
   "metadata": {},
   "outputs": [
    {
     "data": {
      "text/plain": [
       "{'bar': 100, 'color': 'black'}"
      ]
     },
     "execution_count": 43,
     "metadata": {},
     "output_type": "execute_result"
    }
   ],
   "source": [
    "spam"
   ]
  },
  {
   "cell_type": "markdown",
   "id": "77f538ed",
   "metadata": {},
   "source": [
    "**Many thanks**\n",
    "\n",
    "**Ramy Abdallah**"
   ]
  }
 ],
 "metadata": {
  "kernelspec": {
   "display_name": "ML_comp",
   "language": "python",
   "name": "ml_comp"
  },
  "language_info": {
   "codemirror_mode": {
    "name": "ipython",
    "version": 3
   },
   "file_extension": ".py",
   "mimetype": "text/x-python",
   "name": "python",
   "nbconvert_exporter": "python",
   "pygments_lexer": "ipython3",
   "version": "3.9.10"
  }
 },
 "nbformat": 4,
 "nbformat_minor": 5
}
