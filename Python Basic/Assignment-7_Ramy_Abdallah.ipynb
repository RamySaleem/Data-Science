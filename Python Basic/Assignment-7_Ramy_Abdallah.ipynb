{
 "cells": [
  {
   "cell_type": "markdown",
   "id": "170f1ecb",
   "metadata": {},
   "source": [
    "## Assignment 7"
   ]
  },
  {
   "cell_type": "markdown",
   "id": "e707be48",
   "metadata": {},
   "source": [
    "**Q.1. Create two int type variables, apply addition, subtraction, division and multiplications\n",
    "and store the results in variables. Then print the data in the following format by calling the variables.** "
   ]
  },
  {
   "cell_type": "code",
   "execution_count": 2,
   "id": "e6401c4a",
   "metadata": {},
   "outputs": [
    {
     "name": "stdout",
     "output_type": "stream",
     "text": [
      "15\n",
      "-5\n",
      "50\n",
      "0.5\n"
     ]
    }
   ],
   "source": [
    "# First variable is a & second variable is b.\n",
    "a = 5\n",
    "b = 10\n",
    "\n",
    "# Addition\n",
    "Addition_result = a + b\n",
    "print(Addition_result)\n",
    "\n",
    "# Subtraction\n",
    "Subtraction_result = a - b\n",
    "print(Subtraction_result)\n",
    "\n",
    "# Multiplication\n",
    "Multiplication_result = a * b\n",
    "print(Multiplication_result)\n",
    "\n",
    "# Division\n",
    "Division_result = a / b\n",
    "print(Division_result)"
   ]
  },
  {
   "cell_type": "markdown",
   "id": "7df7720d",
   "metadata": {},
   "source": [
    "**Q.2. What is the difference between the following operators:**"
   ]
  },
  {
   "cell_type": "markdown",
   "id": "a7011e1d",
   "metadata": {},
   "source": [
    "**(i) ‘/’ & ‘//’**"
   ]
  },
  {
   "cell_type": "markdown",
   "id": "d83f759d",
   "metadata": {},
   "source": [
    "The difference between the / and // operators:\n",
    "\n",
    "/ (Division Operator): The / operator performs regular division and returns the quotient as a floating-point number (float) in Python 3.x. It calculates the result with decimal points if necessary.\n",
    "\n",
    "Example: 7 / 2 returns 3.5 because 7 divided by 2 is 3.5.\n",
    "\n",
    "// (Floor Division Operator): The // operator performs floor division and returns the quotient as an integer (int). It calculates the result by discarding the decimal part and rounding the result towards negative infinity.\n",
    "\n",
    "Example: 7 // 2 returns 3 because the floor division of 7 by 2 is 3."
   ]
  },
  {
   "cell_type": "code",
   "execution_count": 3,
   "id": "e938daf6",
   "metadata": {},
   "outputs": [
    {
     "data": {
      "text/plain": [
       "0.5"
      ]
     },
     "execution_count": 3,
     "metadata": {},
     "output_type": "execute_result"
    }
   ],
   "source": [
    "a / b"
   ]
  },
  {
   "cell_type": "code",
   "execution_count": 4,
   "id": "b0950a87",
   "metadata": {},
   "outputs": [
    {
     "data": {
      "text/plain": [
       "0"
      ]
     },
     "execution_count": 4,
     "metadata": {},
     "output_type": "execute_result"
    }
   ],
   "source": [
    "a // b"
   ]
  },
  {
   "cell_type": "markdown",
   "id": "a447dbd5",
   "metadata": {},
   "source": [
    "**(ii) \"****\" **& \"^\"**"
   ]
  },
  {
   "cell_type": "markdown",
   "id": "696cd040",
   "metadata": {},
   "source": [
    "The difference between the ** and ^ operators:\n",
    "\n",
    "** (Exponentiation Operator): The ** operator is used for exponentiation or raising a number to a power. It calculates the value of the left operand raised to the power of the right operand.\n",
    "\n",
    "Example: 2 ** 3 returns 8 because 2 raised to the power of 3 is 8.\n",
    "\n",
    "^ (Bitwise XOR Operator): In Python, the ^ operator is used for bitwise XOR (exclusive OR) operation between two integers. It performs a bitwise XOR on the binary representation of the operands.\n",
    "\n",
    "Example: 3 ^ 5 returns 6 because the binary representation of 3 is 011 and 5 is 101. Performing XOR on these binary values results in 110, which is 6 in decimal."
   ]
  },
  {
   "cell_type": "code",
   "execution_count": 5,
   "id": "171b032a",
   "metadata": {},
   "outputs": [
    {
     "data": {
      "text/plain": [
       "9765625"
      ]
     },
     "execution_count": 5,
     "metadata": {},
     "output_type": "execute_result"
    }
   ],
   "source": [
    "a ** b"
   ]
  },
  {
   "cell_type": "code",
   "execution_count": 6,
   "id": "664e3c47",
   "metadata": {},
   "outputs": [
    {
     "data": {
      "text/plain": [
       "15"
      ]
     },
     "execution_count": 6,
     "metadata": {},
     "output_type": "execute_result"
    }
   ],
   "source": [
    "a ^ b"
   ]
  },
  {
   "cell_type": "markdown",
   "id": "ac7ff959",
   "metadata": {},
   "source": [
    "**Q.3. List the logical operators.**"
   ]
  },
  {
   "cell_type": "markdown",
   "id": "0f3869dd",
   "metadata": {},
   "source": [
    "The logical operators in Python are:\n",
    "\n",
    "and: The and operator returns True if both operands are True, and False otherwise.\n",
    "\n",
    "or: The or operator returns True if at least one of the operands is True, and False if both operands are False.\n",
    "\n",
    "not: The not operator is a unary operator that returns the opposite of the operand's logical value. It returns True if the operand is False, and False if the operand is True."
   ]
  },
  {
   "cell_type": "markdown",
   "id": "4d55c8fa",
   "metadata": {},
   "source": [
    "**Q.4. Explain right shift operator and left shift operator with examples.**"
   ]
  },
  {
   "cell_type": "markdown",
   "id": "156b9bd6",
   "metadata": {},
   "source": [
    "The right shift (`>>`) and left shift (`<<`) operators are binary operators used in Python for shifting the bits of a binary number to the right or left, respectively. These operators work on integer values and manipulate the binary representation of those values.\n",
    "\n",
    "1. Right Shift Operator (`>>`):\n",
    "The right shift operator shifts the bits of a binary number to the right by a specified number of positions. It effectively divides the integer by 2 raised to the power of the specified number.\n",
    "\n",
    "Syntax: `number >> n`"
   ]
  },
  {
   "cell_type": "code",
   "execution_count": 9,
   "id": "29afd394",
   "metadata": {},
   "outputs": [
    {
     "name": "stdout",
     "output_type": "stream",
     "text": [
      "4\n"
     ]
    }
   ],
   "source": [
    "x = 16  # Binary: 10000\n",
    "y = x >> 2  # Shift right by 2 positions\n",
    "print(y)  # Output: 4"
   ]
  },
  {
   "cell_type": "markdown",
   "id": "d62502c3",
   "metadata": {},
   "source": [
    "In this example, the binary representation of `x` is `10000`. Shifting the bits to the right by 2 positions results in `100`, which is the binary representation of the decimal number 4. Thus, the value of `y` is 4."
   ]
  },
  {
   "cell_type": "markdown",
   "id": "8733eed2",
   "metadata": {},
   "source": [
    "2. Left Shift Operator (`<<`):\n",
    "The left shift operator shifts the bits of a binary number to the left by a specified number of positions. It effectively multiplies the integer by 2 raised to the power of the specified number.\n",
    "\n",
    "Syntax: `number << n`"
   ]
  },
  {
   "cell_type": "code",
   "execution_count": 10,
   "id": "01082cc9",
   "metadata": {},
   "outputs": [
    {
     "name": "stdout",
     "output_type": "stream",
     "text": [
      "40\n"
     ]
    }
   ],
   "source": [
    "x = 5  # Binary: 101\n",
    "y = x << 3  # Shift left by 3 positions\n",
    "print(y)  # Output: 40"
   ]
  },
  {
   "cell_type": "markdown",
   "id": "b5a0fb53",
   "metadata": {},
   "source": [
    "In this example, the binary representation of `x` is `101`. Shifting the bits to the left by 3 positions results in `101000`, which is the binary representation of the decimal number 40. Thus, the value of `y` is 40.\n",
    "\n",
    "The right shift and left shift operators are commonly used in scenarios that involve binary operations, bit manipulation, or optimizing certain calculations that can be achieved through shifting operations."
   ]
  },
  {
   "cell_type": "markdown",
   "id": "98e39b17",
   "metadata": {},
   "source": [
    "**Q.5. Create a list containing int type data of length 15. Then write a code to check if 10 is\n",
    "present in the list or not.**"
   ]
  },
  {
   "cell_type": "code",
   "execution_count": 12,
   "id": "e2cf66b2",
   "metadata": {},
   "outputs": [
    {
     "name": "stdout",
     "output_type": "stream",
     "text": [
      "10 is present in the list.\n"
     ]
    }
   ],
   "source": [
    "# Create a list of integers\n",
    "my_list = list(range(1, 50))\n",
    "\n",
    "# Check if 10 is present in the list\n",
    "if 10 in my_list:\n",
    "    print(\"10 is present in the list.\")\n",
    "else:\n",
    "    print(\"10 is not present in the list.\")\n"
   ]
  },
  {
   "cell_type": "markdown",
   "id": "440ea2db",
   "metadata": {},
   "source": [
    "**Thank you!!**\n",
    "\n",
    "**Ramy Abdallah**"
   ]
  }
 ],
 "metadata": {
  "kernelspec": {
   "display_name": "ML_comp",
   "language": "python",
   "name": "ml_comp"
  },
  "language_info": {
   "codemirror_mode": {
    "name": "ipython",
    "version": 3
   },
   "file_extension": ".py",
   "mimetype": "text/x-python",
   "name": "python",
   "nbconvert_exporter": "python",
   "pygments_lexer": "ipython3",
   "version": "3.9.10"
  }
 },
 "nbformat": 4,
 "nbformat_minor": 5
}
