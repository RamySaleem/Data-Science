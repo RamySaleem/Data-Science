{
 "cells": [
  {
   "cell_type": "markdown",
   "id": "0b7d90cc",
   "metadata": {},
   "source": [
    "# Classes"
   ]
  },
  {
   "cell_type": "code",
   "execution_count": 5,
   "id": "af5f072f",
   "metadata": {},
   "outputs": [],
   "source": [
    "# Empty class\n",
    "class person:\n",
    "    pass"
   ]
  },
  {
   "cell_type": "code",
   "execution_count": 8,
   "id": "2d20cbaa",
   "metadata": {},
   "outputs": [],
   "source": [
    "# person1 is an object aor instance\n",
    "person1 = person()"
   ]
  },
  {
   "cell_type": "code",
   "execution_count": 3,
   "id": "c009e81f",
   "metadata": {},
   "outputs": [
    {
     "data": {
      "text/plain": [
       "<__main__.person at 0x1d5d1f25bb0>"
      ]
     },
     "execution_count": 3,
     "metadata": {},
     "output_type": "execute_result"
    }
   ],
   "source": [
    "person1"
   ]
  },
  {
   "cell_type": "code",
   "execution_count": 4,
   "id": "f0a8fde7",
   "metadata": {},
   "outputs": [
    {
     "data": {
      "text/plain": [
       "__main__.person"
      ]
     },
     "execution_count": 4,
     "metadata": {},
     "output_type": "execute_result"
    }
   ],
   "source": [
    "type(person1)"
   ]
  },
  {
   "cell_type": "code",
   "execution_count": 6,
   "id": "0a2ab66d",
   "metadata": {},
   "outputs": [],
   "source": [
    "a=list()"
   ]
  },
  {
   "cell_type": "code",
   "execution_count": 7,
   "id": "de0581ff",
   "metadata": {},
   "outputs": [
    {
     "data": {
      "text/plain": [
       "list"
      ]
     },
     "execution_count": 7,
     "metadata": {},
     "output_type": "execute_result"
    }
   ],
   "source": [
    "type(a)"
   ]
  },
  {
   "cell_type": "code",
   "execution_count": 9,
   "id": "c140b061",
   "metadata": {},
   "outputs": [],
   "source": [
    "person1.name='Ramy'"
   ]
  },
  {
   "cell_type": "code",
   "execution_count": 10,
   "id": "d0dd05f3",
   "metadata": {},
   "outputs": [
    {
     "data": {
      "text/plain": [
       "'Ramy'"
      ]
     },
     "execution_count": 10,
     "metadata": {},
     "output_type": "execute_result"
    }
   ],
   "source": [
    "person1.name"
   ]
  },
  {
   "cell_type": "code",
   "execution_count": 11,
   "id": "3cc35cf3",
   "metadata": {},
   "outputs": [],
   "source": [
    "person1.lastname='Abdallah'"
   ]
  },
  {
   "cell_type": "code",
   "execution_count": 12,
   "id": "a5a2faa4",
   "metadata": {},
   "outputs": [
    {
     "data": {
      "text/plain": [
       "'Abdallah'"
      ]
     },
     "execution_count": 12,
     "metadata": {},
     "output_type": "execute_result"
    }
   ],
   "source": [
    "person1.lastname"
   ]
  },
  {
   "cell_type": "code",
   "execution_count": 13,
   "id": "9955b263",
   "metadata": {},
   "outputs": [
    {
     "data": {
      "text/plain": [
       "['__class__',\n",
       " '__delattr__',\n",
       " '__dict__',\n",
       " '__dir__',\n",
       " '__doc__',\n",
       " '__eq__',\n",
       " '__format__',\n",
       " '__ge__',\n",
       " '__getattribute__',\n",
       " '__gt__',\n",
       " '__hash__',\n",
       " '__init__',\n",
       " '__init_subclass__',\n",
       " '__le__',\n",
       " '__lt__',\n",
       " '__module__',\n",
       " '__ne__',\n",
       " '__new__',\n",
       " '__reduce__',\n",
       " '__reduce_ex__',\n",
       " '__repr__',\n",
       " '__setattr__',\n",
       " '__sizeof__',\n",
       " '__str__',\n",
       " '__subclasshook__',\n",
       " '__weakref__',\n",
       " 'lastname',\n",
       " 'name']"
      ]
     },
     "execution_count": 13,
     "metadata": {},
     "output_type": "execute_result"
    }
   ],
   "source": [
    "dir(person1)"
   ]
  },
  {
   "cell_type": "code",
   "execution_count": 20,
   "id": "81c51e8d",
   "metadata": {},
   "outputs": [],
   "source": [
    "class Person:\n",
    "    def __init__(self, name1, last_name1):\n",
    "        self.name=name1\n",
    "        self.lastname=last_name1"
   ]
  },
  {
   "cell_type": "code",
   "execution_count": 22,
   "id": "4390d638",
   "metadata": {},
   "outputs": [],
   "source": [
    "person1 = Person('Ramy', 'Abdallah')"
   ]
  },
  {
   "cell_type": "code",
   "execution_count": 23,
   "id": "21ebe42c",
   "metadata": {},
   "outputs": [],
   "source": [
    "person2 = Person('Ahmed', 'Abdallah')"
   ]
  },
  {
   "cell_type": "code",
   "execution_count": 24,
   "id": "70b27701",
   "metadata": {},
   "outputs": [],
   "source": [
    "person3 = Person('Nihal', 'Lool')  "
   ]
  },
  {
   "cell_type": "code",
   "execution_count": 26,
   "id": "ae030fca",
   "metadata": {},
   "outputs": [
    {
     "name": "stdout",
     "output_type": "stream",
     "text": [
      "<__main__.Person object at 0x000001D5D2FFBF40>\n"
     ]
    }
   ],
   "source": [
    "print(person1)"
   ]
  },
  {
   "cell_type": "code",
   "execution_count": 27,
   "id": "fa207ead",
   "metadata": {},
   "outputs": [
    {
     "data": {
      "text/plain": [
       "'Ramy'"
      ]
     },
     "execution_count": 27,
     "metadata": {},
     "output_type": "execute_result"
    }
   ],
   "source": [
    "person1.name"
   ]
  },
  {
   "cell_type": "code",
   "execution_count": 28,
   "id": "7f517fd0",
   "metadata": {},
   "outputs": [
    {
     "data": {
      "text/plain": [
       "'Abdallah'"
      ]
     },
     "execution_count": 28,
     "metadata": {},
     "output_type": "execute_result"
    }
   ],
   "source": [
    "person.lastname"
   ]
  },
  {
   "cell_type": "code",
   "execution_count": 29,
   "id": "d706eff8",
   "metadata": {},
   "outputs": [
    {
     "data": {
      "text/plain": [
       "'Ahmed'"
      ]
     },
     "execution_count": 29,
     "metadata": {},
     "output_type": "execute_result"
    }
   ],
   "source": [
    "person2.name"
   ]
  },
  {
   "cell_type": "code",
   "execution_count": 31,
   "id": "c65c5c32",
   "metadata": {},
   "outputs": [
    {
     "data": {
      "text/plain": [
       "'Abdallah'"
      ]
     },
     "execution_count": 31,
     "metadata": {},
     "output_type": "execute_result"
    }
   ],
   "source": [
    "person2.lastname"
   ]
  },
  {
   "cell_type": "code",
   "execution_count": 30,
   "id": "fb00262c",
   "metadata": {},
   "outputs": [
    {
     "data": {
      "text/plain": [
       "'Nihal'"
      ]
     },
     "execution_count": 30,
     "metadata": {},
     "output_type": "execute_result"
    }
   ],
   "source": [
    "person3.name"
   ]
  },
  {
   "cell_type": "code",
   "execution_count": 32,
   "id": "8d41f445",
   "metadata": {},
   "outputs": [
    {
     "data": {
      "text/plain": [
       "'Lool'"
      ]
     },
     "execution_count": 32,
     "metadata": {},
     "output_type": "execute_result"
    }
   ],
   "source": [
    "person3.lastname"
   ]
  },
  {
   "cell_type": "code",
   "execution_count": 43,
   "id": "63e196c4",
   "metadata": {},
   "outputs": [],
   "source": [
    "class Person:\n",
    "    def __init__(self, name, lastname):\n",
    "        self.name = name\n",
    "        self.lastname = lastname\n",
    "    def __str__(self):\n",
    "        return f\"The name is {self.name} and the last name is {self.lastname}\""
   ]
  },
  {
   "cell_type": "code",
   "execution_count": 44,
   "id": "012eab7b",
   "metadata": {},
   "outputs": [],
   "source": [
    "person1=Person('Ramy', 'Abdallah')"
   ]
  },
  {
   "cell_type": "code",
   "execution_count": 45,
   "id": "a2924a92",
   "metadata": {},
   "outputs": [
    {
     "name": "stdout",
     "output_type": "stream",
     "text": [
      "The name is Ramy and the last name is Abdallah\n"
     ]
    }
   ],
   "source": [
    "print(person1)"
   ]
  },
  {
   "cell_type": "code",
   "execution_count": 75,
   "id": "38f60592",
   "metadata": {},
   "outputs": [],
   "source": [
    "class BankAccount:\n",
    "    def __init__(self, account_number, account_holder, balance=0):\n",
    "        self.account_number = account_number\n",
    "        self.account_holder = account_holder\n",
    "        self.balance = balance\n",
    "    \n",
    "    def deposit(self, amount):\n",
    "        self.balance += amount\n",
    "    \n",
    "    def withdrawl(self, withdrawl_amount):\n",
    "        if withdrawl_amount <= self.balance:\n",
    "            self.balance -= withdrawl_amount\n",
    "        else:\n",
    "            print('The balance is less')"
   ]
  },
  {
   "cell_type": "code",
   "execution_count": 76,
   "id": "990f4d17",
   "metadata": {},
   "outputs": [],
   "source": [
    "account1 = BankAccount('123', 'Ramy Abdallah')"
   ]
  },
  {
   "cell_type": "code",
   "execution_count": 77,
   "id": "c979303a",
   "metadata": {},
   "outputs": [
    {
     "name": "stdout",
     "output_type": "stream",
     "text": [
      "0\n"
     ]
    }
   ],
   "source": [
    "print(account1.balance)"
   ]
  },
  {
   "cell_type": "code",
   "execution_count": 78,
   "id": "6e53114e",
   "metadata": {},
   "outputs": [
    {
     "data": {
      "text/plain": [
       "'123'"
      ]
     },
     "execution_count": 78,
     "metadata": {},
     "output_type": "execute_result"
    }
   ],
   "source": [
    "account1.account_number"
   ]
  },
  {
   "cell_type": "code",
   "execution_count": 79,
   "id": "11e56536",
   "metadata": {},
   "outputs": [
    {
     "data": {
      "text/plain": [
       "'Ramy Abdallah'"
      ]
     },
     "execution_count": 79,
     "metadata": {},
     "output_type": "execute_result"
    }
   ],
   "source": [
    "account1.account_holder"
   ]
  },
  {
   "cell_type": "code",
   "execution_count": 80,
   "id": "a2967b25",
   "metadata": {},
   "outputs": [],
   "source": [
    "account1.deposit(500)"
   ]
  },
  {
   "cell_type": "code",
   "execution_count": 81,
   "id": "c5842ad6",
   "metadata": {},
   "outputs": [
    {
     "data": {
      "text/plain": [
       "500"
      ]
     },
     "execution_count": 81,
     "metadata": {},
     "output_type": "execute_result"
    }
   ],
   "source": [
    "account1.balance"
   ]
  },
  {
   "cell_type": "code",
   "execution_count": 82,
   "id": "9e11783e",
   "metadata": {},
   "outputs": [],
   "source": [
    "account1.withdrawl(100)"
   ]
  },
  {
   "cell_type": "code",
   "execution_count": 83,
   "id": "799353b0",
   "metadata": {},
   "outputs": [
    {
     "data": {
      "text/plain": [
       "400"
      ]
     },
     "execution_count": 83,
     "metadata": {},
     "output_type": "execute_result"
    }
   ],
   "source": [
    "account1.balance"
   ]
  },
  {
   "cell_type": "code",
   "execution_count": 86,
   "id": "c0b22e66",
   "metadata": {},
   "outputs": [],
   "source": [
    "account1.withdrawl(100)"
   ]
  },
  {
   "cell_type": "code",
   "execution_count": 87,
   "id": "c7171dd7",
   "metadata": {},
   "outputs": [
    {
     "data": {
      "text/plain": [
       "300"
      ]
     },
     "execution_count": 87,
     "metadata": {},
     "output_type": "execute_result"
    }
   ],
   "source": [
    "account1.balance"
   ]
  },
  {
   "cell_type": "code",
   "execution_count": 90,
   "id": "0d34eabb",
   "metadata": {},
   "outputs": [],
   "source": [
    "class TodoList:\n",
    "    def __init__(self, owner):\n",
    "        self.owner=owner\n",
    "        self.tasks = []\n",
    "    \n",
    "    def add_task(self, task):\n",
    "        self.tasks.append(task)\n",
    "        \n",
    "    def complete_task(self, task):\n",
    "        if task in self.tasks:\n",
    "            self.tasks.remove(task)\n",
    "            print(f\"Task '{task}' completed\")\n",
    "        else:\n",
    "            print('The task is not found')\n",
    "    \n",
    "    def display_tasks(self):\n",
    "        print(f\"The todo task of {self.owner}\")\n",
    "        for task in self.tasks:\n",
    "            print(task)"
   ]
  },
  {
   "cell_type": "code",
   "execution_count": 93,
   "id": "0471d05b",
   "metadata": {},
   "outputs": [],
   "source": [
    "Ramy_tasks = TodoList('Ramy')"
   ]
  },
  {
   "cell_type": "code",
   "execution_count": 94,
   "id": "d666c4c5",
   "metadata": {},
   "outputs": [
    {
     "data": {
      "text/plain": [
       "[]"
      ]
     },
     "execution_count": 94,
     "metadata": {},
     "output_type": "execute_result"
    }
   ],
   "source": [
    " Ramy_tasks.tasks"
   ]
  },
  {
   "cell_type": "code",
   "execution_count": 95,
   "id": "0cbab8a6",
   "metadata": {},
   "outputs": [],
   "source": [
    "Ramy_tasks.add_task('I have to teach at 9am with real world examples')"
   ]
  },
  {
   "cell_type": "code",
   "execution_count": 96,
   "id": "7bb4e3f5",
   "metadata": {},
   "outputs": [
    {
     "name": "stdout",
     "output_type": "stream",
     "text": [
      "The todo task of Ramy\n",
      "I have to teach at 9am with real world examples\n"
     ]
    }
   ],
   "source": [
    "Ramy_tasks.display_tasks()"
   ]
  },
  {
   "cell_type": "code",
   "execution_count": 97,
   "id": "8e9df6ad",
   "metadata": {},
   "outputs": [],
   "source": [
    "Ramy_tasks.add_task('12pm need to have lunch')"
   ]
  },
  {
   "cell_type": "code",
   "execution_count": 98,
   "id": "5e4b8bdb",
   "metadata": {},
   "outputs": [],
   "source": [
    "Ramy_tasks.add_task('at 2pm have a meeting with my research supervisor')"
   ]
  },
  {
   "cell_type": "code",
   "execution_count": 100,
   "id": "31a42a6a",
   "metadata": {},
   "outputs": [
    {
     "name": "stdout",
     "output_type": "stream",
     "text": [
      "The todo task of Ramy\n",
      "I have to teach at 9am with real world examples\n",
      "12pm need to have lunch\n",
      "at 2pm have a meeting with my research supervisor\n"
     ]
    }
   ],
   "source": [
    "Ramy_tasks.display_tasks()"
   ]
  },
  {
   "cell_type": "code",
   "execution_count": 101,
   "id": "3efd2ce9",
   "metadata": {},
   "outputs": [
    {
     "name": "stdout",
     "output_type": "stream",
     "text": [
      "Task '12pm need to have lunch' completed\n"
     ]
    }
   ],
   "source": [
    "Ramy_tasks.complete_task('12pm need to have lunch')"
   ]
  },
  {
   "cell_type": "code",
   "execution_count": 103,
   "id": "2fc6ff26",
   "metadata": {},
   "outputs": [
    {
     "name": "stdout",
     "output_type": "stream",
     "text": [
      "The todo task of Ramy\n",
      "I have to teach at 9am with real world examples\n",
      "at 2pm have a meeting with my research supervisor\n"
     ]
    }
   ],
   "source": [
    "Ramy_tasks.display_tasks()"
   ]
  },
  {
   "cell_type": "code",
   "execution_count": 118,
   "id": "ee14653f",
   "metadata": {},
   "outputs": [],
   "source": [
    "class BankAccount:\n",
    "    def __init__(self, account_number, account_holder, balance = 0):\n",
    "        self.account_number = account_number\n",
    "        self.account_holder = account_holder \n",
    "        self.balance = balance\n",
    "    \n",
    "    def deposite(self, amount):\n",
    "        self.balance += amount\n",
    "        \n",
    "    def withdrawl(self, amount):\n",
    "        if amount <= self.balance:\n",
    "            self.balance -= amount\n",
    "        else:\n",
    "            print('Insufficient funds')"
   ]
  },
  {
   "cell_type": "code",
   "execution_count": 119,
   "id": "baae97b8",
   "metadata": {},
   "outputs": [],
   "source": [
    "account1 = BankAccount('123', 'Ramy Saleem')"
   ]
  },
  {
   "cell_type": "code",
   "execution_count": 120,
   "id": "1a8690e2",
   "metadata": {},
   "outputs": [
    {
     "data": {
      "text/plain": [
       "0"
      ]
     },
     "execution_count": 120,
     "metadata": {},
     "output_type": "execute_result"
    }
   ],
   "source": [
    "account1.balance"
   ]
  },
  {
   "cell_type": "code",
   "execution_count": 121,
   "id": "7270e338",
   "metadata": {},
   "outputs": [],
   "source": [
    "account1.deposite(1000)"
   ]
  },
  {
   "cell_type": "code",
   "execution_count": 122,
   "id": "affca316",
   "metadata": {},
   "outputs": [
    {
     "data": {
      "text/plain": [
       "1000"
      ]
     },
     "execution_count": 122,
     "metadata": {},
     "output_type": "execute_result"
    }
   ],
   "source": [
    "account1.balance"
   ]
  },
  {
   "cell_type": "code",
   "execution_count": 125,
   "id": "92a4c284",
   "metadata": {},
   "outputs": [],
   "source": [
    "account1.withdrawl(200)"
   ]
  },
  {
   "cell_type": "code",
   "execution_count": 126,
   "id": "c4b9bf3c",
   "metadata": {},
   "outputs": [
    {
     "data": {
      "text/plain": [
       "800"
      ]
     },
     "execution_count": 126,
     "metadata": {},
     "output_type": "execute_result"
    }
   ],
   "source": [
    "account1.balance"
   ]
  },
  {
   "cell_type": "code",
   "execution_count": 135,
   "id": "2f9b2b11",
   "metadata": {},
   "outputs": [],
   "source": [
    "class Car:\n",
    "    def __init__(self, brand, model, color):\n",
    "        self.brand = brand\n",
    "        self.model = model\n",
    "        self.color = color\n",
    "    \n",
    "    def driving(self):\n",
    "        print('Car is driving')\n",
    "        \n",
    "    def start_engine(self):\n",
    "        print(f\"The {self.color} {self.brand} {self.model} is starting\")\n",
    "    \n",
    "    def stop_engine(self):\n",
    "        print(f\"The {self.color} {self.brand} {self.model} is stopping\")"
   ]
  },
  {
   "cell_type": "code",
   "execution_count": 136,
   "id": "63fd537b",
   "metadata": {},
   "outputs": [],
   "source": [
    "car1 = Car('BMW', 'EV', 'Black')"
   ]
  },
  {
   "cell_type": "code",
   "execution_count": 137,
   "id": "692f659e",
   "metadata": {},
   "outputs": [
    {
     "data": {
      "text/plain": [
       "'BMW'"
      ]
     },
     "execution_count": 137,
     "metadata": {},
     "output_type": "execute_result"
    }
   ],
   "source": [
    "car1.brand"
   ]
  },
  {
   "cell_type": "code",
   "execution_count": 138,
   "id": "78577d0a",
   "metadata": {},
   "outputs": [
    {
     "data": {
      "text/plain": [
       "'EV'"
      ]
     },
     "execution_count": 138,
     "metadata": {},
     "output_type": "execute_result"
    }
   ],
   "source": [
    "car1.model"
   ]
  },
  {
   "cell_type": "code",
   "execution_count": 139,
   "id": "3221a7c3",
   "metadata": {},
   "outputs": [
    {
     "data": {
      "text/plain": [
       "'Black'"
      ]
     },
     "execution_count": 139,
     "metadata": {},
     "output_type": "execute_result"
    }
   ],
   "source": [
    "car1.color"
   ]
  },
  {
   "cell_type": "code",
   "execution_count": 141,
   "id": "6bb0828a",
   "metadata": {},
   "outputs": [
    {
     "name": "stdout",
     "output_type": "stream",
     "text": [
      "The Black BMW EV is starting\n"
     ]
    }
   ],
   "source": [
    "car1.start_engine()"
   ]
  },
  {
   "cell_type": "code",
   "execution_count": 140,
   "id": "6ff675a0",
   "metadata": {},
   "outputs": [
    {
     "name": "stdout",
     "output_type": "stream",
     "text": [
      "The Black BMW EV is stopping\n"
     ]
    }
   ],
   "source": [
    "car1.stop_engine()"
   ]
  },
  {
   "cell_type": "code",
   "execution_count": 179,
   "id": "8ab1fc52",
   "metadata": {},
   "outputs": [],
   "source": [
    "class Mobilephone:\n",
    "    def __init__(self, brand, model, processor, price):\n",
    "        self.brand = brand\n",
    "        self.model = model\n",
    "        self.processor = processor\n",
    "        self.price = price\n",
    "        \n",
    "    def make_calls(self, number):\n",
    "        print(f\"calling {number} with {self.brand} and {self.model}\")\n",
    "        \n",
    "    def play_games(self, name):\n",
    "        print(f\"playing games with {name} on {self.brand} and {self.model}\")\n",
    "        \n",
    "    def send_messages(self, number):\n",
    "        print(f\"sending message to {number} with {self.brand} and {self.model}\")"
   ]
  },
  {
   "cell_type": "code",
   "execution_count": 180,
   "id": "5fd35f85",
   "metadata": {},
   "outputs": [],
   "source": [
    "Samsung = Mobilephone('Samsung', 'Note 3', '8 gen 2', 1500)"
   ]
  },
  {
   "cell_type": "code",
   "execution_count": 181,
   "id": "50917f79",
   "metadata": {},
   "outputs": [
    {
     "data": {
      "text/plain": [
       "'Samsung'"
      ]
     },
     "execution_count": 181,
     "metadata": {},
     "output_type": "execute_result"
    }
   ],
   "source": [
    "Samsung.brand"
   ]
  },
  {
   "cell_type": "code",
   "execution_count": 182,
   "id": "0a804a92",
   "metadata": {},
   "outputs": [
    {
     "data": {
      "text/plain": [
       "'Note 3'"
      ]
     },
     "execution_count": 182,
     "metadata": {},
     "output_type": "execute_result"
    }
   ],
   "source": [
    "Samsung.model"
   ]
  },
  {
   "cell_type": "code",
   "execution_count": 183,
   "id": "b040a856",
   "metadata": {},
   "outputs": [
    {
     "data": {
      "text/plain": [
       "'8 gen 2'"
      ]
     },
     "execution_count": 183,
     "metadata": {},
     "output_type": "execute_result"
    }
   ],
   "source": [
    "Samsung.processor"
   ]
  },
  {
   "cell_type": "code",
   "execution_count": 184,
   "id": "8d6b79af",
   "metadata": {},
   "outputs": [
    {
     "data": {
      "text/plain": [
       "1500"
      ]
     },
     "execution_count": 184,
     "metadata": {},
     "output_type": "execute_result"
    }
   ],
   "source": [
    "Samsung.price"
   ]
  },
  {
   "cell_type": "code",
   "execution_count": 185,
   "id": "052c90f6",
   "metadata": {},
   "outputs": [
    {
     "name": "stdout",
     "output_type": "stream",
     "text": [
      "calling 123456789 with Samsung and Note 3\n"
     ]
    }
   ],
   "source": [
    "Samsung.make_calls(123456789)"
   ]
  },
  {
   "cell_type": "code",
   "execution_count": 186,
   "id": "14d7b07f",
   "metadata": {},
   "outputs": [
    {
     "name": "stdout",
     "output_type": "stream",
     "text": [
      "playing games with Ramy on Samsung and Note 3\n"
     ]
    }
   ],
   "source": [
    "Samsung.play_games('Ramy')"
   ]
  },
  {
   "cell_type": "code",
   "execution_count": 189,
   "id": "849d5fb8",
   "metadata": {},
   "outputs": [
    {
     "name": "stdout",
     "output_type": "stream",
     "text": [
      "sending message to 912244387 with Samsung and Note 3\n"
     ]
    }
   ],
   "source": [
    "Samsung.send_messages(912244387)"
   ]
  },
  {
   "cell_type": "code",
   "execution_count": 192,
   "id": "075b2408",
   "metadata": {},
   "outputs": [],
   "source": [
    "class Laptop:\n",
    "    def __init__(self, model, version, brand, ram):\n",
    "        self.model = model\n",
    "        self.version = version\n",
    "        self.brand = brand\n",
    "        self.ram = ram\n",
    "        \n",
    "    def power_on(self):\n",
    "        print(f\"The laptop {self.model} is power on\")\n",
    "        \n",
    "    def power_off(self):\n",
    "        print(f\"The laptop {self.model} is power on\")\n",
    "        "
   ]
  },
  {
   "cell_type": "code",
   "execution_count": 194,
   "id": "a310e44d",
   "metadata": {},
   "outputs": [],
   "source": [
    "hp = Laptop('hp', 'Elitebook', 'vPro', '8G')"
   ]
  },
  {
   "cell_type": "code",
   "execution_count": 195,
   "id": "728844e3",
   "metadata": {},
   "outputs": [
    {
     "data": {
      "text/plain": [
       "'hp'"
      ]
     },
     "execution_count": 195,
     "metadata": {},
     "output_type": "execute_result"
    }
   ],
   "source": [
    "hp.model"
   ]
  },
  {
   "cell_type": "code",
   "execution_count": 196,
   "id": "b887fd1e",
   "metadata": {},
   "outputs": [
    {
     "data": {
      "text/plain": [
       "'Elitebook'"
      ]
     },
     "execution_count": 196,
     "metadata": {},
     "output_type": "execute_result"
    }
   ],
   "source": [
    "hp.version"
   ]
  },
  {
   "cell_type": "code",
   "execution_count": 197,
   "id": "71bc37b9",
   "metadata": {},
   "outputs": [
    {
     "data": {
      "text/plain": [
       "'vPro'"
      ]
     },
     "execution_count": 197,
     "metadata": {},
     "output_type": "execute_result"
    }
   ],
   "source": [
    "hp.brand"
   ]
  },
  {
   "cell_type": "code",
   "execution_count": 198,
   "id": "90fff55d",
   "metadata": {},
   "outputs": [
    {
     "data": {
      "text/plain": [
       "'8G'"
      ]
     },
     "execution_count": 198,
     "metadata": {},
     "output_type": "execute_result"
    }
   ],
   "source": [
    "hp.ram"
   ]
  },
  {
   "cell_type": "code",
   "execution_count": 199,
   "id": "4562ce26",
   "metadata": {},
   "outputs": [
    {
     "name": "stdout",
     "output_type": "stream",
     "text": [
      "The laptop hp is power on\n"
     ]
    }
   ],
   "source": [
    "hp.power_on()"
   ]
  },
  {
   "cell_type": "code",
   "execution_count": 201,
   "id": "3bb84421",
   "metadata": {},
   "outputs": [
    {
     "name": "stdout",
     "output_type": "stream",
     "text": [
      "The laptop hp is power on\n"
     ]
    }
   ],
   "source": [
    "hp.power_off()"
   ]
  },
  {
   "cell_type": "code",
   "execution_count": null,
   "id": "f9349d1d",
   "metadata": {},
   "outputs": [],
   "source": [
    "## VLC media player\n"
   ]
  },
  {
   "cell_type": "code",
   "execution_count": 210,
   "id": "847cd349",
   "metadata": {},
   "outputs": [],
   "source": [
    "class VLCmediaplayer:\n",
    "    def __init__(self, make, model, version, price):\n",
    "        self.make = make\n",
    "        self.model = model\n",
    "        self.version = version\n",
    "        self.price = price\n",
    "    \n",
    "    def play_music(self):\n",
    "        print(f\"The {self.make} is playing a music\")"
   ]
  },
  {
   "cell_type": "code",
   "execution_count": 211,
   "id": "28453e18",
   "metadata": {},
   "outputs": [],
   "source": [
    "walkman = VLCmediaplayer('Sunny', 'walkmen2', '2020', 1500)"
   ]
  },
  {
   "cell_type": "code",
   "execution_count": 212,
   "id": "d22806c5",
   "metadata": {},
   "outputs": [
    {
     "name": "stdout",
     "output_type": "stream",
     "text": [
      "The Sunny is playing a music\n"
     ]
    }
   ],
   "source": [
    "walkman.play_music()"
   ]
  },
  {
   "cell_type": "code",
   "execution_count": 213,
   "id": "81fc5f6c",
   "metadata": {},
   "outputs": [],
   "source": [
    "## Camera\n",
    "## Games\n",
    "## Dishwasher\n",
    "## Washing machine"
   ]
  },
  {
   "cell_type": "markdown",
   "id": "3e21545b",
   "metadata": {},
   "source": [
    "**Thank you**\n",
    "\n",
    "**Ramy Abdallah**"
   ]
  }
 ],
 "metadata": {
  "kernelspec": {
   "display_name": "Python 3 (ipykernel)",
   "language": "python",
   "name": "python3"
  },
  "language_info": {
   "codemirror_mode": {
    "name": "ipython",
    "version": 3
   },
   "file_extension": ".py",
   "mimetype": "text/x-python",
   "name": "python",
   "nbconvert_exporter": "python",
   "pygments_lexer": "ipython3",
   "version": "3.9.10"
  }
 },
 "nbformat": 4,
 "nbformat_minor": 5
}
