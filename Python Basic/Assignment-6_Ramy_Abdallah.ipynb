{
 "cells": [
  {
   "cell_type": "markdown",
   "id": "fae58b7d",
   "metadata": {},
   "source": [
    "## Assignment 6"
   ]
  },
  {
   "cell_type": "markdown",
   "id": "152d1f69",
   "metadata": {},
   "source": [
    "**1. What exactly is []?**"
   ]
  },
  {
   "cell_type": "markdown",
   "id": "05b68771",
   "metadata": {},
   "source": [
    "`[]` is used to represent an empty list. It is a literal notation for creating an empty list object. A list is a data structure that can hold an ordered collection of items."
   ]
  },
  {
   "cell_type": "code",
   "execution_count": 5,
   "id": "72fb00e1",
   "metadata": {},
   "outputs": [
    {
     "name": "stdout",
     "output_type": "stream",
     "text": [
      "[]\n"
     ]
    }
   ],
   "source": [
    "my_ls = []\n",
    "print(my_ls)"
   ]
  },
  {
   "cell_type": "code",
   "execution_count": 6,
   "id": "b0617c1a",
   "metadata": {},
   "outputs": [
    {
     "name": "stdout",
     "output_type": "stream",
     "text": [
      "[10]\n"
     ]
    }
   ],
   "source": [
    "my_ls.append(10)\n",
    "print(my_ls)"
   ]
  },
  {
   "cell_type": "markdown",
   "id": "8abe0b74",
   "metadata": {},
   "source": [
    "**2. In a list of values stored in a variable called spam, how would you assign the value 'hello' as the third value? (Assume [2, 4, 6, 8, 10] are in spam.)**"
   ]
  },
  {
   "cell_type": "code",
   "execution_count": 8,
   "id": "0fe03ff5",
   "metadata": {},
   "outputs": [],
   "source": [
    "spam = [2, 4, 6, 8, 10]"
   ]
  },
  {
   "cell_type": "code",
   "execution_count": 9,
   "id": "61da48a5",
   "metadata": {},
   "outputs": [],
   "source": [
    "spam[2] = ['hello']"
   ]
  },
  {
   "cell_type": "code",
   "execution_count": 10,
   "id": "759043d8",
   "metadata": {},
   "outputs": [
    {
     "name": "stdout",
     "output_type": "stream",
     "text": [
      "[2, 4, ['hello'], 8, 10]\n"
     ]
    }
   ],
   "source": [
    "print(spam)"
   ]
  },
  {
   "cell_type": "markdown",
   "id": "0515b56a",
   "metadata": {},
   "source": [
    "Let's pretend the spam includes the list ['a', 'b', 'c', 'd'] for the next three queries."
   ]
  },
  {
   "cell_type": "markdown",
   "id": "0db06cf4",
   "metadata": {},
   "source": [
    "**3. What is the value of spam[int(int('3' * 2) / 11)]?**"
   ]
  },
  {
   "cell_type": "code",
   "execution_count": 12,
   "id": "71af56ec",
   "metadata": {},
   "outputs": [],
   "source": [
    "spam = ['a', 'b', 'c', 'd']"
   ]
  },
  {
   "cell_type": "code",
   "execution_count": 13,
   "id": "282b8d65",
   "metadata": {},
   "outputs": [
    {
     "data": {
      "text/plain": [
       "'d'"
      ]
     },
     "execution_count": 13,
     "metadata": {},
     "output_type": "execute_result"
    }
   ],
   "source": [
    "spam[int(int('3' * 2) / 11)]"
   ]
  },
  {
   "cell_type": "markdown",
   "id": "16bf694e",
   "metadata": {},
   "source": [
    "**4. What is the value of spam[-1]?**"
   ]
  },
  {
   "cell_type": "code",
   "execution_count": 20,
   "id": "dcc2a9d7",
   "metadata": {},
   "outputs": [
    {
     "data": {
      "text/plain": [
       "'d'"
      ]
     },
     "execution_count": 20,
     "metadata": {},
     "output_type": "execute_result"
    }
   ],
   "source": [
    "spam[-1]"
   ]
  },
  {
   "cell_type": "markdown",
   "id": "c19048e9",
   "metadata": {},
   "source": [
    "**5. What is the value of spam[:2]?**"
   ]
  },
  {
   "cell_type": "code",
   "execution_count": 22,
   "id": "8db7e35b",
   "metadata": {},
   "outputs": [
    {
     "data": {
      "text/plain": [
       "['a', 'b']"
      ]
     },
     "execution_count": 22,
     "metadata": {},
     "output_type": "execute_result"
    }
   ],
   "source": [
    "spam[:2]"
   ]
  },
  {
   "cell_type": "markdown",
   "id": "f09a0b2d",
   "metadata": {},
   "source": [
    "**Let's pretend bacon has the list [3.14, 'cat,' 11, 'cat,' True] for the next three questions**"
   ]
  },
  {
   "cell_type": "code",
   "execution_count": 25,
   "id": "c83596ff",
   "metadata": {},
   "outputs": [],
   "source": [
    "bacon = [3.14, 'cat', 11, 'cat', True]"
   ]
  },
  {
   "cell_type": "markdown",
   "id": "f80d7f97",
   "metadata": {},
   "source": [
    "**6. What is the value of bacon.index('cat')?**"
   ]
  },
  {
   "cell_type": "code",
   "execution_count": 26,
   "id": "b5271df7",
   "metadata": {},
   "outputs": [
    {
     "data": {
      "text/plain": [
       "1"
      ]
     },
     "execution_count": 26,
     "metadata": {},
     "output_type": "execute_result"
    }
   ],
   "source": [
    "bacon.index('cat')"
   ]
  },
  {
   "cell_type": "markdown",
   "id": "c58086ec",
   "metadata": {},
   "source": [
    "**7. How does bacon.append(99) change the look of the list value in bacon?**"
   ]
  },
  {
   "cell_type": "code",
   "execution_count": 28,
   "id": "4c43df77",
   "metadata": {},
   "outputs": [
    {
     "name": "stdout",
     "output_type": "stream",
     "text": [
      "[3.14, 'cat', 11, 'cat', True, 99]\n"
     ]
    }
   ],
   "source": [
    "bacon.append(99)\n",
    "print(bacon)"
   ]
  },
  {
   "cell_type": "markdown",
   "id": "f841591c",
   "metadata": {},
   "source": [
    "**8. How does bacon.remove('cat') change the look of the list in bacon?**"
   ]
  },
  {
   "cell_type": "code",
   "execution_count": 30,
   "id": "a4140198",
   "metadata": {},
   "outputs": [
    {
     "name": "stdout",
     "output_type": "stream",
     "text": [
      "[3.14, 11, 'cat', True, 99]\n"
     ]
    }
   ],
   "source": [
    "bacon.remove('cat')\n",
    "print(bacon)"
   ]
  },
  {
   "cell_type": "markdown",
   "id": "4dbf5d31",
   "metadata": {},
   "source": [
    "**9. What are the list concatenation and list replication operators?**"
   ]
  },
  {
   "cell_type": "markdown",
   "id": "8947e120",
   "metadata": {},
   "source": [
    "The `+` operator is used to concatenate or combine two lists into a single list. It creates a new list that contains all the elements from both lists in the order they appear."
   ]
  },
  {
   "cell_type": "code",
   "execution_count": 65,
   "id": "d5c817d1",
   "metadata": {},
   "outputs": [
    {
     "name": "stdout",
     "output_type": "stream",
     "text": [
      "[1, 2, 3, 4, 5, 6]\n"
     ]
    }
   ],
   "source": [
    "ls_1 = [1, 2, 3]\n",
    "ls_2 = [4, 5, 6]\n",
    "concat_ls = ls_1 + ls_2\n",
    "print(concat_ls)"
   ]
  },
  {
   "cell_type": "markdown",
   "id": "e418dc12",
   "metadata": {},
   "source": [
    "The `*` operator, when applied to a list and an integer, replicates the elements of the list by the specified number of times. It creates a new list that repeats the original list elements in the order they appear."
   ]
  },
  {
   "cell_type": "code",
   "execution_count": 66,
   "id": "2c2ef697",
   "metadata": {},
   "outputs": [
    {
     "name": "stdout",
     "output_type": "stream",
     "text": [
      "[1, 2, 3, 1, 2, 3, 1, 2, 3]\n"
     ]
    }
   ],
   "source": [
    "ls1 = [1, 2, 3]\n",
    "replicated_list = ls1 * 3\n",
    "print(replicated_list)"
   ]
  },
  {
   "cell_type": "markdown",
   "id": "b8690f60",
   "metadata": {},
   "source": [
    "**10. What is difference between the list methods append() and insert()?**"
   ]
  },
  {
   "cell_type": "markdown",
   "id": "c0a6b5a5",
   "metadata": {},
   "source": [
    "1. `append()` method: The `append()` method is used to add an element to the end of a list. It takes a single argument, which is the element to be added, and appends it to the end of the list."
   ]
  },
  {
   "cell_type": "code",
   "execution_count": 67,
   "id": "51dcc83c",
   "metadata": {},
   "outputs": [],
   "source": [
    "ls_1.append([1, 2, 3, 4, 5])"
   ]
  },
  {
   "cell_type": "code",
   "execution_count": 68,
   "id": "531e9bbb",
   "metadata": {},
   "outputs": [
    {
     "data": {
      "text/plain": [
       "[1, 2, 3, [1, 2, 3, 4, 5]]"
      ]
     },
     "execution_count": 68,
     "metadata": {},
     "output_type": "execute_result"
    }
   ],
   "source": [
    "ls_1"
   ]
  },
  {
   "cell_type": "markdown",
   "id": "815d514d",
   "metadata": {},
   "source": [
    "2. `insert()` method: The `insert()` method is used to add an element at a specified position in the list. It takes two arguments: the index where the element should be inserted and the element itself. The existing elements are shifted to the right to accommodate the new element."
   ]
  },
  {
   "cell_type": "code",
   "execution_count": 69,
   "id": "209f2dc5",
   "metadata": {},
   "outputs": [
    {
     "name": "stdout",
     "output_type": "stream",
     "text": [
      "[555, 1, 2, 3, [1, 2, 3, 4, 5]]\n"
     ]
    }
   ],
   "source": [
    "ls_1.insert(0, 555)\n",
    "print(ls_1)"
   ]
  },
  {
   "cell_type": "markdown",
   "id": "be7c5736",
   "metadata": {},
   "source": [
    "**11. What are the two methods for removing items from a list?**"
   ]
  },
  {
   "cell_type": "code",
   "execution_count": 70,
   "id": "c1585d71",
   "metadata": {},
   "outputs": [
    {
     "name": "stdout",
     "output_type": "stream",
     "text": [
      "[1, 2, 3, [1, 2, 3, 4, 5]]\n"
     ]
    }
   ],
   "source": [
    "ls_1.remove(555)\n",
    "print(ls_1)"
   ]
  },
  {
   "cell_type": "code",
   "execution_count": 71,
   "id": "df659af9",
   "metadata": {},
   "outputs": [
    {
     "data": {
      "text/plain": [
       "3"
      ]
     },
     "execution_count": 71,
     "metadata": {},
     "output_type": "execute_result"
    }
   ],
   "source": [
    "ls_1[2]"
   ]
  },
  {
   "cell_type": "code",
   "execution_count": 73,
   "id": "a96cd1f1",
   "metadata": {},
   "outputs": [],
   "source": [
    "# remove index 2 and value = 3"
   ]
  },
  {
   "cell_type": "code",
   "execution_count": 72,
   "id": "559a3fb2",
   "metadata": {},
   "outputs": [
    {
     "name": "stdout",
     "output_type": "stream",
     "text": [
      "[1, 2, [1, 2, 3, 4, 5]]\n"
     ]
    }
   ],
   "source": [
    "ls_1.pop(2)\n",
    "print(ls_1)"
   ]
  },
  {
   "cell_type": "markdown",
   "id": "ada0c660",
   "metadata": {},
   "source": [
    "**12. Describe how list values and string values are identical.**"
   ]
  },
  {
   "cell_type": "code",
   "execution_count": 76,
   "id": "77aa51b2",
   "metadata": {},
   "outputs": [
    {
     "name": "stdout",
     "output_type": "stream",
     "text": [
      "[1, 2, 3, 4, 5]\n"
     ]
    }
   ],
   "source": [
    "my_list = [1, 2, 3, 4, 5]\n",
    "print(my_list)"
   ]
  },
  {
   "cell_type": "code",
   "execution_count": 88,
   "id": "ab6bdcb8",
   "metadata": {},
   "outputs": [
    {
     "name": "stdout",
     "output_type": "stream",
     "text": [
      "12345\n"
     ]
    }
   ],
   "source": [
    "my_str = \"12345\"\n",
    "print(my_str)"
   ]
  },
  {
   "cell_type": "markdown",
   "id": "6c6c4231",
   "metadata": {},
   "source": [
    "1. Sequence of Elements: Both lists and strings are ordered sequences of elements. They store multiple values in a specific order, allowing for indexing and iteration.\n",
    "\n",
    "\n",
    "2. Indexing and Slicing: Both lists and strings support indexing and slicing operations. You can access individual elements by their index and retrieve sub-sequences of elements using slice notation."
   ]
  },
  {
   "cell_type": "code",
   "execution_count": 89,
   "id": "9e782b74",
   "metadata": {},
   "outputs": [
    {
     "data": {
      "text/plain": [
       "1"
      ]
     },
     "execution_count": 89,
     "metadata": {},
     "output_type": "execute_result"
    }
   ],
   "source": [
    "my_list[0]"
   ]
  },
  {
   "cell_type": "code",
   "execution_count": 90,
   "id": "931260bc",
   "metadata": {},
   "outputs": [
    {
     "data": {
      "text/plain": [
       "5"
      ]
     },
     "execution_count": 90,
     "metadata": {},
     "output_type": "execute_result"
    }
   ],
   "source": [
    "my_list[4]"
   ]
  },
  {
   "cell_type": "code",
   "execution_count": 91,
   "id": "4f13c36b",
   "metadata": {},
   "outputs": [
    {
     "data": {
      "text/plain": [
       "'1'"
      ]
     },
     "execution_count": 91,
     "metadata": {},
     "output_type": "execute_result"
    }
   ],
   "source": [
    "my_str[0]"
   ]
  },
  {
   "cell_type": "code",
   "execution_count": 92,
   "id": "6b19a2b3",
   "metadata": {},
   "outputs": [
    {
     "data": {
      "text/plain": [
       "'5'"
      ]
     },
     "execution_count": 92,
     "metadata": {},
     "output_type": "execute_result"
    }
   ],
   "source": [
    "my_str[4]"
   ]
  },
  {
   "cell_type": "markdown",
   "id": "4582d0de",
   "metadata": {},
   "source": [
    "**13. Whats the difference between tuples and lists?**"
   ]
  },
  {
   "cell_type": "markdown",
   "id": "a48a96a2",
   "metadata": {},
   "source": [
    "Tuples and lists are both sequence data types in Python, but they have several key differences:\n",
    "\n",
    "1. Mutability: Lists are mutable, which means you can modify, add, or remove elements after the list is created. Elements can be changed individually, the length of the list can be altered, and new elements can be appended or inserted. Tuples, on the other hand, are immutable. Once a tuple is created, its elements cannot be modified. Tuples are fixed in size and cannot be changed, providing data integrity and immutability."
   ]
  },
  {
   "cell_type": "markdown",
   "id": "c5b252c3",
   "metadata": {},
   "source": [
    "2. Syntax: Lists are defined using square brackets [ ], and elements are separated by commas. Elements in a list can be of different data types, and the length of a list can vary. Tuples are defined using parentheses ( ), and elements are also separated by commas. Tuples can contain elements of different data types, similar to lists, but their length is fixed."
   ]
  },
  {
   "cell_type": "markdown",
   "id": "9d5ee92b",
   "metadata": {},
   "source": [
    "3. Usage and Purpose: Lists are commonly used when you have a collection of related items that may change or need to be modified over time. They are flexible and provide methods like append(), insert(), and remove() for modifying the list. Tuples are often used when you have a collection of values that are not expected to change. They are useful for representing fixed sets of values or data structures where immutability is desired. Tuples can also be used as keys in dictionaries due to their immutability."
   ]
  },
  {
   "cell_type": "code",
   "execution_count": 105,
   "id": "5cdecca7",
   "metadata": {},
   "outputs": [
    {
     "name": "stdout",
     "output_type": "stream",
     "text": [
      "[1, 'apple', True]\n"
     ]
    }
   ],
   "source": [
    "my_list = [1, 'apple', True]\n",
    "print(my_list)"
   ]
  },
  {
   "cell_type": "code",
   "execution_count": 106,
   "id": "a1d7b4d0",
   "metadata": {},
   "outputs": [
    {
     "name": "stdout",
     "output_type": "stream",
     "text": [
      "(1, 'apple', True)\n"
     ]
    }
   ],
   "source": [
    "my_tuple = (1, 'apple', True)\n",
    "print(my_tuple)"
   ]
  },
  {
   "cell_type": "markdown",
   "id": "a45c863a",
   "metadata": {},
   "source": [
    "**14. How do you type a tuple value that only contains the integer 42?**"
   ]
  },
  {
   "cell_type": "markdown",
   "id": "b8fb012d",
   "metadata": {},
   "source": [
    "To create a tuple value that only contains the integer 42, you can use parentheses and place the integer value inside. Here's the syntax to create such a tuple:"
   ]
  },
  {
   "cell_type": "code",
   "execution_count": 95,
   "id": "9a3738ab",
   "metadata": {},
   "outputs": [],
   "source": [
    "my_tuple = (42,)"
   ]
  },
  {
   "cell_type": "code",
   "execution_count": 96,
   "id": "711c2065",
   "metadata": {},
   "outputs": [
    {
     "name": "stdout",
     "output_type": "stream",
     "text": [
      "(42,)\n"
     ]
    }
   ],
   "source": [
    "print(my_tuple)"
   ]
  },
  {
   "cell_type": "markdown",
   "id": "f4a92703",
   "metadata": {},
   "source": [
    "**15. How do you get a list value's tuple form? How do you get a tuple value's list form?**"
   ]
  },
  {
   "cell_type": "markdown",
   "id": "5f301fb2",
   "metadata": {},
   "source": [
    "To convert a list value into its tuple form, you can use the tuple() function. This function takes an iterable (such as a list) as an argument and returns a tuple containing the elements of the iterable."
   ]
  },
  {
   "cell_type": "code",
   "execution_count": 98,
   "id": "c2829ac7",
   "metadata": {},
   "outputs": [],
   "source": [
    "my_list = [1, 2, 3, 4, 5]"
   ]
  },
  {
   "cell_type": "code",
   "execution_count": 99,
   "id": "cf61e063",
   "metadata": {},
   "outputs": [
    {
     "name": "stdout",
     "output_type": "stream",
     "text": [
      "(1, 2, 3, 4, 5)\n"
     ]
    }
   ],
   "source": [
    "my_tuple = tuple(my_list)\n",
    "print(my_tuple)"
   ]
  },
  {
   "cell_type": "markdown",
   "id": "df46ddaa",
   "metadata": {},
   "source": [
    "**16. Variables that \"contain\" list values are not necessarily lists themselves. Instead, what do they contain?**"
   ]
  },
  {
   "cell_type": "markdown",
   "id": "5bdf3383",
   "metadata": {},
   "source": [
    "Variables that \"contain\" list values in Python actually store references to the list objects rather than the lists themselves. In Python, objects are stored separately in memory, and variables hold references or pointers to those objects.\n",
    "\n",
    "\n",
    "When you assign a list to a variable, the variable does not directly contain the list's elements. Instead, it contains a reference to the memory location where the list object is stored. This reference allows you to access and manipulate the list's elements through the variable."
   ]
  },
  {
   "cell_type": "code",
   "execution_count": 101,
   "id": "7895b180",
   "metadata": {},
   "outputs": [
    {
     "name": "stdout",
     "output_type": "stream",
     "text": [
      "[1, 2, 3]\n"
     ]
    }
   ],
   "source": [
    "my_list = [1, 2, 3]\n",
    "print(my_list)"
   ]
  },
  {
   "cell_type": "code",
   "execution_count": 102,
   "id": "f57ab5fc",
   "metadata": {},
   "outputs": [
    {
     "name": "stdout",
     "output_type": "stream",
     "text": [
      "[1, 2, 3]\n"
     ]
    }
   ],
   "source": [
    "another_list = my_list\n",
    "print(another_list)"
   ]
  },
  {
   "cell_type": "markdown",
   "id": "ebe99d52",
   "metadata": {},
   "source": [
    "**Ramy Abdallah**\n",
    "\n",
    "**Many Thanks**"
   ]
  }
 ],
 "metadata": {
  "kernelspec": {
   "display_name": "ML_comp",
   "language": "python",
   "name": "ml_comp"
  },
  "language_info": {
   "codemirror_mode": {
    "name": "ipython",
    "version": 3
   },
   "file_extension": ".py",
   "mimetype": "text/x-python",
   "name": "python",
   "nbconvert_exporter": "python",
   "pygments_lexer": "ipython3",
   "version": "3.9.10"
  }
 },
 "nbformat": 4,
 "nbformat_minor": 5
}
