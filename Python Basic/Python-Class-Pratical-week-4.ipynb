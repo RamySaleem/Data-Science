{
 "cells": [
  {
   "cell_type": "markdown",
   "id": "61ebeb14",
   "metadata": {},
   "source": [
    "# Basic Python Practice"
   ]
  },
  {
   "cell_type": "markdown",
   "id": "65bace9b",
   "metadata": {},
   "source": [
    "## *Functions*"
   ]
  },
  {
   "cell_type": "markdown",
   "id": "7f646613",
   "metadata": {},
   "source": [
    "## User Defined Funcions"
   ]
  },
  {
   "cell_type": "code",
   "execution_count": 13,
   "id": "8e9c368a",
   "metadata": {},
   "outputs": [],
   "source": [
    "def introduction():\n",
    "    return('Hello Ramy, this is a cool function')"
   ]
  },
  {
   "cell_type": "code",
   "execution_count": 14,
   "id": "ba6d1ea2",
   "metadata": {},
   "outputs": [
    {
     "data": {
      "text/plain": [
       "'Hello Ramy, this is a cool function'"
      ]
     },
     "execution_count": 14,
     "metadata": {},
     "output_type": "execute_result"
    }
   ],
   "source": [
    "# call the fuction\n",
    "introduction()"
   ]
  },
  {
   "cell_type": "code",
   "execution_count": 15,
   "id": "c1820219",
   "metadata": {},
   "outputs": [],
   "source": [
    "def introduce(firstname): \n",
    "    \"\"\"\n",
    "    name of the fuction is introduction, \n",
    "    then we are passing some arguements or parameters\n",
    "    whatever you want to process will be in body\n",
    "    \"\"\"\n",
    "    return('My name is ' + firstname) # body"
   ]
  },
  {
   "cell_type": "code",
   "execution_count": 16,
   "id": "cd28f209",
   "metadata": {},
   "outputs": [
    {
     "data": {
      "text/plain": [
       "'My name is Ramy'"
      ]
     },
     "execution_count": 16,
     "metadata": {},
     "output_type": "execute_result"
    }
   ],
   "source": [
    "# call the fuction\n",
    "introduce('Ramy')"
   ]
  },
  {
   "cell_type": "code",
   "execution_count": 17,
   "id": "b8496781",
   "metadata": {},
   "outputs": [],
   "source": [
    "def introduce_users(firstname, username):\n",
    "    return ('My name is {} and my user name is {}'.format(firstname, username))"
   ]
  },
  {
   "cell_type": "code",
   "execution_count": 18,
   "id": "8641b595",
   "metadata": {},
   "outputs": [
    {
     "data": {
      "text/plain": [
       "'My name is Ramy and my user name is saleem.ramy@gmail.com'"
      ]
     },
     "execution_count": 18,
     "metadata": {},
     "output_type": "execute_result"
    }
   ],
   "source": [
    "introduce_users('Ramy', 'saleem.ramy@gmail.com')"
   ]
  },
  {
   "cell_type": "code",
   "execution_count": 21,
   "id": "e447e559",
   "metadata": {},
   "outputs": [],
   "source": [
    "# Also we can run the fuctions with optional arrguments\n",
    "def introduce_users(firstname, username = 'not avaliable!'):\n",
    "    return ('My name is {} and my user name is {}'.format(firstname, username))"
   ]
  },
  {
   "cell_type": "code",
   "execution_count": 22,
   "id": "9ff7ff91",
   "metadata": {},
   "outputs": [
    {
     "data": {
      "text/plain": [
       "'My name is Ramy and my user name is not avaliable'"
      ]
     },
     "execution_count": 22,
     "metadata": {},
     "output_type": "execute_result"
    }
   ],
   "source": [
    "introduce_users('Ramy')"
   ]
  },
  {
   "cell_type": "code",
   "execution_count": 23,
   "id": "801b0289",
   "metadata": {},
   "outputs": [],
   "source": [
    "# Also we can run the fuctions with optional arrguments\n",
    "def introduce_users(firstname, username = ''):\n",
    "    return ('My name is {} and my user name is {}'.format(firstname, username))"
   ]
  },
  {
   "cell_type": "code",
   "execution_count": 24,
   "id": "f09d95a3",
   "metadata": {},
   "outputs": [
    {
     "data": {
      "text/plain": [
       "'My name is Ramy and my user name is '"
      ]
     },
     "execution_count": 24,
     "metadata": {},
     "output_type": "execute_result"
    }
   ],
   "source": [
    "introduce_users('Ramy')"
   ]
  },
  {
   "cell_type": "code",
   "execution_count": 35,
   "id": "07cd018f",
   "metadata": {},
   "outputs": [],
   "source": [
    "def add_num(num1, num2):\n",
    "    result = num1 + num2\n",
    "    return (f'The sum of the two numbers is: {result}')"
   ]
  },
  {
   "cell_type": "code",
   "execution_count": 36,
   "id": "41080224",
   "metadata": {},
   "outputs": [
    {
     "data": {
      "text/plain": [
       "'The sum of the two numbers is: 8'"
      ]
     },
     "execution_count": 36,
     "metadata": {},
     "output_type": "execute_result"
    }
   ],
   "source": [
    "add_num(5, 3)"
   ]
  },
  {
   "cell_type": "code",
   "execution_count": 37,
   "id": "0e7125a5",
   "metadata": {},
   "outputs": [],
   "source": [
    "def add_num(num1, num2):\n",
    "    result = sum([num1, num2])\n",
    "    return (f'The sum of the two numbers is: {result}')"
   ]
  },
  {
   "cell_type": "code",
   "execution_count": 38,
   "id": "4e3f1fd9",
   "metadata": {},
   "outputs": [
    {
     "data": {
      "text/plain": [
       "'The sum of the two numbers is: 80'"
      ]
     },
     "execution_count": 38,
     "metadata": {},
     "output_type": "execute_result"
    }
   ],
   "source": [
    "add_num(50, 30)"
   ]
  },
  {
   "cell_type": "code",
   "execution_count": 42,
   "id": "e3082463",
   "metadata": {},
   "outputs": [],
   "source": [
    "def add_num(num1, num2):\n",
    "    results = sum([num1, num2])"
   ]
  },
  {
   "cell_type": "code",
   "execution_count": 43,
   "id": "14f81963",
   "metadata": {},
   "outputs": [
    {
     "name": "stdout",
     "output_type": "stream",
     "text": [
      "The sum of two numbers is: None\n"
     ]
    }
   ],
   "source": [
    "print('The sum of two numbers is:', add_num(5, 10))"
   ]
  },
  {
   "cell_type": "code",
   "execution_count": 45,
   "id": "3f4f7eac",
   "metadata": {},
   "outputs": [],
   "source": [
    "def add_gd_num(num1, num2):\n",
    "    results = sum([num1, num2])\n",
    "    return results"
   ]
  },
  {
   "cell_type": "code",
   "execution_count": 46,
   "id": "2bf9cda7",
   "metadata": {},
   "outputs": [
    {
     "name": "stdout",
     "output_type": "stream",
     "text": [
      "The sum of two numbers is: 15\n"
     ]
    }
   ],
   "source": [
    "print('The sum of two numbers is:', add_gd_num(5, 10))"
   ]
  },
  {
   "cell_type": "code",
   "execution_count": 122,
   "id": "bbf194a4",
   "metadata": {},
   "outputs": [],
   "source": [
    "# Make a function which takes two arguement num1 and num2 \n",
    "# That will ak to enter num1 and num2 \n",
    "# and it perform add, sub, mul, div"
   ]
  },
  {
   "cell_type": "code",
   "execution_count": 93,
   "id": "30b720b6",
   "metadata": {},
   "outputs": [],
   "source": [
    "def calculator():\n",
    "    num1  = float(input('Entre your first number: '))\n",
    "    num2  = float(input('Entre your second number: '))\n",
    "    charactor = input('Entre your function: ')\n",
    "    \n",
    "    if charactor == '+':\n",
    "        results = (f'The sum of result is {num1 + num2}')\n",
    "    elif charactor == '-':\n",
    "        results = (f'The difference of result is {num1 - num2}')\n",
    "    elif charactor == '*':\n",
    "        results = (f'The product of result is {num1 * num2}')\n",
    "    elif charactor == '/':\n",
    "        results = (f'The division of result is {num1 / num2}')\n",
    "    elif charactor == 'all':\n",
    "        results = {'sum' : num1 + num2,\n",
    "                 'diff' : num1 - num2,\n",
    "                 'product' : num1 * num2,\n",
    "                 'quotient' : num1 / num2\n",
    "                    }\n",
    "        print('The sum of result is: ', results['sum'])\n",
    "        print('The difference of result is: ', results['diff']) \n",
    "        print('The product of result is: ', results['product'])\n",
    "        print('The quotient of reuslt is: ', results['quotient'])\n",
    "    else:\n",
    "        results = 'Enter a valid charactor'\n",
    "    return results"
   ]
  },
  {
   "cell_type": "code",
   "execution_count": 94,
   "id": "e5fa2587",
   "metadata": {
    "scrolled": true
   },
   "outputs": [
    {
     "name": "stdout",
     "output_type": "stream",
     "text": [
      "Entre your first number: 5\n",
      "Entre your second number: 5\n",
      "Entre your function: all\n",
      "The sum of result is:  10.0\n",
      "The difference of result is:  0.0\n",
      "The product of result is:  25.0\n",
      "The quotient of reuslt is:  1.0\n"
     ]
    },
    {
     "data": {
      "text/plain": [
       "{'sum': 10.0, 'diff': 0.0, 'product': 25.0, 'quotient': 1.0}"
      ]
     },
     "execution_count": 94,
     "metadata": {},
     "output_type": "execute_result"
    }
   ],
   "source": [
    "calculator()"
   ]
  },
  {
   "cell_type": "code",
   "execution_count": 114,
   "id": "6188ff0c",
   "metadata": {},
   "outputs": [],
   "source": [
    "def convert_string():\n",
    "    firstname = input('Enter your first name: ')\n",
    "    lastname = input('Enter your second name: ')\n",
    "    return (firstname.capitalize() + ' ' + lastname.capitalize())"
   ]
  },
  {
   "cell_type": "code",
   "execution_count": 118,
   "id": "34dd0e73",
   "metadata": {},
   "outputs": [
    {
     "name": "stdout",
     "output_type": "stream",
     "text": [
      "Enter your first name: ramy\n",
      "Enter your second name: saleem\n",
      "Student name is:  Ramy Saleem\n"
     ]
    }
   ],
   "source": [
    "print('Student name is: ', convert_string())"
   ]
  },
  {
   "cell_type": "code",
   "execution_count": 119,
   "id": "d97efbce",
   "metadata": {},
   "outputs": [],
   "source": [
    "def print_even_num():\n",
    "    n = int((input('Enter the number: ')))\n",
    "    even_num_ls = []\n",
    "    for num in range(1 , n + 1):\n",
    "        if num % 2 == 0:\n",
    "            even_num_ls.append(num)\n",
    "    return ('Even number up to', n, 'are', even_num_ls)"
   ]
  },
  {
   "cell_type": "code",
   "execution_count": 121,
   "id": "63ca9ba1",
   "metadata": {},
   "outputs": [
    {
     "name": "stdout",
     "output_type": "stream",
     "text": [
      "Enter the number: 20\n"
     ]
    },
    {
     "data": {
      "text/plain": [
       "('Even number up to', 20, 'are', [2, 4, 6, 8, 10, 12, 14, 16, 18, 20])"
      ]
     },
     "execution_count": 121,
     "metadata": {},
     "output_type": "execute_result"
    }
   ],
   "source": [
    "print_even_num()"
   ]
  },
  {
   "cell_type": "markdown",
   "id": "8ffdbe7f",
   "metadata": {},
   "source": [
    "## Lambda Functions"
   ]
  },
  {
   "cell_type": "code",
   "execution_count": 123,
   "id": "e8143883",
   "metadata": {},
   "outputs": [
    {
     "data": {
      "text/plain": [
       "10"
      ]
     },
     "execution_count": 123,
     "metadata": {},
     "output_type": "execute_result"
    }
   ],
   "source": [
    "add = lambda x, y: x + y\n",
    "add(6, 4)"
   ]
  },
  {
   "cell_type": "code",
   "execution_count": 127,
   "id": "cba99a3e",
   "metadata": {},
   "outputs": [
    {
     "data": {
      "text/plain": [
       "16"
      ]
     },
     "execution_count": 127,
     "metadata": {},
     "output_type": "execute_result"
    }
   ],
   "source": [
    "square_root = lambda z, g: z ** g\n",
    "square_root(4, 2)"
   ]
  },
  {
   "cell_type": "code",
   "execution_count": 129,
   "id": "be7ced3b",
   "metadata": {},
   "outputs": [
    {
     "data": {
      "text/plain": [
       "25"
      ]
     },
     "execution_count": 129,
     "metadata": {},
     "output_type": "execute_result"
    }
   ],
   "source": [
    "square = lambda z: z ** 2\n",
    "square(5)"
   ]
  },
  {
   "cell_type": "code",
   "execution_count": 136,
   "id": "2c349be3",
   "metadata": {},
   "outputs": [
    {
     "data": {
      "text/plain": [
       "10"
      ]
     },
     "execution_count": 136,
     "metadata": {},
     "output_type": "execute_result"
    }
   ],
   "source": [
    "concat = lambda x,y: x + y\n",
    "concat(5, 5)"
   ]
  },
  {
   "cell_type": "code",
   "execution_count": 138,
   "id": "b8dc9676",
   "metadata": {},
   "outputs": [
    {
     "data": {
      "text/plain": [
       "'Good Morning'"
      ]
     },
     "execution_count": 138,
     "metadata": {},
     "output_type": "execute_result"
    }
   ],
   "source": [
    "concat('Good ', 'Morning')"
   ]
  },
  {
   "cell_type": "code",
   "execution_count": 140,
   "id": "0ee6a1fc",
   "metadata": {},
   "outputs": [
    {
     "data": {
      "text/plain": [
       "'even'"
      ]
     },
     "execution_count": 140,
     "metadata": {},
     "output_type": "execute_result"
    }
   ],
   "source": [
    "even_or_odd = lambda x: 'even' if x%2 ==0 else 'odd'\n",
    "even_or_odd(8)"
   ]
  },
  {
   "cell_type": "code",
   "execution_count": 141,
   "id": "04ad1f0d",
   "metadata": {},
   "outputs": [],
   "source": [
    "even_or_odd = lambda x: 'even' if x%2 == 0 else 'odd'"
   ]
  },
  {
   "cell_type": "code",
   "execution_count": 144,
   "id": "258d590a",
   "metadata": {},
   "outputs": [
    {
     "data": {
      "text/plain": [
       "'even'"
      ]
     },
     "execution_count": 144,
     "metadata": {},
     "output_type": "execute_result"
    }
   ],
   "source": [
    "even_or_odd(53251487965481722)"
   ]
  },
  {
   "cell_type": "code",
   "execution_count": 147,
   "id": "407a7a70",
   "metadata": {},
   "outputs": [
    {
     "data": {
      "text/plain": [
       "3.251487"
      ]
     },
     "execution_count": 147,
     "metadata": {},
     "output_type": "execute_result"
    }
   ],
   "source": [
    "max_num = lambda x,y: x if x > y else y\n",
    "max_num(3.235487946512, 3.251487)"
   ]
  },
  {
   "cell_type": "code",
   "execution_count": 148,
   "id": "5c1e5cc2",
   "metadata": {},
   "outputs": [],
   "source": [
    "f = lambda: input('Enter number: ')"
   ]
  },
  {
   "cell_type": "code",
   "execution_count": 150,
   "id": "a96b211a",
   "metadata": {},
   "outputs": [
    {
     "name": "stdout",
     "output_type": "stream",
     "text": [
      "Enter number: 6\n"
     ]
    },
    {
     "data": {
      "text/plain": [
       "'6'"
      ]
     },
     "execution_count": 150,
     "metadata": {},
     "output_type": "execute_result"
    }
   ],
   "source": [
    "f()"
   ]
  },
  {
   "cell_type": "code",
   "execution_count": 161,
   "id": "d5ff8499",
   "metadata": {},
   "outputs": [
    {
     "name": "stdout",
     "output_type": "stream",
     "text": [
      "Enter number: 55\n"
     ]
    },
    {
     "data": {
      "text/plain": [
       "3025.0"
      ]
     },
     "execution_count": 161,
     "metadata": {},
     "output_type": "execute_result"
    }
   ],
   "source": [
    "f = lambda x: x * x\n",
    "f(float(input('Enter number: ')))"
   ]
  },
  {
   "cell_type": "code",
   "execution_count": 163,
   "id": "12c59242",
   "metadata": {},
   "outputs": [],
   "source": [
    "square_func = lambda x: x**2"
   ]
  },
  {
   "cell_type": "code",
   "execution_count": 166,
   "id": "309627da",
   "metadata": {},
   "outputs": [
    {
     "name": "stdout",
     "output_type": "stream",
     "text": [
      "4\n",
      "25\n",
      "196\n"
     ]
    }
   ],
   "source": [
    "ls = [2, 5, 14]\n",
    "for i in ls:\n",
    "    print(square_func(i))"
   ]
  },
  {
   "cell_type": "code",
   "execution_count": 169,
   "id": "220e9242",
   "metadata": {},
   "outputs": [
    {
     "data": {
      "text/plain": [
       "170"
      ]
     },
     "execution_count": 169,
     "metadata": {},
     "output_type": "execute_result"
    }
   ],
   "source": [
    "# let us make a lambda function to add three numbers\n",
    "\n",
    "add_two_num = lambda x,y,z: x + y + z\n",
    "add_two_num(53, 96, 21)"
   ]
  },
  {
   "cell_type": "code",
   "execution_count": 171,
   "id": "250391cc",
   "metadata": {},
   "outputs": [
    {
     "name": "stdout",
     "output_type": "stream",
     "text": [
      "Entre 1st number: 5\n",
      "Enter 2nd number: 5\n",
      "Enter 3rd number: 5\n",
      "15\n"
     ]
    }
   ],
   "source": [
    "num1 = int(input('Entre 1st number: '))\n",
    "num2 = int(input('Enter 2nd number: '))\n",
    "num3 = int(input('Enter 3rd number: '))\n",
    "print(add_two_num(num1, num2, num3))"
   ]
  },
  {
   "cell_type": "code",
   "execution_count": 173,
   "id": "b1860f69",
   "metadata": {},
   "outputs": [
    {
     "name": "stdout",
     "output_type": "stream",
     "text": [
      "[1, 4, 9, 16, 25]\n"
     ]
    }
   ],
   "source": [
    "# compute squre of every item in the list\n",
    "num_ls = [1, 2, 3, 4, 5]\n",
    "my_list_cal = lambda x: [i **2 for i in  x]\n",
    "print(my_list_cal(num_ls))"
   ]
  },
  {
   "cell_type": "code",
   "execution_count": 174,
   "id": "1d5b917b",
   "metadata": {},
   "outputs": [
    {
     "data": {
      "text/plain": [
       "[48, 130, 174, 192]"
      ]
     },
     "execution_count": 174,
     "metadata": {},
     "output_type": "execute_result"
    }
   ],
   "source": [
    "multiply_ls_nums = lambda x: [i *2 for i in x]\n",
    "multiply_ls_nums([24, 65, 87,96])"
   ]
  },
  {
   "cell_type": "code",
   "execution_count": 175,
   "id": "4cad609f",
   "metadata": {},
   "outputs": [],
   "source": [
    "# Lambda used with map(), filter(), reduce(), sorted()"
   ]
  },
  {
   "cell_type": "code",
   "execution_count": 197,
   "id": "f39161ac",
   "metadata": {},
   "outputs": [],
   "source": [
    "products = [\n",
    "            {'name': 'Phone', 'price' : 1000},\n",
    "            {'name': 'Printer', 'price' : 200},\n",
    "            {'name': 'Headphone', 'price' : 100},\n",
    "            {'name': 'Laptop', 'price' : 5000}\n",
    "            ]"
   ]
  },
  {
   "cell_type": "code",
   "execution_count": 198,
   "id": "a1d9f51b",
   "metadata": {},
   "outputs": [
    {
     "data": {
      "text/plain": [
       "[{'name': 'Phone', 'price': 1000},\n",
       " {'name': 'Printer', 'price': 200},\n",
       " {'name': 'Headphone', 'price': 100},\n",
       " {'name': 'Laptop', 'price': 5000}]"
      ]
     },
     "execution_count": 198,
     "metadata": {},
     "output_type": "execute_result"
    }
   ],
   "source": [
    "products"
   ]
  },
  {
   "cell_type": "code",
   "execution_count": 200,
   "id": "432c9d55",
   "metadata": {},
   "outputs": [],
   "source": [
    "sorted_products = sorted(products, key = lambda x: x['price'], \n",
    "                         reverse=True)"
   ]
  },
  {
   "cell_type": "code",
   "execution_count": 201,
   "id": "f4f5734a",
   "metadata": {},
   "outputs": [
    {
     "name": "stdout",
     "output_type": "stream",
     "text": [
      "{'name': 'Laptop', 'price': 5000}\n",
      "{'name': 'Phone', 'price': 1000}\n",
      "{'name': 'Printer', 'price': 200}\n",
      "{'name': 'Headphone', 'price': 100}\n"
     ]
    }
   ],
   "source": [
    "for products in sorted_products:\n",
    "    print(products)"
   ]
  },
  {
   "cell_type": "code",
   "execution_count": 202,
   "id": "82f01c21",
   "metadata": {},
   "outputs": [],
   "source": [
    "ls = [54, 8, 7, 635, 64, 21, 36]"
   ]
  },
  {
   "cell_type": "code",
   "execution_count": 203,
   "id": "29bf5327",
   "metadata": {},
   "outputs": [
    {
     "data": {
      "text/plain": [
       "[635, 64, 54, 36, 21, 8, 7]"
      ]
     },
     "execution_count": 203,
     "metadata": {},
     "output_type": "execute_result"
    }
   ],
   "source": [
    "sorted(ls, reverse=True)"
   ]
  },
  {
   "cell_type": "code",
   "execution_count": null,
   "id": "b08ee879",
   "metadata": {},
   "outputs": [],
   "source": []
  },
  {
   "cell_type": "markdown",
   "id": "eb56a118",
   "metadata": {},
   "source": [
    "## Recursion"
   ]
  },
  {
   "cell_type": "code",
   "execution_count": 205,
   "id": "dabfea83",
   "metadata": {},
   "outputs": [
    {
     "name": "stdout",
     "output_type": "stream",
     "text": [
      "15\n"
     ]
    }
   ],
   "source": [
    "def rec_sum(n):\n",
    "    if n == 1:\n",
    "        return 1\n",
    "    else:\n",
    "        return n + rec_sum(n -1)\n",
    "print(rec_sum(5)) # 5+4+3+2+1"
   ]
  },
  {
   "cell_type": "code",
   "execution_count": 37,
   "id": "ac5bd6c5",
   "metadata": {},
   "outputs": [],
   "source": [
    "def rec_sum(n):\n",
    "    if n ==1:\n",
    "        return 1\n",
    "    else:\n",
    "        return n + rec_sum(n-1)"
   ]
  },
  {
   "cell_type": "code",
   "execution_count": 42,
   "id": "f4cec0ad",
   "metadata": {},
   "outputs": [
    {
     "data": {
      "text/plain": [
       "5050"
      ]
     },
     "execution_count": 42,
     "metadata": {},
     "output_type": "execute_result"
    }
   ],
   "source": [
    "rec_sum(100)"
   ]
  },
  {
   "cell_type": "code",
   "execution_count": 60,
   "id": "8b3fd9c4",
   "metadata": {},
   "outputs": [
    {
     "name": "stdout",
     "output_type": "stream",
     "text": [
      "15\n"
     ]
    }
   ],
   "source": [
    "def rec_sum(n):\n",
    "    result = 0\n",
    "    while n > 0:\n",
    "        result += n\n",
    "        n -= 1\n",
    "    return result\n",
    "print(rec_sum(5))  # 5 + 4 + 3 + 2 + 1 = 15"
   ]
  },
  {
   "cell_type": "code",
   "execution_count": 61,
   "id": "761666a2",
   "metadata": {},
   "outputs": [
    {
     "data": {
      "text/plain": [
       "5050"
      ]
     },
     "execution_count": 61,
     "metadata": {},
     "output_type": "execute_result"
    }
   ],
   "source": [
    "rec_sum(100)"
   ]
  },
  {
   "cell_type": "code",
   "execution_count": 74,
   "id": "a9794b61",
   "metadata": {},
   "outputs": [
    {
     "name": "stdout",
     "output_type": "stream",
     "text": [
      "2\n"
     ]
    }
   ],
   "source": [
    "# 0, 1, 1, 2, 3, 5, 8, 13, 21, 34....\n",
    "\n",
    "def fibonnaci(n):\n",
    "    if n <= 1:\n",
    "        return n\n",
    "    else:\n",
    "        return fibonnaci(n-1) + fibonnaci(n-2)\n",
    "print(fibonnaci(3))"
   ]
  },
  {
   "cell_type": "code",
   "execution_count": 75,
   "id": "a3d6a83b",
   "metadata": {},
   "outputs": [],
   "source": [
    "def fibonnaci(n):\n",
    "    if n <= 1:\n",
    "        return n\n",
    "    else:\n",
    "        return fibonnaci(n-1) + fibonnaci(n-2)"
   ]
  },
  {
   "cell_type": "code",
   "execution_count": 76,
   "id": "6a9acc19",
   "metadata": {},
   "outputs": [
    {
     "data": {
      "text/plain": [
       "21"
      ]
     },
     "execution_count": 76,
     "metadata": {},
     "output_type": "execute_result"
    }
   ],
   "source": [
    "fibonnaci(8)"
   ]
  },
  {
   "cell_type": "code",
   "execution_count": 77,
   "id": "e2ba91ca",
   "metadata": {},
   "outputs": [],
   "source": [
    "def print_finbonnaci(n): # n = how many items you need in your series\n",
    "    a, b = 0, 1 # intial value of a and b are set to 0 and 1\n",
    "    for i in range(n):\n",
    "        print(a)\n",
    "        a, b = b, a + b # update the values of a and b"
   ]
  },
  {
   "cell_type": "code",
   "execution_count": 41,
   "id": "181406fc",
   "metadata": {},
   "outputs": [
    {
     "name": "stdout",
     "output_type": "stream",
     "text": [
      "0\n",
      "1\n",
      "1\n",
      "2\n",
      "3\n",
      "5\n",
      "8\n",
      "13\n"
     ]
    }
   ],
   "source": [
    "print_finbonnaci(8)"
   ]
  },
  {
   "cell_type": "code",
   "execution_count": 81,
   "id": "2867344c",
   "metadata": {},
   "outputs": [],
   "source": [
    "def print_fibbonnaci(n):\n",
    "    a,b = 0, 1\n",
    "    for i in range(n):\n",
    "        print(a)\n",
    "        a, b = b, a+b"
   ]
  },
  {
   "cell_type": "code",
   "execution_count": 82,
   "id": "40e63c16",
   "metadata": {},
   "outputs": [
    {
     "name": "stdout",
     "output_type": "stream",
     "text": [
      "0\n",
      "1\n",
      "1\n",
      "2\n",
      "3\n",
      "5\n",
      "8\n",
      "13\n"
     ]
    }
   ],
   "source": [
    "print_fibbonnaci(8)"
   ]
  },
  {
   "cell_type": "code",
   "execution_count": 5,
   "id": "df7e6241",
   "metadata": {},
   "outputs": [],
   "source": [
    "##################################"
   ]
  },
  {
   "cell_type": "code",
   "execution_count": 1,
   "id": "ebb806a8",
   "metadata": {},
   "outputs": [],
   "source": [
    "def fibonacci(n):\n",
    "    if n <= 0:\n",
    "        return []\n",
    "    elif n == 1:\n",
    "        return [0]\n",
    "    elif n == 2:\n",
    "        return [0, 1]\n",
    "    else:\n",
    "        sequence = fibonacci(n-1)\n",
    "        sequence.append(sequence[-1] + sequence[-2])\n",
    "        return sequence"
   ]
  },
  {
   "cell_type": "code",
   "execution_count": 2,
   "id": "06cc357b",
   "metadata": {},
   "outputs": [
    {
     "name": "stdout",
     "output_type": "stream",
     "text": [
      "[0, 1, 1, 2, 3, 5, 8, 13]\n"
     ]
    }
   ],
   "source": [
    "# Test the function\n",
    "n = 8\n",
    "fib_sequence = fibonacci(n)\n",
    "print(fib_sequence)"
   ]
  },
  {
   "cell_type": "code",
   "execution_count": 17,
   "id": "396a3f61",
   "metadata": {},
   "outputs": [],
   "source": [
    "def print_finbonnaci(n):\n",
    "    a, b = 0, 1 \n",
    "    for i in range(n):\n",
    "        print(a)\n",
    "        a, b = b, a + b "
   ]
  },
  {
   "cell_type": "code",
   "execution_count": 18,
   "id": "d3feb9ad",
   "metadata": {},
   "outputs": [
    {
     "name": "stdout",
     "output_type": "stream",
     "text": [
      "0\n",
      "1\n",
      "1\n",
      "2\n",
      "3\n",
      "5\n",
      "8\n",
      "13\n"
     ]
    }
   ],
   "source": [
    "print_finbonnaci(8)"
   ]
  },
  {
   "cell_type": "code",
   "execution_count": 15,
   "id": "5d8e7e9d",
   "metadata": {},
   "outputs": [],
   "source": [
    "def fabi(n):\n",
    "    ls = []\n",
    "    a, b = 0, 1\n",
    "    for i in range(n):\n",
    "        ls.append(a)\n",
    "        a,b = b,a+b\n",
    "    return ls"
   ]
  },
  {
   "cell_type": "code",
   "execution_count": 16,
   "id": "67da10bb",
   "metadata": {},
   "outputs": [
    {
     "data": {
      "text/plain": [
       "[0, 1, 1, 2, 3, 5, 8, 13, 21, 34]"
      ]
     },
     "execution_count": 16,
     "metadata": {},
     "output_type": "execute_result"
    }
   ],
   "source": [
    "fabi(10)"
   ]
  },
  {
   "cell_type": "code",
   "execution_count": 1,
   "id": "01c60daf",
   "metadata": {},
   "outputs": [
    {
     "name": "stdout",
     "output_type": "stream",
     "text": [
      "2\n"
     ]
    }
   ],
   "source": [
    "# 0, 1, 1, 2, 3, 5, 8, 13, 21, 34....\n",
    "\n",
    "def fibonnaci(n):\n",
    "    if n <= 1:\n",
    "        return n\n",
    "    else:\n",
    "        return fibonnaci(n-1) + fibonnaci(n-2)\n",
    "print(fibonnaci(3))"
   ]
  },
  {
   "cell_type": "code",
   "execution_count": 14,
   "id": "bad19c19",
   "metadata": {},
   "outputs": [],
   "source": [
    "def fibonacci(n):\n",
    "    if n <= 0:\n",
    "        return []\n",
    "    elif n == 1:\n",
    "        return [0]\n",
    "    elif n == 2:\n",
    "        return [0, 1]\n",
    "    else:\n",
    "        sequence = fibonacci(n-1)\n",
    "        sequence.append(sequence[-1] + sequence[-2])\n",
    "        return sequence"
   ]
  },
  {
   "cell_type": "code",
   "execution_count": 15,
   "id": "4290dac6",
   "metadata": {},
   "outputs": [
    {
     "data": {
      "text/plain": [
       "[0, 1, 1, 2, 3, 5, 8, 13]"
      ]
     },
     "execution_count": 15,
     "metadata": {},
     "output_type": "execute_result"
    }
   ],
   "source": [
    "fibonacci(8)"
   ]
  },
  {
   "cell_type": "code",
   "execution_count": 16,
   "id": "b098a103",
   "metadata": {},
   "outputs": [
    {
     "name": "stdout",
     "output_type": "stream",
     "text": [
      "[0, 1, 1, 2, 3, 5, 8, 13, 21, 34]\n"
     ]
    }
   ],
   "source": [
    "def fibonacci(n):\n",
    "    if n <= 0:\n",
    "        return []\n",
    "    elif n == 1:\n",
    "        return [0]\n",
    "    elif n == 2:\n",
    "        return [0, 1]\n",
    "    else:\n",
    "        fib_sequence = [0, 1]\n",
    "        while len(fib_sequence) < n:\n",
    "            next_number = fib_sequence[-1] + fib_sequence[-2]\n",
    "            fib_sequence.append(next_number)\n",
    "        return fib_sequence\n",
    "\n",
    "# Example usage:\n",
    "n = 10\n",
    "fib_sequence = fibonacci(n)\n",
    "print(fib_sequence)\n"
   ]
  },
  {
   "cell_type": "code",
   "execution_count": 30,
   "id": "dbc5b64c",
   "metadata": {},
   "outputs": [],
   "source": [
    "n =8\n",
    "fib_sequence = [0, 1]\n",
    "while len(fib_sequence) < n:\n",
    "    next_number = fib_sequence[-1] + fib_sequence[-2]\n",
    "    fib_sequence.append(next_number)"
   ]
  },
  {
   "cell_type": "code",
   "execution_count": 31,
   "id": "4ea91e29",
   "metadata": {},
   "outputs": [
    {
     "data": {
      "text/plain": [
       "[0, 1, 1, 2, 3, 5, 8, 13]"
      ]
     },
     "execution_count": 31,
     "metadata": {},
     "output_type": "execute_result"
    }
   ],
   "source": [
    "fib_sequence"
   ]
  },
  {
   "cell_type": "markdown",
   "id": "2973cacf",
   "metadata": {},
   "source": [
    "**Thank you!**"
   ]
  },
  {
   "cell_type": "markdown",
   "id": "cf3b2125",
   "metadata": {},
   "source": [
    "**Ramy Abdallah**"
   ]
  }
 ],
 "metadata": {
  "kernelspec": {
   "display_name": "ML_comp",
   "language": "python",
   "name": "ml_comp"
  },
  "language_info": {
   "codemirror_mode": {
    "name": "ipython",
    "version": 3
   },
   "file_extension": ".py",
   "mimetype": "text/x-python",
   "name": "python",
   "nbconvert_exporter": "python",
   "pygments_lexer": "ipython3",
   "version": "3.9.10"
  }
 },
 "nbformat": 4,
 "nbformat_minor": 5
}
