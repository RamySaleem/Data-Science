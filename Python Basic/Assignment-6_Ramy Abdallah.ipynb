{
 "cells": [
  {
   "cell_type": "markdown",
   "id": "42ca88c2",
   "metadata": {},
   "source": [
    "## Assigment 6"
   ]
  },
  {
   "cell_type": "markdown",
   "id": "aab837cb",
   "metadata": {},
   "source": [
    "**Q.1. What are keywords in python? Using the keyword library, print all the python keywords.**"
   ]
  },
  {
   "cell_type": "code",
   "execution_count": 2,
   "id": "aae482a8",
   "metadata": {},
   "outputs": [],
   "source": [
    "import keyword"
   ]
  },
  {
   "cell_type": "code",
   "execution_count": 14,
   "id": "0c6f6944",
   "metadata": {},
   "outputs": [
    {
     "data": {
      "text/plain": [
       "['False',\n",
       " 'None',\n",
       " 'True',\n",
       " '__peg_parser__',\n",
       " 'and',\n",
       " 'as',\n",
       " 'assert',\n",
       " 'async',\n",
       " 'await',\n",
       " 'break',\n",
       " 'class',\n",
       " 'continue',\n",
       " 'def',\n",
       " 'del',\n",
       " 'elif',\n",
       " 'else',\n",
       " 'except',\n",
       " 'finally',\n",
       " 'for',\n",
       " 'from',\n",
       " 'global',\n",
       " 'if',\n",
       " 'import',\n",
       " 'in',\n",
       " 'is',\n",
       " 'lambda',\n",
       " 'nonlocal',\n",
       " 'not',\n",
       " 'or',\n",
       " 'pass',\n",
       " 'raise',\n",
       " 'return',\n",
       " 'try',\n",
       " 'while',\n",
       " 'with',\n",
       " 'yield']"
      ]
     },
     "execution_count": 14,
     "metadata": {},
     "output_type": "execute_result"
    }
   ],
   "source": [
    "keyword.kwlist"
   ]
  },
  {
   "cell_type": "code",
   "execution_count": 15,
   "id": "aabd1895",
   "metadata": {},
   "outputs": [
    {
     "data": {
      "text/plain": [
       "36"
      ]
     },
     "execution_count": 15,
     "metadata": {},
     "output_type": "execute_result"
    }
   ],
   "source": [
    "len(keyword.kwlist)"
   ]
  },
  {
   "cell_type": "markdown",
   "id": "e324a3ac",
   "metadata": {},
   "source": [
    "**Q.2. What are the rules to create variables in python?**"
   ]
  },
  {
   "cell_type": "markdown",
   "id": "e177d388",
   "metadata": {},
   "source": [
    "There are some rules and guidelines to follow when creating variables:\n",
    "\n",
    "1. Variable Names:\n",
    "   - Variable names can contain letters (a-z, A-Z), digits (0-9), and underscores (_).\n",
    "   - The first character of a variable name cannot be a digit.\n",
    "   - Variable names are case-sensitive, so `myVar` and `myvar` would be considered different variables.\n",
    "   - Variable names should be descriptive and meaningful, reflecting the purpose or content of the variable.\n",
    "\n",
    "2. Reserved Words:\n",
    "   - Python has reserved words, also known as keywords, that cannot be used as variable names since they have special meanings in the language. Examples of reserved words include `if`, `for`, `while`, `def`, `import`, etc.\n",
    "\n",
    "3. Naming Convention:\n",
    "   - It is a convention in Python to use lowercase letters for variable names.\n",
    "   - For multi-word variable names, it is common to use underscores to separate words (e.g., `my_variable`).\n",
    "   - It is recommended to use descriptive names that indicate the purpose or content of the variable.\n",
    "\n",
    "4. Avoiding Built-in Functions or Modules:\n",
    "   - It is best to avoid using names that are already used for built-in functions, modules, or types in Python to prevent conflicts and confusion. For example, it's not advisable to use names like `list`, `str`, or `print` as variable names."
   ]
  },
  {
   "cell_type": "markdown",
   "id": "356f3ad8",
   "metadata": {},
   "source": [
    "**Q.3. What are the standards and conventions followed for the nomenclature of variables in\n",
    "python to improve code readability and maintainability?**"
   ]
  },
  {
   "cell_type": "markdown",
   "id": "68a6dd0d",
   "metadata": {},
   "source": [
    "There are widely accepted standards and conventions for variable naming that help improve code readability and maintainability. These conventions are defined in Python's official style guide called PEP 8 (***Python Enhancement Proposal 8***). Here are some key conventions:\n",
    "\n",
    "1. Variable Names:\n",
    "   - Use lowercase letters for variable names.\n",
    "   - Separate words in variable names with underscores (`snake_case`).\n",
    "   - Variable names should be descriptive and meaningful, conveying the purpose or content of the variable.\n",
    "\n",
    "2. Constants:\n",
    "   - Use uppercase letters for constants.\n",
    "   - Separate words in constant names with underscores (`UPPERCASE_WITH_UNDERSCORES`).\n",
    "   - Constants are usually used for values that are not expected to change throughout the program.\n",
    "\n",
    "3. Naming Conventions:\n",
    "   - Use descriptive and meaningful names for variables to make the code more understandable.\n",
    "   - Avoid single-letter variable names unless they represent common conventions (e.g., `i` for loop index).\n",
    "   - Use nouns or noun phrases for variable names.\n",
    "   - Avoid using ambiguous or misleading names that may cause confusion.\n",
    "\n",
    "4. Avoiding Reserved Words:\n",
    "   - Do not use reserved words or keywords as variable names since they have special meanings in Python."
   ]
  },
  {
   "cell_type": "markdown",
   "id": "76c8ca60",
   "metadata": {},
   "source": [
    "**Q.4. What will happen if a keyword is used as a variable name?**"
   ]
  },
  {
   "cell_type": "markdown",
   "id": "0273d35e",
   "metadata": {},
   "source": [
    "If a keyword is used as a variable name in Python, it will result in a syntax error. "
   ]
  },
  {
   "cell_type": "code",
   "execution_count": 18,
   "id": "7991a9fc",
   "metadata": {},
   "outputs": [
    {
     "ename": "SyntaxError",
     "evalue": "invalid syntax (3594483855.py, line 1)",
     "output_type": "error",
     "traceback": [
      "\u001b[1;36m  File \u001b[1;32m\"C:\\Users\\r04ra18\\AppData\\Local\\Temp\\ipykernel_17824\\3594483855.py\"\u001b[1;36m, line \u001b[1;32m1\u001b[0m\n\u001b[1;33m    def = 10\u001b[0m\n\u001b[1;37m        ^\u001b[0m\n\u001b[1;31mSyntaxError\u001b[0m\u001b[1;31m:\u001b[0m invalid syntax\n"
     ]
    }
   ],
   "source": [
    "def = 10"
   ]
  },
  {
   "cell_type": "markdown",
   "id": "fbc4cdb1",
   "metadata": {},
   "source": [
    "**Q.5. For what purpose def keyword is used?**"
   ]
  },
  {
   "cell_type": "markdown",
   "id": "de234161",
   "metadata": {},
   "source": [
    "The def keyword in Python is used to define a user-defined function. It is one of the fundamental keywords in Python for creating functions."
   ]
  },
  {
   "cell_type": "code",
   "execution_count": 21,
   "id": "e412e08d",
   "metadata": {},
   "outputs": [],
   "source": [
    "def function_name(your_name):\n",
    "    return print(f'Welcom, {your_name}!!')"
   ]
  },
  {
   "cell_type": "code",
   "execution_count": 22,
   "id": "e612decd",
   "metadata": {},
   "outputs": [
    {
     "name": "stdout",
     "output_type": "stream",
     "text": [
      "Welcom, Ramy!!\n"
     ]
    }
   ],
   "source": [
    "function_name('Ramy')"
   ]
  },
  {
   "cell_type": "markdown",
   "id": "0ed86862",
   "metadata": {},
   "source": [
    "**Q.6. What is the operation of this special character ‘\\’?**"
   ]
  },
  {
   "cell_type": "markdown",
   "id": "74034871",
   "metadata": {},
   "source": [
    "The backslash character \\ is used as an escape character in Python. It has special meanings when combined with certain characters to represent various escape sequences. These escape sequences allow you to include special characters or control characters within strings and represent characters that are difficult to type or have special meanings in Python."
   ]
  },
  {
   "cell_type": "code",
   "execution_count": 25,
   "id": "00628664",
   "metadata": {},
   "outputs": [
    {
     "name": "stdout",
     "output_type": "stream",
     "text": [
      "This is a backslash: \\\n",
      "I'm using single quotes.\n",
      "She said, \"Hello!\"\n",
      "First line\n",
      "Second line\n",
      "Tabbed\tText\n"
     ]
    }
   ],
   "source": [
    "print('This is a backslash: \\\\')\n",
    "print('I\\'m using single quotes.')\n",
    "print(\"She said, \\\"Hello!\\\"\")\n",
    "print('First line\\nSecond line')\n",
    "print('Tabbed\\tText')"
   ]
  },
  {
   "cell_type": "markdown",
   "id": "eda8ca13",
   "metadata": {},
   "source": [
    "**Q.7. Give an example of the following conditions:**"
   ]
  },
  {
   "cell_type": "markdown",
   "id": "3efc089e",
   "metadata": {},
   "source": [
    "**(i) Homogeneous list**"
   ]
  },
  {
   "cell_type": "code",
   "execution_count": 42,
   "id": "a4025fcd",
   "metadata": {},
   "outputs": [
    {
     "name": "stdout",
     "output_type": "stream",
     "text": [
      "[0, 1, 2, 3, 4, 5, 6, 7, 8, 9]\n"
     ]
    }
   ],
   "source": [
    "homo_lst = list(range(10))\n",
    "print(homo_lst)"
   ]
  },
  {
   "cell_type": "markdown",
   "id": "abf35a63",
   "metadata": {},
   "source": [
    "**(ii) Heterogeneous set**"
   ]
  },
  {
   "cell_type": "code",
   "execution_count": 43,
   "id": "88f5735a",
   "metadata": {},
   "outputs": [
    {
     "name": "stdout",
     "output_type": "stream",
     "text": [
      "{2, 3, 100, 4, 'five', 7.258, 8.254, 9, 'six', -10}\n"
     ]
    }
   ],
   "source": [
    "heter_set = {100, 2, 3, 4, 'five', 'six', 7.258, 8.254, 9, -10}\n",
    "print(heter_set)"
   ]
  },
  {
   "cell_type": "markdown",
   "id": "e5baa73e",
   "metadata": {},
   "source": [
    "**(iii) Homogeneous tuple**"
   ]
  },
  {
   "cell_type": "code",
   "execution_count": 44,
   "id": "cf9a03a3",
   "metadata": {},
   "outputs": [
    {
     "name": "stdout",
     "output_type": "stream",
     "text": [
      "('apple', 'banana', 'orange', 'grape')\n"
     ]
    }
   ],
   "source": [
    "fruits_tuple = ('apple', 'banana', 'orange', 'grape')\n",
    "\n",
    "print(fruits_tuple)"
   ]
  },
  {
   "cell_type": "markdown",
   "id": "9fc7db0b",
   "metadata": {},
   "source": [
    "**Q.8. Explain the mutable and immutable data types with proper explanation & examples.**"
   ]
  },
  {
   "cell_type": "markdown",
   "id": "bf4dae23",
   "metadata": {},
   "source": [
    "1. Data types can be classified as mutable or immutable based on whether their values can be changed after they are created.\n",
    "\n",
    "Immutable Data Types: Immutable data types are those whose values cannot be modified once they are created. If you want to change the value of an immutable object, you need to create a new object with the updated value. Examples of immutable data types in Python include:\n",
    "        Numbers (integers, floats, complex numbers)\n",
    "        Strings\n",
    "        Tuples"
   ]
  },
  {
   "cell_type": "markdown",
   "id": "034a737f",
   "metadata": {},
   "source": [
    "2. Mutable Data Types: Mutable data types are those that can be modified after they are created. This means you can change their values directly without creating a new object. Examples of mutable data types in Python include:\n",
    "        Lists\n",
    "        Sets\n",
    "        Dictionaries"
   ]
  },
  {
   "cell_type": "code",
   "execution_count": 45,
   "id": "368ccd09",
   "metadata": {},
   "outputs": [
    {
     "name": "stdout",
     "output_type": "stream",
     "text": [
      "[0, 1, 2, 300, 4, 5, 6, 7, 8, 9]\n"
     ]
    }
   ],
   "source": [
    "homo_lst[3] = 300\n",
    "print(homo_lst)"
   ]
  },
  {
   "cell_type": "code",
   "execution_count": 47,
   "id": "b2599e91",
   "metadata": {},
   "outputs": [
    {
     "ename": "TypeError",
     "evalue": "'tuple' object does not support item assignment",
     "output_type": "error",
     "traceback": [
      "\u001b[1;31m---------------------------------------------------------------------------\u001b[0m",
      "\u001b[1;31mTypeError\u001b[0m                                 Traceback (most recent call last)",
      "\u001b[1;32m~\\AppData\\Local\\Temp\\ipykernel_17824\\2193444854.py\u001b[0m in \u001b[0;36m<cell line: 1>\u001b[1;34m()\u001b[0m\n\u001b[1;32m----> 1\u001b[1;33m \u001b[0mfruits_tuple\u001b[0m\u001b[1;33m[\u001b[0m\u001b[1;36m3\u001b[0m\u001b[1;33m]\u001b[0m \u001b[1;33m=\u001b[0m \u001b[1;34m'apple'\u001b[0m\u001b[1;33m\u001b[0m\u001b[1;33m\u001b[0m\u001b[0m\n\u001b[0m",
      "\u001b[1;31mTypeError\u001b[0m: 'tuple' object does not support item assignment"
     ]
    }
   ],
   "source": [
    "fruits_tuple[3] = 'apple'"
   ]
  },
  {
   "cell_type": "markdown",
   "id": "922c9354",
   "metadata": {},
   "source": [
    "**Q.9. Write a code to create the given structure using only for loop.**"
   ]
  },
  {
   "cell_type": "code",
   "execution_count": 48,
   "id": "0bd44d68",
   "metadata": {},
   "outputs": [],
   "source": [
    "# *\n",
    "# ***\n",
    "# *****\n",
    "# *******\n",
    "# ***********"
   ]
  },
  {
   "cell_type": "code",
   "execution_count": 49,
   "id": "5e06a6f3",
   "metadata": {},
   "outputs": [
    {
     "name": "stdout",
     "output_type": "stream",
     "text": [
      "* \n",
      "* * \n",
      "* * * \n",
      "* * * * \n",
      "* * * * * \n",
      "* * * * * * \n"
     ]
    }
   ],
   "source": [
    "rows = 6\n",
    "\n",
    "for i in range(6):\n",
    "    for j in range(i+1):\n",
    "        print('*', end=' ')\n",
    "    print('')"
   ]
  },
  {
   "cell_type": "markdown",
   "id": "94adb60f",
   "metadata": {},
   "source": [
    "**Q.10. Write a code to create the given structure using while loop.**"
   ]
  },
  {
   "cell_type": "code",
   "execution_count": 51,
   "id": "8868fd45",
   "metadata": {},
   "outputs": [],
   "source": [
    "# |||||||||\n",
    "# |||||||\n",
    "# |||||\n",
    "# |||\n",
    "# |"
   ]
  },
  {
   "cell_type": "code",
   "execution_count": 57,
   "id": "25c8e832",
   "metadata": {},
   "outputs": [
    {
     "name": "stdout",
     "output_type": "stream",
     "text": [
      "|||||||||\n",
      "|||||||\n",
      "|||||\n",
      "|||\n",
      "|\n"
     ]
    }
   ],
   "source": [
    "rows = 5\n",
    "\n",
    "count = rows\n",
    "while count >0:\n",
    "    i = 1\n",
    "    while i <= (2*count-1):\n",
    "        print('|', end='')\n",
    "        i += 1\n",
    "    print('')\n",
    "    count -= 1"
   ]
  },
  {
   "cell_type": "markdown",
   "id": "7329949c",
   "metadata": {},
   "source": [
    "**Many thanks!!**\n",
    "\n",
    "**Ramy Abdallah**"
   ]
  }
 ],
 "metadata": {
  "kernelspec": {
   "display_name": "ML_comp",
   "language": "python",
   "name": "ml_comp"
  },
  "language_info": {
   "codemirror_mode": {
    "name": "ipython",
    "version": 3
   },
   "file_extension": ".py",
   "mimetype": "text/x-python",
   "name": "python",
   "nbconvert_exporter": "python",
   "pygments_lexer": "ipython3",
   "version": "3.9.10"
  }
 },
 "nbformat": 4,
 "nbformat_minor": 5
}
